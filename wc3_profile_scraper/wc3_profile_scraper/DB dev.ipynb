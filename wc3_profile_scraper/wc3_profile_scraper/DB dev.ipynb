{
 "cells": [
  {
   "cell_type": "code",
   "execution_count": 88,
   "metadata": {
    "collapsed": true
   },
   "outputs": [],
   "source": [
    "import os\n",
    "import json\n",
    "from google.cloud import bigquery\n",
    "import pandas as pd\n",
    "\n",
    "from history import HistoryPage\n",
    "from profile import Profile"
   ]
  },
  {
   "cell_type": "code",
   "execution_count": 3,
   "metadata": {
    "collapsed": true
   },
   "outputs": [],
   "source": [
    "def create_dataset(dataset_ref, location='US'):\n",
    "    dataset = bigquery.Dataset(dataset_ref)\n",
    "    try:\n",
    "        dataset = client.create_dataset(dataset)\n",
    "        print('\\n-- Dataset {} created --'.format(dataset_id))\n",
    "    except:\n",
    "        print('\\n-- Dataset {} already exists --'.format(dataset_id))\n",
    "        \n",
    "def check_table_exists(table_ref):\n",
    "    try:\n",
    "        client.get_table(table_ref)\n",
    "        return True\n",
    "    except:\n",
    "        return False\n"
   ]
  },
  {
   "cell_type": "code",
   "execution_count": 4,
   "metadata": {
    "collapsed": true
   },
   "outputs": [],
   "source": [
    "def get_schema_from_json(input_json, schema=[]):\n",
    "    if not input_json:\n",
    "        return schema\n",
    "\n",
    "    cur = input_json.pop()\n",
    "    name = cur['name']\n",
    "    field_type = cur['type']\n",
    "    mode = cur['mode']\n",
    "    fields = [] if 'fields' not in cur else get_schema_from_json(cur['fields'], [])\n",
    "    schema.append(bigquery.SchemaField(name=name, field_type=field_type, mode=mode, fields=fields))\n",
    "\n",
    "    return get_schema_from_json(input_json, schema)"
   ]
  },
  {
   "cell_type": "code",
   "execution_count": 5,
   "metadata": {
    "collapsed": true
   },
   "outputs": [],
   "source": [
    "def divide_into_batches(l, n):\n",
    "    \"\"\"Yield successive n-sized chunks from l.\"\"\"\n",
    "    for i in range(0, len(l), n):\n",
    "        yield l[i:i + n]"
   ]
  },
  {
   "cell_type": "code",
   "execution_count": 6,
   "metadata": {
    "collapsed": true
   },
   "outputs": [],
   "source": [
    "bigquery_credpath = os.path.abspath('./BigQuery Reader Project-88493810ca62.json')\n",
    "client = bigquery.Client.from_service_account_json(bigquery_credpath)\n",
    "job_config = bigquery.LoadJobConfig()\n",
    "job_config.skip_leading_rows = 1\n",
    "job_config.autodetect = True\n",
    "\n",
    "dataset_id = 'wc3'\n",
    "dataset_ref = client.dataset(dataset_id)"
   ]
  },
  {
   "cell_type": "code",
   "execution_count": 7,
   "metadata": {},
   "outputs": [
    {
     "name": "stdout",
     "output_type": "stream",
     "text": [
      "\n",
      "-- Dataset wc3 already exists --\n"
     ]
    }
   ],
   "source": [
    "create_dataset(dataset_ref, location='US')"
   ]
  },
  {
   "cell_type": "code",
   "execution_count": 8,
   "metadata": {},
   "outputs": [
    {
     "name": "stdout",
     "output_type": "stream",
     "text": [
      "STARTING\n",
      "\n",
      "-- Dataset wc3 already exists --\n"
     ]
    }
   ],
   "source": [
    "print('STARTING')\n",
    "with open('./table_config.json', 'r') as f:\n",
    "    configurations = json.loads(f.read())\n",
    "dataset_id = 'wc3'\n",
    "dataset_ref = client.dataset(dataset_id)\n",
    "create_dataset(dataset_ref)"
   ]
  },
  {
   "cell_type": "code",
   "execution_count": 9,
   "metadata": {},
   "outputs": [
    {
     "name": "stdout",
     "output_type": "stream",
     "text": [
      "history2\n",
      "[SchemaField('winner', 'STRING', 'REPEATED', None, ()), SchemaField('team_two', 'STRING', 'REPEATED', None, ()), SchemaField('team_one', 'STRING', 'REPEATED', None, ()), SchemaField('map', 'STRING', 'NULLABLE', None, ()), SchemaField('game_id', 'INTEGER', 'NULLABLE', None, ()), SchemaField('game_type', 'STRING', 'NULLABLE', None, ()), SchemaField('game_length', 'INTEGER', 'NULLABLE', None, ()), SchemaField('date', 'DATETIME', 'NULLABLE', None, ())]\n",
      "\n",
      "-- Table TableReference(DatasetReference('bigquery-reader-project', 'wc3'), 'history2') already exists --\n",
      "\n",
      "\n"
     ]
    }
   ],
   "source": [
    "for config in configurations:\n",
    "    config = configurations[0]\n",
    "    table_name = config.get('name')\n",
    "    fields = config.get('fields')\n",
    "    print(table_name)\n",
    "    schema = get_schema_from_json(fields, [])\n",
    "    print(schema)\n",
    "\n",
    "    table_ref = dataset_ref.table(table_name)\n",
    "    table = bigquery.Table(table_ref, schema=schema)\n",
    "    if check_table_exists(table_ref):\n",
    "        print('\\n-- Table {} already exists --\\n\\n'.format(table_ref))\n",
    "\n",
    "    else:\n",
    "        table = client.create_table(table)\n",
    "        file_path = './data_backfill/{}.json'.format(table_name)\n",
    "        with open(file_path, 'r') as f:\n",
    "            data = json.loads(f.read())\n",
    "            print(len(data))\n",
    "\n",
    "        batches = divide_into_batches(data, 10000)\n",
    "        for batch in batches:\n",
    "            errors = client.insert_rows(table, batch)\n",
    "            try:\n",
    "                assert errors == []\n",
    "            except Exception:\n",
    "                print(Exception, errors[0])\n",
    "        print('\\n-- Table {} created --\\n\\n'.format(table_name))"
   ]
  },
  {
   "cell_type": "code",
   "execution_count": null,
   "metadata": {
    "collapsed": true
   },
   "outputs": [],
   "source": [
    "# command = !record followgrubby romantichuman @northrend\n",
    "# inputs = {player_one: followgrubby, player_two:romantichuman}"
   ]
  },
  {
   "cell_type": "code",
   "execution_count": 113,
   "metadata": {
    "collapsed": true
   },
   "outputs": [],
   "source": [
    "data_input = {\n",
    "            'player_one': 'followgrubby',\n",
    "            'player_two': 'Fall3n',\n",
    "            'server': 'northrend'\n",
    "        }"
   ]
  },
  {
   "cell_type": "code",
   "execution_count": 114,
   "metadata": {},
   "outputs": [
    {
     "name": "stdout",
     "output_type": "stream",
     "text": [
      "(1, 10)\n"
     ]
    },
    {
     "data": {
      "text/html": [
       "<div>\n",
       "<style scoped>\n",
       "    .dataframe tbody tr th:only-of-type {\n",
       "        vertical-align: middle;\n",
       "    }\n",
       "\n",
       "    .dataframe tbody tr th {\n",
       "        vertical-align: top;\n",
       "    }\n",
       "\n",
       "    .dataframe thead th {\n",
       "        text-align: right;\n",
       "    }\n",
       "</style>\n",
       "<table border=\"1\" class=\"dataframe\">\n",
       "  <thead>\n",
       "    <tr style=\"text-align: right;\">\n",
       "      <th></th>\n",
       "      <th>winner</th>\n",
       "      <th>team_two</th>\n",
       "      <th>team_one</th>\n",
       "      <th>map</th>\n",
       "      <th>game_id</th>\n",
       "      <th>game_type</th>\n",
       "      <th>game_length</th>\n",
       "      <th>date</th>\n",
       "      <th>first</th>\n",
       "      <th>second</th>\n",
       "    </tr>\n",
       "  </thead>\n",
       "  <tbody>\n",
       "    <tr>\n",
       "      <th>0</th>\n",
       "      <td>[followgrubby]</td>\n",
       "      <td>[Fall3n]</td>\n",
       "      <td>[followgrubby]</td>\n",
       "      <td>Last Refuge-1</td>\n",
       "      <td>79432131</td>\n",
       "      <td>Solo</td>\n",
       "      <td>18</td>\n",
       "      <td>2018-11-01 23:00:00</td>\n",
       "      <td>followgrubby</td>\n",
       "      <td>Fall3n</td>\n",
       "    </tr>\n",
       "  </tbody>\n",
       "</table>\n",
       "</div>"
      ],
      "text/plain": [
       "           winner  team_two        team_one            map   game_id  \\\n",
       "0  [followgrubby]  [Fall3n]  [followgrubby]  Last Refuge-1  79432131   \n",
       "\n",
       "  game_type  game_length                date         first  second  \n",
       "0      Solo           18 2018-11-01 23:00:00  followgrubby  Fall3n  "
      ]
     },
     "execution_count": 114,
     "metadata": {},
     "output_type": "execute_result"
    }
   ],
   "source": [
    "query = ('''SELECT * FROM  `bigquery-reader-project.wc3.{server}`,\n",
    "              UNNEST(team_one) AS first,\n",
    "              UNNEST(team_two) AS second\n",
    "            WHERE \n",
    "                first IN ('{player_one}', '{player_two}') \n",
    "            AND \n",
    "                second in ('{player_one}', '{player_two}')\n",
    "            ORDER BY date DESC\n",
    "        '''.format(**data_input))\n",
    "\n",
    "df = client.query(query).to_dataframe()\n",
    "print(df.shape)\n",
    "df.head(3)"
   ]
  },
  {
   "cell_type": "markdown",
   "metadata": {},
   "source": [
    "### Case 1: No data for record"
   ]
  },
  {
   "cell_type": "code",
   "execution_count": 115,
   "metadata": {},
   "outputs": [],
   "source": [
    "if df.empty:\n",
    "    # Check that these players exist.\n",
    "    try:\n",
    "        history_page_player_one = HistoryPage(data_input.get('player_one'), data_input.get('server'))\n",
    "        history_page_player_two = HistoryPage(data_input.get('player_two'), data_input.get('server'))\n",
    "    except Exception as e:\n",
    "        print(e)\n",
    "        print('Invalid player')"
   ]
  },
  {
   "cell_type": "markdown",
   "metadata": {},
   "source": [
    "### Case 2: Have data for record\n",
    "Make sure it's up to date."
   ]
  },
  {
   "cell_type": "code",
   "execution_count": 116,
   "metadata": {},
   "outputs": [
    {
     "data": {
      "text/plain": [
       "Timestamp('2018-11-01 23:00:00')"
      ]
     },
     "execution_count": 116,
     "metadata": {},
     "output_type": "execute_result"
    }
   ],
   "source": [
    "last_date = df.loc[0, 'date']\n",
    "last_date"
   ]
  },
  {
   "cell_type": "code",
   "execution_count": null,
   "metadata": {
    "collapsed": true
   },
   "outputs": [],
   "source": [
    "# Start scraping history until this datqe.\n",
    "# Update database.\n",
    "# Join old and new.\n",
    "# Calculate record."
   ]
  },
  {
   "cell_type": "code",
   "execution_count": 117,
   "metadata": {
    "collapsed": true
   },
   "outputs": [],
   "source": [
    "history_page = HistoryPage(data_input.get('player_one'), data_input.get('server'))"
   ]
  },
  {
   "cell_type": "code",
   "execution_count": 118,
   "metadata": {},
   "outputs": [],
   "source": [
    "data = list(history_page.games())"
   ]
  },
  {
   "cell_type": "code",
   "execution_count": 122,
   "metadata": {},
   "outputs": [
    {
     "data": {
      "text/html": [
       "<div>\n",
       "<style scoped>\n",
       "    .dataframe tbody tr th:only-of-type {\n",
       "        vertical-align: middle;\n",
       "    }\n",
       "\n",
       "    .dataframe tbody tr th {\n",
       "        vertical-align: top;\n",
       "    }\n",
       "\n",
       "    .dataframe thead th {\n",
       "        text-align: right;\n",
       "    }\n",
       "</style>\n",
       "<table border=\"1\" class=\"dataframe\">\n",
       "  <thead>\n",
       "    <tr style=\"text-align: right;\">\n",
       "      <th></th>\n",
       "      <th>date</th>\n",
       "      <th>game_id</th>\n",
       "      <th>game_length</th>\n",
       "      <th>game_type</th>\n",
       "      <th>map</th>\n",
       "      <th>team_one</th>\n",
       "      <th>team_two</th>\n",
       "      <th>winner</th>\n",
       "    </tr>\n",
       "  </thead>\n",
       "  <tbody>\n",
       "    <tr>\n",
       "      <th>0</th>\n",
       "      <td>2018-12-01 19:25:00</td>\n",
       "      <td>79811389</td>\n",
       "      <td>5</td>\n",
       "      <td>Solo</td>\n",
       "      <td>Last Refuge</td>\n",
       "      <td>[followgrubby]</td>\n",
       "      <td>[Kuoro-Eetu]</td>\n",
       "      <td>[followgrubby]</td>\n",
       "    </tr>\n",
       "    <tr>\n",
       "      <th>1</th>\n",
       "      <td>2018-12-01 19:18:00</td>\n",
       "      <td>79811310</td>\n",
       "      <td>9</td>\n",
       "      <td>Solo</td>\n",
       "      <td>Northern Isles</td>\n",
       "      <td>[followgrubby]</td>\n",
       "      <td>[Fall3n]</td>\n",
       "      <td>[followgrubby]</td>\n",
       "    </tr>\n",
       "    <tr>\n",
       "      <th>2</th>\n",
       "      <td>2018-11-28 02:46:00</td>\n",
       "      <td>79780015</td>\n",
       "      <td>8</td>\n",
       "      <td>Solo</td>\n",
       "      <td>Concealed Hill</td>\n",
       "      <td>[followgrubby]</td>\n",
       "      <td>[4222222222222]</td>\n",
       "      <td>[followgrubby]</td>\n",
       "    </tr>\n",
       "  </tbody>\n",
       "</table>\n",
       "</div>"
      ],
      "text/plain": [
       "                 date   game_id  game_length game_type             map  \\\n",
       "0 2018-12-01 19:25:00  79811389            5      Solo     Last Refuge   \n",
       "1 2018-12-01 19:18:00  79811310            9      Solo  Northern Isles   \n",
       "2 2018-11-28 02:46:00  79780015            8      Solo  Concealed Hill   \n",
       "\n",
       "         team_one         team_two          winner  \n",
       "0  [followgrubby]     [Kuoro-Eetu]  [followgrubby]  \n",
       "1  [followgrubby]         [Fall3n]  [followgrubby]  \n",
       "2  [followgrubby]  [4222222222222]  [followgrubby]  "
      ]
     },
     "execution_count": 122,
     "metadata": {},
     "output_type": "execute_result"
    }
   ],
   "source": [
    "df_new = pd.DataFrame(data)\n",
    "df_new['date'] = pd.to_datetime(df_new['date'])\n",
    "df_new[df_new['date'] > last_date]\n",
    "df_new.head(3)"
   ]
  },
  {
   "cell_type": "code",
   "execution_count": null,
   "metadata": {
    "collapsed": true
   },
   "outputs": [],
   "source": [
    "if not df_new.empty:\n",
    "    # Upload to BQ\n",
    "    # Combine\n",
    "    pass"
   ]
  },
  {
   "cell_type": "code",
   "execution_count": 129,
   "metadata": {},
   "outputs": [
    {
     "data": {
      "text/plain": [
       "0     [followgrubby]\n",
       "1     [followgrubby]\n",
       "2     [followgrubby]\n",
       "3     [followgrubby]\n",
       "4     [followgrubby]\n",
       "5     [followgrubby]\n",
       "6     [followgrubby]\n",
       "7     [followgrubby]\n",
       "8     [followgrubby]\n",
       "9     [followgrubby]\n",
       "10    [followgrubby]\n",
       "11    [followgrubby]\n",
       "12    [followgrubby]\n",
       "13    [followgrubby]\n",
       "14    [followgrubby]\n",
       "15    [followgrubby]\n",
       "16    [followgrubby]\n",
       "17    [followgrubby]\n",
       "18    [followgrubby]\n",
       "Name: team_one, dtype: object"
      ]
     },
     "execution_count": 129,
     "metadata": {},
     "output_type": "execute_result"
    }
   ],
   "source": [
    "df_new['team_one']"
   ]
  },
  {
   "cell_type": "code",
   "execution_count": null,
   "metadata": {
    "collapsed": true
   },
   "outputs": [],
   "source": []
  },
  {
   "cell_type": "code",
   "execution_count": 63,
   "metadata": {},
   "outputs": [
    {
     "data": {
      "text/html": [
       "<div>\n",
       "<style scoped>\n",
       "    .dataframe tbody tr th:only-of-type {\n",
       "        vertical-align: middle;\n",
       "    }\n",
       "\n",
       "    .dataframe tbody tr th {\n",
       "        vertical-align: top;\n",
       "    }\n",
       "\n",
       "    .dataframe thead th {\n",
       "        text-align: right;\n",
       "    }\n",
       "</style>\n",
       "<table border=\"1\" class=\"dataframe\">\n",
       "  <thead>\n",
       "    <tr style=\"text-align: right;\">\n",
       "      <th></th>\n",
       "      <th>date</th>\n",
       "      <th>game_id</th>\n",
       "      <th>game_length</th>\n",
       "      <th>game_type</th>\n",
       "      <th>map</th>\n",
       "      <th>team_one</th>\n",
       "      <th>team_two</th>\n",
       "      <th>winner</th>\n",
       "    </tr>\n",
       "  </thead>\n",
       "  <tbody>\n",
       "  </tbody>\n",
       "</table>\n",
       "</div>"
      ],
      "text/plain": [
       "Empty DataFrame\n",
       "Columns: [date, game_id, game_length, game_type, map, team_one, team_two, winner]\n",
       "Index: []"
      ]
     },
     "execution_count": 63,
     "metadata": {},
     "output_type": "execute_result"
    }
   ],
   "source": []
  },
  {
   "cell_type": "code",
   "execution_count": null,
   "metadata": {
    "collapsed": true
   },
   "outputs": [],
   "source": [
    "# 2 cases:\n",
    "# No new games.\n",
    "# New games. Loop through game history until we have everything."
   ]
  }
 ],
 "metadata": {
  "kernelspec": {
   "display_name": "Python 3",
   "language": "python",
   "name": "python3"
  },
  "language_info": {
   "codemirror_mode": {
    "name": "ipython",
    "version": 3
   },
   "file_extension": ".py",
   "mimetype": "text/x-python",
   "name": "python",
   "nbconvert_exporter": "python",
   "pygments_lexer": "ipython3",
   "version": "3.6.5"
  },
  "toc": {
   "base_numbering": 1,
   "nav_menu": {},
   "number_sections": true,
   "sideBar": true,
   "skip_h1_title": false,
   "title_cell": "Table of Contents",
   "title_sidebar": "Contents",
   "toc_cell": false,
   "toc_position": {},
   "toc_section_display": true,
   "toc_window_display": false
  },
  "varInspector": {
   "cols": {
    "lenName": 16,
    "lenType": 16,
    "lenVar": 40
   },
   "kernels_config": {
    "python": {
     "delete_cmd_postfix": "",
     "delete_cmd_prefix": "del ",
     "library": "var_list.py",
     "varRefreshCmd": "print(var_dic_list())"
    },
    "r": {
     "delete_cmd_postfix": ") ",
     "delete_cmd_prefix": "rm(",
     "library": "var_list.r",
     "varRefreshCmd": "cat(var_dic_list()) "
    }
   },
   "types_to_exclude": [
    "module",
    "function",
    "builtin_function_or_method",
    "instance",
    "_Feature"
   ],
   "window_display": false
  }
 },
 "nbformat": 4,
 "nbformat_minor": 2
}
