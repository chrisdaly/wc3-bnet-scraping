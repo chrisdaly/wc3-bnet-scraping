{
 "cells": [
  {
   "cell_type": "code",
   "execution_count": 1,
   "metadata": {},
   "outputs": [],
   "source": [
    "import os\n",
    "import json\n",
    "from google.cloud import bigquery\n",
    "import pandas as pd\n",
    "import dateparser\n",
    "from history_page import HistoryPage\n",
    "from profile_page import ProfilePage"
   ]
  },
  {
   "cell_type": "code",
   "execution_count": 2,
   "metadata": {
    "collapsed": true
   },
   "outputs": [],
   "source": [
    "def create_dataset(dataset_ref, location='US'):\n",
    "    dataset = bigquery.Dataset(dataset_ref)\n",
    "    try:\n",
    "        dataset = client.create_dataset(dataset)\n",
    "        print('\\n-- Dataset {} created --'.format(dataset_id))\n",
    "    except:\n",
    "        print('\\n-- Dataset {} already exists --'.format(dataset_id))\n",
    "        \n",
    "def check_table_exists(table_ref):\n",
    "    try:\n",
    "        client.get_table(table_ref)\n",
    "        return True\n",
    "    except:\n",
    "        return False\n"
   ]
  },
  {
   "cell_type": "code",
   "execution_count": 3,
   "metadata": {
    "collapsed": true
   },
   "outputs": [],
   "source": [
    "def get_schema_from_json(json, schema=[]):\n",
    "    input_json = json.copy()\n",
    "    if not input_json:\n",
    "        return schema\n",
    "\n",
    "    cur = input_json.pop()\n",
    "    name = cur['name']\n",
    "    field_type = cur['type']\n",
    "    mode = cur['mode']\n",
    "    fields = [] if 'fields' not in cur else get_schema_from_json(cur['fields'], [])\n",
    "    schema.append(bigquery.SchemaField(name=name, field_type=field_type, mode=mode, fields=fields))\n",
    "\n",
    "    return get_schema_from_json(input_json, schema)"
   ]
  },
  {
   "cell_type": "code",
   "execution_count": 4,
   "metadata": {
    "collapsed": true
   },
   "outputs": [],
   "source": [
    "def divide_into_batches(l, n):\n",
    "    \"\"\"Yield successive n-sized chunks from l.\"\"\"\n",
    "    for i in range(0, len(l), n):\n",
    "        yield l[i:i + n]"
   ]
  },
  {
   "cell_type": "code",
   "execution_count": 5,
   "metadata": {
    "collapsed": true
   },
   "outputs": [],
   "source": [
    "def database_setup(configuration, client, dataset_id):\n",
    "    dataset_ref = client.dataset(dataset_id)\n",
    "    create_dataset(dataset_ref, location='US')\n",
    "    \n",
    "    for table_name in ['northrend', 'azeroth', 'lorderon']:\n",
    "        fields = configuration.get('fields')\n",
    "        schema = get_schema_from_json(fields, [])\n",
    "        file_path = './data_backfill/{}.json'.format(table_name)\n",
    "        try:\n",
    "            with open(file_path, 'r') as f:\n",
    "                data = json.loads(f.read())\n",
    "            create_table(table_name, schema, data)\n",
    "        except Exception:\n",
    "            print('No data found')"
   ]
  },
  {
   "cell_type": "code",
   "execution_count": 6,
   "metadata": {},
   "outputs": [],
   "source": [
    "def create_table(table_name, schema, data):\n",
    "    table_ref = dataset_ref.table(table_name)\n",
    "    table = bigquery.Table(table_ref, schema=schema)\n",
    "    if check_table_exists(table_ref):\n",
    "        print('\\n-- Table {} already exists --\\n'.format(table_ref))\n",
    "        return\n",
    "    \n",
    "    table = client.create_table(table)\n",
    "    batches = divide_into_batches(data, 10000)\n",
    "    for batch in batches:\n",
    "        errors = client.insert_rows(table, batch)\n",
    "        try:\n",
    "            assert errors == []\n",
    "        except Exception:\n",
    "            print(Exception, errors[0])\n",
    "    print('\\n-- Table {} created --\\n'.format(table_name))"
   ]
  },
  {
   "cell_type": "code",
   "execution_count": 7,
   "metadata": {
    "collapsed": true
   },
   "outputs": [],
   "source": [
    "def update_table(table_name, new_games):\n",
    "    dataset_ref = client.dataset(dataset_id)\n",
    "    table_ref = dataset_ref.table(table_name)\n",
    "    table = client.get_table(table_ref)\n",
    "    errors = client.insert_rows(table, new_games)\n",
    "    print('Uploaded {} new games'.format(len('new_games')))"
   ]
  },
  {
   "cell_type": "code",
   "execution_count": null,
   "metadata": {},
   "outputs": [],
   "source": []
  },
  {
   "cell_type": "markdown",
   "metadata": {},
   "source": [
    "## Dev records"
   ]
  },
  {
   "cell_type": "code",
   "execution_count": 8,
   "metadata": {
    "collapsed": true
   },
   "outputs": [],
   "source": [
    "# command = !record followgrubby romantichuman @northrend\n",
    "# inputs = {player_one: followgrubby, player_two:romantichuman}"
   ]
  },
  {
   "cell_type": "code",
   "execution_count": 9,
   "metadata": {
    "collapsed": true
   },
   "outputs": [],
   "source": [
    "bigquery_credpath = os.path.abspath('/Users/cdaly/Box Sync/Daly, Christopher/Keys/BigQuery Reader Project-88493810ca62.json')\n",
    "client = bigquery.Client.from_service_account_json(bigquery_credpath)\n",
    "job_config = bigquery.LoadJobConfig()\n",
    "job_config.skip_leading_rows = 1\n",
    "job_config.autodetect = True\n",
    "dataset_id = 'wc3'"
   ]
  },
  {
   "cell_type": "markdown",
   "metadata": {},
   "source": [
    "## Get the most recent data for player one"
   ]
  },
  {
   "cell_type": "code",
   "execution_count": 27,
   "metadata": {
    "collapsed": true
   },
   "outputs": [],
   "source": [
    "def get_last_bq_date(client, player, server):\n",
    "    query = ('''SELECT date FROM  `bigquery-reader-project.wc3.{}`,\n",
    "              UNNEST(team_one) AS first\n",
    "            WHERE \n",
    "                first IN ('{}') \n",
    "            ORDER BY date DESC LIMIT 1\n",
    "        '''.format(server, player))\n",
    "\n",
    "    job = client.query(query)\n",
    "    results = list(job.result())\n",
    "    if len(results) == 0:\n",
    "        print('Player ({}) not in table ({}).'.format(player, server))\n",
    "        return None\n",
    "    row = results[0]\n",
    "    last_bq_date = row.get('date')\n",
    "    print('Last BigQuery date: {}'.format(last_bq_date))\n",
    "    return last_bq_date"
   ]
  },
  {
   "cell_type": "code",
   "execution_count": 11,
   "metadata": {
    "collapsed": true
   },
   "outputs": [],
   "source": [
    "def get_games_between_players(client, players, server):\n",
    "    query = ('''SELECT * FROM  `bigquery-reader-project.wc3.{}`,\n",
    "              UNNEST(team_one) AS first,\n",
    "              UNNEST(team_two) AS second\n",
    "            WHERE \n",
    "                first IN ('{player_one}', '{player_two}') \n",
    "            AND \n",
    "                second in ('{player_one}', '{player_two}')\n",
    "            ORDER BY date DESC\n",
    "        '''.format(server, **players))\n",
    "\n",
    "    job = client.query(query)\n",
    "    results = job.to_dataframe().to_dict(orient='records')\n",
    "    if len(results) == 0:\n",
    "        print('No games between ({player_one}) and ({player_two}) in database.'.format(**players))\n",
    "    return results"
   ]
  },
  {
   "cell_type": "code",
   "execution_count": 37,
   "metadata": {},
   "outputs": [],
   "source": [
    "def get_new_games(player, server, last_bq_date=None):\n",
    "    print('Looking for new games...')\n",
    "    def no_more_dates():\n",
    "        if last_bq_date is None:\n",
    "            return False\n",
    "        else:\n",
    "            return current_date <= last_bq_date\n",
    "        \n",
    "    def no_more_pages():\n",
    "        return page >= next_page\n",
    "    \n",
    "    new_games = []\n",
    "    page = 1\n",
    "    \n",
    "    while True:\n",
    "        \n",
    "        history_page = HistoryPage(player, server, page)\n",
    "        games = history_page.games()\n",
    "        next_page = history_page.next_page\n",
    "\n",
    "        for d in games:\n",
    "            current_date = dateparser.parse(d.get('date'))\n",
    "            if no_more_dates():\n",
    "                return new_games\n",
    "            else:\n",
    "                new_games.append(d)\n",
    "        \n",
    "        if no_more_pages():\n",
    "            return new_games\n",
    "        else:\n",
    "            page = next_page"
   ]
  },
  {
   "cell_type": "code",
   "execution_count": 51,
   "metadata": {
    "collapsed": true
   },
   "outputs": [],
   "source": [
    "history_page = HistoryPage(player, server)"
   ]
  },
  {
   "cell_type": "code",
   "execution_count": null,
   "metadata": {
    "collapsed": true
   },
   "outputs": [],
   "source": []
  },
  {
   "cell_type": "code",
   "execution_count": 54,
   "metadata": {},
   "outputs": [
    {
     "data": {
      "text/plain": [
       "b'\\r\\n\\r\\n\\r\\n\\r\\n<!DOCTYPE HTML PUBLIC \"-//W3C//DTD HTML 4.0 Transitional//EN\" >\\r\\n<HTML>\\r\\n\\t<HEAD>\\r\\n\\t\\t<title>Frozen Throne - Northrend - rellik - Player Full Game Listings</title>\\r\\n\\t\\t<link rel=\"stylesheet\" type=\"text/css\" href=\"/war3/includes/war3-human-ie.css\">\\r\\n\\t\\t<link rel=\"stylesheet\" type=\"text/css\" href=\"war3-ladder-ranking.css\">\\r\\n\\t\\r\\n\\t\\t\\r\\n\\t</HEAD>\\r\\n\\t<body bgcolor=\"#000000\" marginheight=\"0\" marginwidth=\"0\" topmargin=\"0\" leftmargin=\"0\">\\r\\n\\t\\t\\t\\t\\t\\t<DIV style = \"POSITION: absolute; WIDTH: 100%; TEXT-ALIGN: center; TOP: 85px;\"><center><div style = \"width: 650px;\">\\r\\n\\t\\t\\t\\t\\t\\t<small><a href = \"w3xp-ladders.aspx?Gateway=Northrend\">Ladders Home</a> > <a href = \"w3xp-player-profile.aspx?Gateway=Northrend&PlayerName=rellik\">Player Profile</a> | \\r\\n\\t\\t\\t\\t\\t\\t <a href = \"w3xp-player-stats.aspx?Gateway=Northrend&PlayerName=rellik\">Player Statistics</a> | \\r\\n\\t\\t\\t\\t\\t\\t <a href = \"w3xp-player-reports-overall.aspx?Gateway=Northrend&PlayerName=rellik\">Overall Reports</a> |\\r\\n\\t\\t\\t\\t\\t\\t <a href = \"w3xp-player-reports-map-by-race.aspx?Gateway=Northrend&PlayerName=rellik\">Map by Race Reports</a> <br>\\r\\n\\t\\t\\t\\t\\t\\t <a href = \"w3xp-player-reports-solo.aspx?Gateway=Northrend&PlayerName=rellik\">Solo/FFA Reports</a> |\\r\\n\\t\\t\\t\\t\\t\\t <a href = \"w3xp-player-reports-random-team.aspx?Gateway=Northrend&PlayerName=rellik\">Random Team Reports</a> |\\r\\n\\t\\t\\t\\t\\t\\t <a href = \"w3xp-player-arranged-teams.aspx?Gateway=Northrend&PlayerName=rellik\">Arranged Teams List</a> | \\r\\n\\t\\t\\t\\t\\t\\t <a href = \"w3xp-player-reports-arranged-team.aspx?Gateway=Northrend&PlayerName=rellik\">Arranged Team Reports</a> | \\r\\n\\t\\t\\t\\t\\t\\t <b>Full Game Listings</b>\\t\\t\\t\\t\\t\\t \\r\\n\\t\\t\\t\\t\\t\\t </small>\\t\\t\\t\\t\\t\\r\\n\\t\\t\\t\\t\\t\\t</DIV></center></DIV>\\r\\n\\t\\t\\r\\n<script language=\"JavaScript\" src=\"/war3/includes/layerFunctions.js\"></script>\\r\\n<script language=\"JavaScript\" src=\"/war3/includes/detection2.js\"></script>\\r\\n<script language=\"JavaScript\" src=\"/war3/ladder/detection.js\"></script>\\r\\n\\r\\n<!--- Google Analytics -------------------------------->\\r\\n<script type=\"text/javascript\">\\r\\nvar gaJsHost = ((\"https:\" == document.location.protocol) ? \"https://ssl.\" : \"http://www.\");\\r\\ndocument.write(unescape(\"%3Cscript src=\\'\" + gaJsHost + \"google-analytics.com/ga.js\\' type=\\'text/javascript\\'%3E%3C/script%3E\"));\\r\\n</script>\\r\\n<script type=\"text/javascript\">\\r\\nvar pageTracker = _gat._getTracker(\"UA-544112-16\");\\r\\npageTracker._setDomainName(\"battle.net\");\\r\\npageTracker._initData();\\r\\npageTracker._trackPageview();\\r\\n</script>\\r\\n\\r\\n<DIV ID = \"mouseTrap\" style = \"position: absolute; Z-INDEX: 50; visibility: hidden; text-align: center; width: 100%;\">\\t\\t\\r\\n\\r\\n<a href = \"#\" onMouseOver = \"javascript:hideLayer(\\'gatewayMenu\\'); hideLayer(\\'gameMenu\\'); hideLayer(\\'sectionMenu\\'); hideLayer(\\'mouseTrap\\');\"><img src = \"/war3/images/pixel.gif\" width = \"525\" height = \"180\" border = \"0\"></a>\\r\\n\\r\\n</DIV>\\r\\n\\t\\t\\r\\n\\t\\t<!--\\r\\n\\t\\t<DIV style = \"POSITION: absolute; WIDTH: 100%; TEXT-ALIGN: center; TOP: 75px;\"><center><div style = \"width: 650px;\">\\r\\n\\r\\n\\t\\t<table cellpadding = \"0\" cellspacing = \"2\" border = \"0\"><tr><td><img src = \"/war3/images/ladder-revise/ladder-icon-mini.gif\" width = \"16\" height = \"16\"></td><td><small><a href=\"w3xp-ladders.aspx?Gateway=Northrend\">Ladder Site</a></small></td><td><small>&nbsp;|&nbsp;</small></td><td><img src = \"/war3/images/ladder-revise/tourney-icon-mini.gif\" width = \"15\" height = \"16\"></td><td><small><b>Tournament Site</b></small></td></tr></table>\\r\\n\\r\\n\\t\\t</DIV></center></DIV>\\r\\n\\t\\t-->\\t\\r\\n\\t\\t\\r\\n<MAP NAME=\"sunken_ruins_tourney_header_Map\">\\r\\n<AREA SHAPE=\"poly\" ALT=\"Sunken Ruins Tournament Information\" COORDS=\"-1,15, 18,1, 71,1, 91,16, 485,16, 485,47, 76,47, 68,64, 20,64\" HREF=\"gateway-select.aspx\">\\r\\n</MAP>\\t\\t\\t\\r\\n\\t\\t\\r\\n<MAP NAME=\"header_map1\">\\r\\n<AREA SHAPE=\"rect\" ALT=\"\" COORDS=\"45,0,135,75\" HREF=\"w3xp-Ladders.aspx?Gateway=Northrend\">\\r\\n</MAP>\\r\\n\\t\\t\\r\\n<MAP NAME=\"header_map2\">\\r\\n<AREA SHAPE=\"rect\" ALT=\"\" COORDS=\"0,8,296,30\" HREF=\"w3xp-Ladders.aspx?Gateway=Northrend\">\\r\\n</MAP>\\r\\n\\t\\t\\r\\n<table cellspacing = \"0\" cellpadding = \"0\" border = \"0\" width = \"100%\" height = \"100%\" class = \"mainTable\">\\r\\n<form method=get >\\r\\n<tr height = \"75\">\\r\\n\\t<td colspan = \"3\" style = \"BACKGROUND-IMAGE: url(\\'/war3/images/ladder-revise/left-bg.gif\\');  BACKGROUND-REPEAT: repeat-y; BACKGROUND-POSITION: left;\" valign = \"top\">\\r\\n\\t\\t<table background = \"/war3/images/ladder-revise/top-bg.gif\" cellspacing = \"0\" cellpadding = \"0\" border = \"0\" width = \"100%\">\\r\\n\\t\\t<tr>\\r\\n\\t\\t\\t<td width = \"15\"><img src = \"/war3/images/ladder-revise/top-left.gif\" width = \"15\" height = \"75\"></td>\\r\\n\\t\\t\\t<td width = \"100%\" align = \"center\">\\r\\n\\t\\t\\t\\t<table background = \"/war3/images/ladder-revise/headers/W3XP-Northrend-Ladders.gif\" cellspacing = \"0\" cellpadding = \"0\" width = \"505\" border = \"0\">\\r\\n\\t\\t\\t\\t\\r\\n\\r\\n\\t\\t\\t\\t<tr>\\r\\n\\t\\t\\t\\t\\t<td rowspan = \"3\"><img src = \"/war3/images/pixel.gif\" width = \"135\" height = \"75\" border = \"0\" usemap = \"#header_map1\"></td>\\r\\n\\t\\t\\t\\t\\t<td><img src = \"/war3/images/pixel.gif\" width = \"371\" height = \"33\" border = \"0\" usemap = \"#header_map2\"></td>\\r\\n\\t\\t\\t\\t</tr>\\r\\n\\t\\t\\t\\t<tr>\\r\\n\\t\\t\\t\\t\\t<td>\\r\\n\\t\\t\\t\\t\\t\\t<table cellspacing = \"0\" cellpadding = \"0\" border = \"0\" width = \"292\">\\r\\n\\t\\t\\t\\t\\t\\r\\n\\t\\t\\t\\t\\t\\t<tr>\\r\\n\\t\\t\\t\\t\\t\\t\\t<td width = \"111\" valign = \"top\"><div id = \"gameMenu\" style = \"position: absolute; width: 111px; visibility: hidden; Z-INDEX: 100;\">\\r\\n\\t\\t\\t\\t\\t\\t\\t\\t\\r\\n\\t\\t\\t\\t\\t\\t\\t<table cellspacing=\"0\" cellpadding=\"0\" width=\"100%\">\\r\\n\\t\\t\\t\\t\\t\\t\\t<tr>\\r\\n\\t\\t\\t\\t\\t\\t\\t\\t<td class=\"headerOutline\" width=\"100%\" bgcolor = \"black\">\\t\\t\\t\\t\\t\\t\\t\\t\\r\\n\\t\\t\\t\\t\\t\\t\\t\\t\\r\\n\\t\\t\\t\\t\\t\\t\\t\\t\\t<table cellspacing = \"0\" cellpadding = \"0\" border = \"0\" width = \"100%\">\\r\\n\\t\\t\\t\\r\\n\\t\\t\\t\\t\\t\\t\\t\\t\\t<tr>\\r\\n\\t\\t\\t\\t\\t\\t\\t\\t\\t\\t<td class = \"menuHeader\"><small><a href = \"/war3/ladder/w3xp-player-logged-games.aspx?Gateway=Northrend&PlayerName=rellik\" class=\"button\"><img src = \"/war3/images/pixel.gif\" width = \"3\" height = \"7\" border = \"0\">Frozen Throne<img src = \"/war3/images/ladder-revise/pulldown-arrow.gif\" width = \"11\" height = \"7\" border = \"0\"></a></small></td>\\r\\n\\t\\t\\t\\t\\t\\t\\t\\t\\t</tr>\\r\\n\\t\\t\\t\\r\\n\\t\\t\\t\\t\\t\\t\\t\\t\\t<tr>\\r\\n\\t\\t\\t\\t\\t\\t\\t\\t\\t\\t<td class = \"menuHeader\"><small><a href = \"/war3/ladder/war3-player-logged-games.aspx?Gateway=Northrend&PlayerName=rellik\" class=\"button\"><img src = \"/war3/images/pixel.gif\" width = \"3\" height = \"7\" border = \"0\">Reign of Chaos</a></small></td>\\r\\n\\t\\t\\t\\t\\t\\t\\t\\t\\t</tr>\\r\\n\\t\\t\\t\\r\\n\\t\\t\\t\\t\\t\\t\\t\\t\\t\\t\\t\\t\\t\\t\\t\\t\\t\\t\\t\\t\\t\\t\\t\\t\\t\\r\\n\\t\\t\\t\\t\\t\\t\\t\\t\\t</table>\\r\\n\\t\\t\\t\\t\\t\\t\\t\\t\\t\\r\\n\\t\\t\\t\\t\\t\\t\\t\\t</td>\\r\\n\\t\\t\\t\\t\\t\\t\\t</tr>\\r\\n\\t\\t\\t\\t\\t\\t\\t</table>\\r\\n\\t\\t\\t\\t\\t\\t\\t\\t\\t\\r\\n\\t\\t\\t\\t\\t\\t\\t\\t\\t</div><table cellspacing = \"0\" cellpadding = \"7\" border = \"0\" width = \"100%\"><tr><td><small><a href = \"/war3/ladder/w3xp-player-logged-games.aspx?Gateway=Northrend&PlayerName=rellik\" onMouseOver = \"javascript:showLayer(\\'gameMenu\\'); showLayer(\\'mouseTrap\\');\"><img src = \"/war3/images/pixel.gif\" width = \"3\" height = \"7\" border = \"0\">Frozen Throne<img src = \"/war3/images/ladder-revise/pulldown-arrow.gif\" width = \"11\" height = \"7\" border = \"0\"></a></small></td></tr></table></td>\\r\\n\\t\\t\\t\\r\\n\\r\\n\\t\\t\\t\\t\\t\\t\\t<td width = \"1\"><img src = \"/war3/images/pixel.gif\" width = \"1\" height = \"22\"></td>\\r\\n\\t\\t\\t\\t\\t\\t\\t<td width = \"89\" valign = \"top\"><div id = \"gatewayMenu\" style = \"position: absolute; width: 89px; visibility: hidden; Z-INDEX: 101;\">\\r\\n\\t\\t\\t\\t\\t\\t\\t\\t\\r\\n\\t\\t\\t\\t\\t\\t\\t<table cellspacing=\"0\" cellpadding=\"0\" width=\"100%\">\\r\\n\\t\\t\\t\\t\\t\\t\\t<tr>\\r\\n\\t\\t\\t\\t\\t\\t\\t\\t<td class=\"headerOutline\" width=\"100%\" bgcolor = \"black\">\\t\\t\\t\\t\\t\\t\\t\\t\\r\\n\\t\\t\\t\\t\\t\\t\\t\\t\\r\\n\\t\\t\\t\\t\\t\\t\\t\\t\\t<table cellspacing = \"0\" cellpadding = \"0\" border = \"0\" width = \"100%\">\\r\\n\\t\\t\\t\\r\\n\\t\\t\\t\\t\\t\\t\\t\\t\\t<tr>\\r\\n\\t\\t\\t\\t\\t\\t\\t\\t\\t\\t<td class = \"menuHeader\"><small><a href = \"/war3/ladder/w3xp-player-logged-games.aspx?Gateway=Northrend&PlayerName=rellik\" class=\"button\"><img src = \"/war3/images/pixel.gif\" width = \"3\" height = \"7\" border = \"0\">Northrend<img src = \"/war3/images/ladder-revise/pulldown-arrow.gif\" width = \"11\" height = \"7\" border = \"0\"></a></small></td>\\r\\n\\t\\t\\t\\t\\t\\t\\t\\t\\t</tr>\\r\\n\\t\\t\\t\\r\\n\\t\\t\\t\\t\\t\\t\\t\\t\\t<tr>\\r\\n\\t\\t\\t\\t\\t\\t\\t\\t\\t\\t<td class = \"menuHeader\"><small><a href = \"/war3/ladder/w3xp-player-logged-games.aspx?Gateway=Lordaeron&playername=rellik\" class=\"button\"><img src = \"/war3/images/pixel.gif\" width = \"3\" height = \"7\" border = \"0\">Lordaeron</a></small></td>\\r\\n\\t\\t\\t\\t\\t\\t\\t\\t\\t</tr>\\r\\n\\t\\t\\t\\r\\n\\t\\t\\t\\t\\t\\t\\t\\t\\t<tr>\\r\\n\\t\\t\\t\\t\\t\\t\\t\\t\\t\\t<td class = \"menuHeader\"><small><a href = \"/war3/ladder/w3xp-player-logged-games.aspx?Gateway=Azeroth&playername=rellik\" class=\"button\"><img src = \"/war3/images/pixel.gif\" width = \"3\" height = \"7\" border = \"0\">Azeroth</a></small></td>\\r\\n\\t\\t\\t\\t\\t\\t\\t\\t\\t</tr>\\r\\n\\t\\t\\t\\r\\n\\t\\t\\t\\t\\t\\t\\t\\t\\t<tr>\\r\\n\\t\\t\\t\\t\\t\\t\\t\\t\\t\\t<td class = \"menuHeader\"><small><a href = \"http://asialadders.battle.net/war3/ladder/w3xp-player-logged-games.aspx?Gateway=Kalimdor&playername=rellik\" class=\"button\"><img src = \"/war3/images/pixel.gif\" width = \"3\" height = \"7\" border = \"0\">Kalimdor</a></small></td>\\r\\n\\t\\t\\t\\t\\t\\t\\t\\t\\t</tr>\\r\\n\\t\\t\\t\\r\\n\\t\\t\\t\\t\\t\\t\\t\\t\\t</table>\\r\\n\\t\\t\\t\\t\\t\\t\\t\\t\\t\\r\\n\\t\\t\\t\\t\\t\\t\\t\\t</td>\\r\\n\\t\\t\\t\\t\\t\\t\\t</tr>\\r\\n\\t\\t\\t\\t\\t\\t\\t</table>\\t\\r\\n\\t\\t\\t\\t\\t\\t\\t\\t\\t\\r\\n\\t\\t\\t\\t\\t\\t\\t\\t\\t</div><table cellspacing = \"0\" cellpadding = \"7\" border = \"0\" width = \"100%\"><tr><td><small><a href = \"/war3/ladder/w3xp-player-logged-games.aspx?Gateway=Northrend&PlayerName=rellik\" onMouseOver = \"javascript:showLayer(\\'gatewayMenu\\'); showLayer(\\'mouseTrap\\');\"><img src = \"/war3/images/pixel.gif\" width = \"3\" height = \"7\" border = \"0\">Northrend<img src = \"/war3/images/ladder-revise/pulldown-arrow.gif\" width = \"11\" height = \"7\" border = \"0\"></a></small></td></tr></table></td>\\r\\n\\t\\t\\t\\r\\n\\t\\t\\t\\t\\t\\t\\t<td width = \"1\"><img src = \"/war3/images/pixel.gif\" width = \"1\" height = \"22\"></td>\\r\\n\\t\\t\\t\\t\\t\\t\\t<td width = \"105\" valign = \"top\"><div id = \"sectionMenu\" style = \"position: absolute; width: 105px; visibility: hidden; Z-INDEX: 100;\">\\r\\n\\t\\t\\t\\t\\t\\t\\t\\t\\r\\n\\t\\t\\t\\t\\t\\t\\t<table cellspacing=\"0\" cellpadding=\"0\" width=\"100%\">\\r\\n\\t\\t\\t\\t\\t\\t\\t<tr>\\r\\n\\t\\t\\t\\t\\t\\t\\t\\t<td class=\"headerOutline\" width=\"100%\" bgcolor = \"black\">\\t\\t\\t\\t\\t\\t\\t\\t\\r\\n\\t\\t\\t\\t\\t\\t\\t\\t\\r\\n\\t\\t\\t\\t\\t\\t\\t\\t\\t<table cellspacing = \"0\" cellpadding = \"0\" border = \"0\" width = \"100%\">\\r\\n\\t\\t\\t\\r\\n\\t\\t\\t\\t\\t\\t\\t\\t\\t<tr>\\r\\n\\t\\t\\t\\t\\t\\t\\t\\t\\t\\t<td class = \"menuHeader\"><small><a href = \"/war3/ladder/w3xp-ladders.aspx?Gateway=Northrend\" class=\"button\"><img src = \"/war3/images/pixel.gif\" width = \"3\" height = \"7\" border = \"0\">Ladders<img src = \"/war3/images/ladder-revise/pulldown-arrow.gif\" width = \"11\" height = \"7\" border = \"0\"></a></small></td>\\r\\n\\t\\t\\t\\t\\t\\t\\t\\t\\t</tr>\\r\\n\\t\\t\\t\\r\\n\\t\\t\\t\\t\\t\\t\\t\\t\\t<tr>\\r\\n\\t\\t\\t\\t\\t\\t\\t\\t\\t\\t<td class = \"menuHeader\"><small><a href = \"/war3/ladder/w3xp-tournaments.aspx?Gateway=Northrend\" class=\"button\"><img src = \"/war3/images/pixel.gif\" width = \"3\" height = \"7\" border = \"0\">Tournaments</a></small></td>\\r\\n\\t\\t\\t\\t\\t\\t\\t\\t\\t</tr>\\r\\n\\t\\t\\t\\r\\n\\t\\t\\t\\t\\t\\t\\t\\t\\t\\t\\t\\t\\t\\t\\t\\t\\t\\t\\t\\t\\t\\t\\t\\t\\t\\r\\n\\t\\t\\t\\t\\t\\t\\t\\t\\t</table>\\r\\n\\t\\t\\t\\t\\t\\t\\t\\t\\t\\r\\n\\t\\t\\t\\t\\t\\t\\t\\t</td>\\r\\n\\t\\t\\t\\t\\t\\t\\t</tr>\\r\\n\\t\\t\\t\\t\\t\\t\\t</table>\\t\\r\\n\\t\\t\\t\\t\\t\\t\\t\\t\\t\\r\\n\\t\\t\\t\\t\\t\\t\\t\\t\\t</div><table cellspacing = \"0\" cellpadding = \"7\" border = \"0\" width = \"100%\"><tr><td><small><a href = \"/war3/ladder/w3xp-player-logged-games.aspx?Gateway=Northrend&PlayerName=rellik\" onMouseOver = \"javascript:showLayer(\\'sectionMenu\\'); showLayer(\\'mouseTrap\\');\"><img src = \"/war3/images/pixel.gif\" width = \"3\" height = \"7\" border = \"0\">Ladders<img src = \"/war3/images/ladder-revise/pulldown-arrow.gif\" width = \"11\" height = \"7\" border = \"0\"></a></small></td></tr></table></td>\\r\\n\\r\\n\\t\\t\\t\\t\\t\\t</tr>\\r\\n\\t\\t\\t\\t\\t\\t<tr>\\r\\n\\t\\t\\t\\t\\t\\t\\t<td width = \"110\"><img src = \"/war3/images/pixel.gif\" width = \"111\" height = \"4\"></td>\\r\\n\\t\\t\\t\\t\\t\\t\\t<td width = \"1\"><img src = \"/war3/images/pixel.gif\" width = \"1\" height = \"4\"></td>\\r\\n\\t\\t\\t\\t\\t\\t\\t<td width = \"89\"><img src = \"/war3/images/pixel.gif\" width = \"89\" height = \"4\"></td>\\r\\n\\t\\t\\t\\t\\t\\t\\t<td width = \"1\"><img src = \"/war3/images/pixel.gif\" width = \"1\" height = \"4\"></td>\\r\\n\\t\\t\\t\\t\\t\\t\\t<td width = \"105\"><img src = \"/war3/images/pixel.gif\" width = \"105\" height = \"4\"></td>\\r\\n\\t\\t\\t\\t\\t\\t</tr>\\t\\t\\t\\t\\t\\t\\r\\n\\t\\t\\t\\t\\t\\t</table>\\r\\n\\t\\t\\t\\t\\t\\r\\n\\t\\t\\t\\t\\t</td>\\r\\n\\t\\t\\t\\t</tr>\\r\\n\\t\\t\\t\\t<tr>\\r\\n\\t\\t\\t\\t\\t<td><img src = \"/war3/images/pixel.gif\" width = \"366\" height = \"10\"></td>\\r\\n\\t\\t\\t\\t</tr>\\t\\t\\t\\t\\r\\n\\t\\t\\t\\t</table>\\r\\n\\t\\t\\t\\r\\n\\t\\t\\r\\n\\t\\t\\t\\r\\n\\t\\t\\t</td>\\r\\n\\t\\t\\t<td width = \"15\"><img src = \"/war3/images/ladder-revise/top-right.gif\" width = \"15\" height = \"75\"></td>\\r\\n\\t\\t</tr>\\r\\n\\t\\t</table>\\r\\n\\t</td>\\r\\n</tr>\\r\\n\\r\\n<tr>\\r\\n\\t<td style = \"BACKGROUND-IMAGE: url(\\'/war3/images/ladder-revise/left-bg.gif\\');  BACKGROUND-REPEAT: repeat-y; BACKGROUND-POSITION: left;\" width = \"5\"><img src = \"/war3/images/pixel.gif\" width = \"5\" height = \"1\"></td>\\r\\n\\t<td width = \"100%\" align = \"center\" valign = \"top\"><img src = \"/war3/images/pixel.gif\" width = \"630\" height = \"40\"><br>\\r\\n\\r\\n\\t\\t\\t\\t\\t\\t\\r\\n\\t\\t\\t\\t\\t\\t\\r\\n<span><br></span>\\r\\n\\t\\t\\t\\t\\t\\t\\t\\t\\r\\n\\t\\t<a name=\"soloRaceMatchupReport\"></a>\\r\\n\\t\\t<table cellspacing=\"0\" cellpadding=\"0\" border=\"0\" width=\"90%\"><tr><td>\\r\\n\\t\\t<span class=\"header4\"><a href = \"w3xp-player-profile.aspx?Gateway=Northrend&PlayerName=rellik\">rellik\\'s</a> Full Games Listing:</span>\\r\\n\\t\\t</td></tr></table>\\r\\n\\t\\t\\t\\t\\t\\t\\r\\n<table cellspacing=\"0\" cellpadding=\"0\" border=\"0\" width=\"90%\">\\r\\n\\t<tr>\\r\\n\\t\\t<td background=\"/war3/images/ladder-revise/rankingborder-top.gif\">\\r\\n\\t\\t\\t<table cellspacing=\"0\" cellpadding=\"0\" border=\"0\" width=\"100%\">\\r\\n\\t\\t\\t\\t<tr>\\r\\n\\t\\t\\t\\t\\t<td width = \"16\"><img src = \"/war3/images/ladder-revise/rankingborder-top-left.gif\" width = \"16\" height = \"14\"></td>\\r\\n\\t\\t\\t\\t\\t<td width = \"100%\"><img src = \"/war3/images/pixel.gif\" width = \"598\" height = \"14\"></td>\\r\\n\\t\\t\\t\\t\\t<td width = \"16\" align = \"right\"><img src = \"/war3/images/ladder-revise/rankingborder-top-right.gif\" width = \"16\" height = \"14\"></td>\\r\\n\\t\\t\\t\\t</tr>\\r\\n\\t\\t\\t</table>\\r\\n\\t\\t</td>\\r\\n\\t</tr>\\r\\n\\t<tr>\\r\\n\\t\\t<td>\\r\\n\\t\\t\\r\\n\\r\\n\\r\\n\\t\\t\\r\\n\\t\\t\\t\\t<table cellspacing = \"0\" cellpadding = \"0\" border = \"0\" width = \"100%\">\\r\\n\\t\\t\\t\\t<tr>\\r\\n\\t\\t\\t\\t\\t<td width = \"11\" background = \"/war3/images/ladder-revise/rankingborder-left.gif\" valign = \"bottom\"><img src = \"/war3/images/ladder-revise/rankingborder-left-bot.gif\" width = \"11\" height = \"10\"></td>\\r\\n\\t\\t\\t\\t\\t<td width = \"100%\">\\r\\n\\t\\t\\t\\t\\t\\r\\n\\t\\t\\t\\t\\t\\t<table cellspacing = \"1\" cellpadding = \"0\" border = \"0\" width = \"100%\">\\r\\n\\t\\t\\t\\t\\t\\t<tr>\\r\\n\\t\\t\\t\\t\\t\\t\\t<td class = \"rankingHeader\" width = \"17\"><a class=\"button\" href=\"/war3/ladder/w3xp-player-logged-games.aspx?Gateway=Northrend&PlayerName=rellik&SortField=game_date&SortDir=Desc&PageNo=1\" ><img src = \"/war3/images/ladder-revise/firstpage-button.gif\" width = \"13\" height = \"15\" border = \"0\"></a></td>\\r\\n\\t\\t\\t\\t\\t\\t\\t<td class = \"rankingHeader\" width = \"100\" NOWRAP><a class=\"button\" href=\"/war3/ladder/w3xp-player-logged-games.aspx?Gateway=Northrend&PlayerName=rellik&SortField=game_date&SortDir=Desc&PageNo=1\" ><img src = \"/war3/images/ladder-revise/previous-button.gif\" width = \"13\" height = \"10\" border = \"0\">Prev&nbsp;Page<img src = \"/war3/images/pixel.gif\" width = \"70\" height = \"1\" border = \"0\"></a></td>\\r\\n\\t\\t\\t\\t\\t\\t\\t<td class = \"rankingFiller\" width = \"100%\"><b>1</b></td>\\r\\n\\t\\t\\t\\t\\t\\t\\t<td class = \"rankingHeader\" width = \"100\" NOWRAP><a class=\"button\" href=\"/war3/ladder/w3xp-player-logged-games.aspx?Gateway=Northrend&PlayerName=rellik&SortField=game_date&SortDir=Desc&PageNo=1\" >Next&nbsp;Page<img src = \"/war3/images/ladder-revise/next-button.gif\" width = \"13\" height = \"9\" border = \"0\"><img src = \"/war3/images/pixel.gif\" width = \"70\" height = \"1\" border = \"0\"></a></td>\\r\\n\\t\\t\\t\\t\\t\\t\\t<td class = \"rankingHeader\" width = \"17\"><a class=\"button\" href=\"/war3/ladder/w3xp-player-logged-games.aspx?Gateway=Northrend&PlayerName=rellik&SortField=game_date&SortDir=Desc&PageNo=1\" ><img src = \"/war3/images/ladder-revise/lastpage-button.gif\" width = \"13\" height = \"15\" border = \"0\"></a></td>\\r\\n\\t\\t\\t\\t\\t\\t</tr>\\r\\n\\t\\t\\t\\t\\t\\t</table>\\r\\n\\t\\t\\t\\t\\t\\t\\t\\t\\t\\t\\t\\t\\r\\n\\t\\t\\t\\t\\t\\t\\r\\n\\t\\t\\t\\t\\t\\t\\t\\t<table cellspacing=\"0\" cellpadding=\"0\" rules=\"all\" border=\"0\" border=\"1\" id=\"tblGames\" width=\"100%\">\\r\\n\\t<tr>\\r\\n\\t\\t<td class=\"rankingHeader\" align=\"Center\"></td><td class=\"rankingHeader\" align=\"Center\"><a class=\"button\" href=\"/war3/ladder/w3xp-player-logged-games.aspx?Gateway=Northrend&PlayerName=rellik&SortField=Game_Date&SortDir=Asc&PageNo=1\">Game Date<img src = \\'/war3/images/ladder-revise/arrow-up.gif\\' width = \\'14\\' height = \\'6\\' border = \\'0\\'></a></td><td class=\"rankingHeader\" align=\"Center\"><a class=\"button\" href=\"/war3/ladder/w3xp-player-logged-games.aspx?Gateway=Northrend&PlayerName=rellik&SortField=Game_Type_Name&SortDir=Asc&PageNo=1\">Game Type</a></td><td class=\"rankingHeader\" align=\"Center\"><a class=\"button\" href=\"/war3/ladder/w3xp-player-logged-games.aspx?Gateway=Northrend&PlayerName=rellik&SortField=Map_Name&SortDir=Asc&PageNo=1\">Map</a></td><td class=\"rankingHeader\" align=\"Center\">Players</td><td class=\"rankingHeader\" align=\"Center\"><a class=\"button\" href=\"/war3/ladder/w3xp-player-logged-games.aspx?Gateway=Northrend&PlayerName=rellik&SortField=Game_Length_In_Min&SortDir=Asc&PageNo=1\">Game Length</a></td><td class=\"rankingHeader\" align=\"Center\"><a class=\"button\" href=\"/war3/ladder/w3xp-player-logged-games.aspx?Gateway=Northrend&PlayerName=rellik&SortField=Game_Result&SortDir=Asc&PageNo=1\">Result</a></td>\\r\\n\\t</tr><tr class=\"rankingRow\" bgcolor=\"#271A13\">\\r\\n\\t\\t<td class=\"rankingRow\"><a href = \"w3xp-game-detail.aspx?Gateway=Northrend&GameID=79822635\"><img src=\"/war3/images/ladder-revise/gamedetail/gamedetail-icon.gif\" width=\"28\" height=\"28\" border = \"0\" alt = \"Game Detail\"></a>\\r\\n\\t\\t\\t\\t\\t\\t\\t\\t\\t\\t\\t</td><td class=\"rankingRowLeft\"><a href = \"w3xp-game-detail.aspx?Gateway=Northrend&GameID=79822635\">12/3/2018  <br> 8:06 PM WEST</a>\\r\\n\\t\\t\\t\\t\\t\\t\\t\\t\\t\\t\\t</td><td class=\"rankingRowLeft\">Solo\\r\\n\\t\\t\\t\\t\\t\\t\\t\\t\\t\\t\\t</td><td class=\"rankingRowLeft\"><a href=\"/war3/images/ladder/maps/Amazonia.jpg\">Amazonia</a>\\r\\n\\t\\t\\t\\t\\t\\t\\t\\t\\t\\t\\t</td><td class=\"rankingRowAlt\">\\r\\n\\t\\t\\t\\t\\t\\t\\t\\t\\t\\t\\t<table cellspacing = \"0\" cellpadding = \"0\">\\r\\n\\t\\t\\t\\t\\t\\t\\t\\t\\t\\t\\t\\t<tr><td align = \"right\"><small>Allies: </small></td><td><small></small></td></tr>\\r\\n\\t\\t\\t\\t\\t\\t\\t\\t\\t\\t\\t\\t\\r\\n\\t\\t\\t\\t\\t\\t\\t\\t\\t\\t\\t\\t<tr><td align = \"right\"><small>Opponents: </small></td><td><small><a href = \"w3xp-player-profile.aspx?Gateway=Northrend&PlayerName=bnetisntworking\">bnetisntworking</a></small></td></tr>\\t\\r\\n\\t\\t\\t\\t\\t\\t\\t\\t\\t\\t\\t</table>\\t\\t\\t\\t\\t\\t\\t\\t\\t\\t\\t\\r\\n\\t\\t\\t\\t\\t\\t\\t\\t\\t\\t\\t</td><td class=\"rankingRow\">13\\r\\n\\t\\t\\t\\t\\t\\t\\t\\t\\t\\t\\t</td><td class=\"rankingRowLeft\">Win\\r\\n\\t\\t\\t\\t\\t\\t\\t\\t\\t\\t\\t</td>\\r\\n\\t</tr><tr class=\"rankingRow\" bgcolor=\"#111111\">\\r\\n\\t\\t<td class=\"rankingRow\"><a href = \"w3xp-game-detail.aspx?Gateway=Northrend&GameID=79822473\"><img src=\"/war3/images/ladder-revise/gamedetail/gamedetail-icon.gif\" width=\"28\" height=\"28\" border = \"0\" alt = \"Game Detail\"></a>\\r\\n\\t\\t\\t\\t\\t\\t\\t\\t\\t\\t\\t</td><td class=\"rankingRowLeft\"><a href = \"w3xp-game-detail.aspx?Gateway=Northrend&GameID=79822473\">12/3/2018  <br> 7:42 PM WEST</a>\\r\\n\\t\\t\\t\\t\\t\\t\\t\\t\\t\\t\\t</td><td class=\"rankingRowLeft\">Solo\\r\\n\\t\\t\\t\\t\\t\\t\\t\\t\\t\\t\\t</td><td class=\"rankingRowLeft\"><a href=\"/war3/images/ladder/maps/PlunderIsle_LV.jpg\">Plunder Isle_ L V</a>\\r\\n\\t\\t\\t\\t\\t\\t\\t\\t\\t\\t\\t</td><td class=\"rankingRowAlt\">\\r\\n\\t\\t\\t\\t\\t\\t\\t\\t\\t\\t\\t<table cellspacing = \"0\" cellpadding = \"0\">\\r\\n\\t\\t\\t\\t\\t\\t\\t\\t\\t\\t\\t\\t<tr><td align = \"right\"><small>Allies: </small></td><td><small></small></td></tr>\\r\\n\\t\\t\\t\\t\\t\\t\\t\\t\\t\\t\\t\\t\\r\\n\\t\\t\\t\\t\\t\\t\\t\\t\\t\\t\\t\\t<tr><td align = \"right\"><small>Opponents: </small></td><td><small><a href = \"w3xp-player-profile.aspx?Gateway=Northrend&PlayerName=Klapi\">Klapi</a></small></td></tr>\\t\\r\\n\\t\\t\\t\\t\\t\\t\\t\\t\\t\\t\\t</table>\\t\\t\\t\\t\\t\\t\\t\\t\\t\\t\\t\\r\\n\\t\\t\\t\\t\\t\\t\\t\\t\\t\\t\\t</td><td class=\"rankingRow\">6\\r\\n\\t\\t\\t\\t\\t\\t\\t\\t\\t\\t\\t</td><td class=\"rankingRowLeft\">Win\\r\\n\\t\\t\\t\\t\\t\\t\\t\\t\\t\\t\\t</td>\\r\\n\\t</tr><tr class=\"rankingRow\" bgcolor=\"#271A13\">\\r\\n\\t\\t<td class=\"rankingRow\"><a href = \"w3xp-game-detail.aspx?Gateway=Northrend&GameID=79822443\"><img src=\"/war3/images/ladder-revise/gamedetail/gamedetail-icon.gif\" width=\"28\" height=\"28\" border = \"0\" alt = \"Game Detail\"></a>\\r\\n\\t\\t\\t\\t\\t\\t\\t\\t\\t\\t\\t</td><td class=\"rankingRowLeft\"><a href = \"w3xp-game-detail.aspx?Gateway=Northrend&GameID=79822443\">12/3/2018  <br> 7:34 PM WEST</a>\\r\\n\\t\\t\\t\\t\\t\\t\\t\\t\\t\\t\\t</td><td class=\"rankingRowLeft\">Solo\\r\\n\\t\\t\\t\\t\\t\\t\\t\\t\\t\\t\\t</td><td class=\"rankingRowLeft\"><a href=\"/war3/images/ladder/maps/EchoIsles.jpg\">Echo Isles</a>\\r\\n\\t\\t\\t\\t\\t\\t\\t\\t\\t\\t\\t</td><td class=\"rankingRowAlt\">\\r\\n\\t\\t\\t\\t\\t\\t\\t\\t\\t\\t\\t<table cellspacing = \"0\" cellpadding = \"0\">\\r\\n\\t\\t\\t\\t\\t\\t\\t\\t\\t\\t\\t\\t<tr><td align = \"right\"><small>Allies: </small></td><td><small></small></td></tr>\\r\\n\\t\\t\\t\\t\\t\\t\\t\\t\\t\\t\\t\\t\\r\\n\\t\\t\\t\\t\\t\\t\\t\\t\\t\\t\\t\\t<tr><td align = \"right\"><small>Opponents: </small></td><td><small><a href = \"w3xp-player-profile.aspx?Gateway=Northrend&PlayerName=GregvanAvermat\">GregvanAvermat</a></small></td></tr>\\t\\r\\n\\t\\t\\t\\t\\t\\t\\t\\t\\t\\t\\t</table>\\t\\t\\t\\t\\t\\t\\t\\t\\t\\t\\t\\r\\n\\t\\t\\t\\t\\t\\t\\t\\t\\t\\t\\t</td><td class=\"rankingRow\">6\\r\\n\\t\\t\\t\\t\\t\\t\\t\\t\\t\\t\\t</td><td class=\"rankingRowLeft\">Win\\r\\n\\t\\t\\t\\t\\t\\t\\t\\t\\t\\t\\t</td>\\r\\n\\t</tr><tr class=\"rankingRow\" bgcolor=\"#111111\">\\r\\n\\t\\t<td class=\"rankingRow\"><a href = \"w3xp-game-detail.aspx?Gateway=Northrend&GameID=79819025\"><img src=\"/war3/images/ladder-revise/gamedetail/gamedetail-icon.gif\" width=\"28\" height=\"28\" border = \"0\" alt = \"Game Detail\"></a>\\r\\n\\t\\t\\t\\t\\t\\t\\t\\t\\t\\t\\t</td><td class=\"rankingRowLeft\"><a href = \"w3xp-game-detail.aspx?Gateway=Northrend&GameID=79819025\">12/2/2018  <br> 8:57 PM WEST</a>\\r\\n\\t\\t\\t\\t\\t\\t\\t\\t\\t\\t\\t</td><td class=\"rankingRowLeft\">Solo\\r\\n\\t\\t\\t\\t\\t\\t\\t\\t\\t\\t\\t</td><td class=\"rankingRowLeft\"><a href=\"/war3/images/ladder/maps/TurtleRock.jpg\">Turtle Rock</a>\\r\\n\\t\\t\\t\\t\\t\\t\\t\\t\\t\\t\\t</td><td class=\"rankingRowAlt\">\\r\\n\\t\\t\\t\\t\\t\\t\\t\\t\\t\\t\\t<table cellspacing = \"0\" cellpadding = \"0\">\\r\\n\\t\\t\\t\\t\\t\\t\\t\\t\\t\\t\\t\\t<tr><td align = \"right\"><small>Allies: </small></td><td><small></small></td></tr>\\r\\n\\t\\t\\t\\t\\t\\t\\t\\t\\t\\t\\t\\t\\r\\n\\t\\t\\t\\t\\t\\t\\t\\t\\t\\t\\t\\t<tr><td align = \"right\"><small>Opponents: </small></td><td><small><a href = \"w3xp-player-profile.aspx?Gateway=Northrend&PlayerName=FlyHigh\">FlyHigh</a></small></td></tr>\\t\\r\\n\\t\\t\\t\\t\\t\\t\\t\\t\\t\\t\\t</table>\\t\\t\\t\\t\\t\\t\\t\\t\\t\\t\\t\\r\\n\\t\\t\\t\\t\\t\\t\\t\\t\\t\\t\\t</td><td class=\"rankingRow\">11\\r\\n\\t\\t\\t\\t\\t\\t\\t\\t\\t\\t\\t</td><td class=\"rankingRowLeft\">Win\\r\\n\\t\\t\\t\\t\\t\\t\\t\\t\\t\\t\\t</td>\\r\\n\\t</tr><tr class=\"rankingRow\" bgcolor=\"#271A13\">\\r\\n\\t\\t<td class=\"rankingRow\"><a href = \"w3xp-game-detail.aspx?Gateway=Northrend&GameID=79816225\"><img src=\"/war3/images/ladder-revise/gamedetail/gamedetail-icon.gif\" width=\"28\" height=\"28\" border = \"0\" alt = \"Game Detail\"></a>\\r\\n\\t\\t\\t\\t\\t\\t\\t\\t\\t\\t\\t</td><td class=\"rankingRowLeft\"><a href = \"w3xp-game-detail.aspx?Gateway=Northrend&GameID=79816225\">12/2/2018  <br> 2:06 PM WEST</a>\\r\\n\\t\\t\\t\\t\\t\\t\\t\\t\\t\\t\\t</td><td class=\"rankingRowLeft\">Solo\\r\\n\\t\\t\\t\\t\\t\\t\\t\\t\\t\\t\\t</td><td class=\"rankingRowLeft\"><a href=\"/war3/images/ladder/maps/Amazonia.jpg\">Amazonia</a>\\r\\n\\t\\t\\t\\t\\t\\t\\t\\t\\t\\t\\t</td><td class=\"rankingRowAlt\">\\r\\n\\t\\t\\t\\t\\t\\t\\t\\t\\t\\t\\t<table cellspacing = \"0\" cellpadding = \"0\">\\r\\n\\t\\t\\t\\t\\t\\t\\t\\t\\t\\t\\t\\t<tr><td align = \"right\"><small>Allies: </small></td><td><small></small></td></tr>\\r\\n\\t\\t\\t\\t\\t\\t\\t\\t\\t\\t\\t\\t\\r\\n\\t\\t\\t\\t\\t\\t\\t\\t\\t\\t\\t\\t<tr><td align = \"right\"><small>Opponents: </small></td><td><small><a href = \"w3xp-player-profile.aspx?Gateway=Northrend&PlayerName=thisismymainacc\">thisismymainacc</a></small></td></tr>\\t\\r\\n\\t\\t\\t\\t\\t\\t\\t\\t\\t\\t\\t</table>\\t\\t\\t\\t\\t\\t\\t\\t\\t\\t\\t\\r\\n\\t\\t\\t\\t\\t\\t\\t\\t\\t\\t\\t</td><td class=\"rankingRow\">0\\r\\n\\t\\t\\t\\t\\t\\t\\t\\t\\t\\t\\t</td><td class=\"rankingRowLeft\">Win\\r\\n\\t\\t\\t\\t\\t\\t\\t\\t\\t\\t\\t</td>\\r\\n\\t</tr><tr class=\"rankingRow\" bgcolor=\"#111111\">\\r\\n\\t\\t<td class=\"rankingRow\"><a href = \"w3xp-game-detail.aspx?Gateway=Northrend&GameID=79814822\"><img src=\"/war3/images/ladder-revise/gamedetail/gamedetail-icon.gif\" width=\"28\" height=\"28\" border = \"0\" alt = \"Game Detail\"></a>\\r\\n\\t\\t\\t\\t\\t\\t\\t\\t\\t\\t\\t</td><td class=\"rankingRowLeft\"><a href = \"w3xp-game-detail.aspx?Gateway=Northrend&GameID=79814822\">12/2/2018  <br> 8:02 AM WEST</a>\\r\\n\\t\\t\\t\\t\\t\\t\\t\\t\\t\\t\\t</td><td class=\"rankingRowLeft\">Solo\\r\\n\\t\\t\\t\\t\\t\\t\\t\\t\\t\\t\\t</td><td class=\"rankingRowLeft\"><a href=\"/war3/images/ladder/maps/PlunderIsle_LV.jpg\">Plunder Isle_ L V</a>\\r\\n\\t\\t\\t\\t\\t\\t\\t\\t\\t\\t\\t</td><td class=\"rankingRowAlt\">\\r\\n\\t\\t\\t\\t\\t\\t\\t\\t\\t\\t\\t<table cellspacing = \"0\" cellpadding = \"0\">\\r\\n\\t\\t\\t\\t\\t\\t\\t\\t\\t\\t\\t\\t<tr><td align = \"right\"><small>Allies: </small></td><td><small></small></td></tr>\\r\\n\\t\\t\\t\\t\\t\\t\\t\\t\\t\\t\\t\\t\\r\\n\\t\\t\\t\\t\\t\\t\\t\\t\\t\\t\\t\\t<tr><td align = \"right\"><small>Opponents: </small></td><td><small><a href = \"w3xp-player-profile.aspx?Gateway=Northrend&PlayerName=Isux2much\">Isux2much</a></small></td></tr>\\t\\r\\n\\t\\t\\t\\t\\t\\t\\t\\t\\t\\t\\t</table>\\t\\t\\t\\t\\t\\t\\t\\t\\t\\t\\t\\r\\n\\t\\t\\t\\t\\t\\t\\t\\t\\t\\t\\t</td><td class=\"rankingRow\">13\\r\\n\\t\\t\\t\\t\\t\\t\\t\\t\\t\\t\\t</td><td class=\"rankingRowLeft\">Win\\r\\n\\t\\t\\t\\t\\t\\t\\t\\t\\t\\t\\t</td>\\r\\n\\t</tr><tr class=\"rankingRow\" bgcolor=\"#271A13\">\\r\\n\\t\\t<td class=\"rankingRow\"><a href = \"w3xp-game-detail.aspx?Gateway=Northrend&GameID=79811569\"><img src=\"/war3/images/ladder-revise/gamedetail/gamedetail-icon.gif\" width=\"28\" height=\"28\" border = \"0\" alt = \"Game Detail\"></a>\\r\\n\\t\\t\\t\\t\\t\\t\\t\\t\\t\\t\\t</td><td class=\"rankingRowLeft\"><a href = \"w3xp-game-detail.aspx?Gateway=Northrend&GameID=79811569\">12/1/2018  <br> 7:54 PM WEST</a>\\r\\n\\t\\t\\t\\t\\t\\t\\t\\t\\t\\t\\t</td><td class=\"rankingRowLeft\">Solo\\r\\n\\t\\t\\t\\t\\t\\t\\t\\t\\t\\t\\t</td><td class=\"rankingRowLeft\"><a href=\"/war3/images/ladder/maps/EchoIsles.jpg\">Echo Isles</a>\\r\\n\\t\\t\\t\\t\\t\\t\\t\\t\\t\\t\\t</td><td class=\"rankingRowAlt\">\\r\\n\\t\\t\\t\\t\\t\\t\\t\\t\\t\\t\\t<table cellspacing = \"0\" cellpadding = \"0\">\\r\\n\\t\\t\\t\\t\\t\\t\\t\\t\\t\\t\\t\\t<tr><td align = \"right\"><small>Allies: </small></td><td><small></small></td></tr>\\r\\n\\t\\t\\t\\t\\t\\t\\t\\t\\t\\t\\t\\t\\r\\n\\t\\t\\t\\t\\t\\t\\t\\t\\t\\t\\t\\t<tr><td align = \"right\"><small>Opponents: </small></td><td><small><a href = \"w3xp-player-profile.aspx?Gateway=Northrend&PlayerName=Gwu\">Gwu</a></small></td></tr>\\t\\r\\n\\t\\t\\t\\t\\t\\t\\t\\t\\t\\t\\t</table>\\t\\t\\t\\t\\t\\t\\t\\t\\t\\t\\t\\r\\n\\t\\t\\t\\t\\t\\t\\t\\t\\t\\t\\t</td><td class=\"rankingRow\">13\\r\\n\\t\\t\\t\\t\\t\\t\\t\\t\\t\\t\\t</td><td class=\"rankingRowLeft\">Win\\r\\n\\t\\t\\t\\t\\t\\t\\t\\t\\t\\t\\t</td>\\r\\n\\t</tr><tr class=\"rankingRow\" bgcolor=\"#111111\">\\r\\n\\t\\t<td class=\"rankingRow\"><a href = \"w3xp-game-detail.aspx?Gateway=Northrend&GameID=79811467\"><img src=\"/war3/images/ladder-revise/gamedetail/gamedetail-icon.gif\" width=\"28\" height=\"28\" border = \"0\" alt = \"Game Detail\"></a>\\r\\n\\t\\t\\t\\t\\t\\t\\t\\t\\t\\t\\t</td><td class=\"rankingRowLeft\"><a href = \"w3xp-game-detail.aspx?Gateway=Northrend&GameID=79811467\">12/1/2018  <br> 7:37 PM WEST</a>\\r\\n\\t\\t\\t\\t\\t\\t\\t\\t\\t\\t\\t</td><td class=\"rankingRowLeft\">Solo\\r\\n\\t\\t\\t\\t\\t\\t\\t\\t\\t\\t\\t</td><td class=\"rankingRowLeft\"><a href=\"/war3/images/ladder/maps/TurtleRock.jpg\">Turtle Rock</a>\\r\\n\\t\\t\\t\\t\\t\\t\\t\\t\\t\\t\\t</td><td class=\"rankingRowAlt\">\\r\\n\\t\\t\\t\\t\\t\\t\\t\\t\\t\\t\\t<table cellspacing = \"0\" cellpadding = \"0\">\\r\\n\\t\\t\\t\\t\\t\\t\\t\\t\\t\\t\\t\\t<tr><td align = \"right\"><small>Allies: </small></td><td><small></small></td></tr>\\r\\n\\t\\t\\t\\t\\t\\t\\t\\t\\t\\t\\t\\t\\r\\n\\t\\t\\t\\t\\t\\t\\t\\t\\t\\t\\t\\t<tr><td align = \"right\"><small>Opponents: </small></td><td><small><a href = \"w3xp-player-profile.aspx?Gateway=Northrend&PlayerName=ujaosdnoansd\">ujaosdnoansd</a></small></td></tr>\\t\\r\\n\\t\\t\\t\\t\\t\\t\\t\\t\\t\\t\\t</table>\\t\\t\\t\\t\\t\\t\\t\\t\\t\\t\\t\\r\\n\\t\\t\\t\\t\\t\\t\\t\\t\\t\\t\\t</td><td class=\"rankingRow\">0\\r\\n\\t\\t\\t\\t\\t\\t\\t\\t\\t\\t\\t</td><td class=\"rankingRowLeft\">Win\\r\\n\\t\\t\\t\\t\\t\\t\\t\\t\\t\\t\\t</td>\\r\\n\\t</tr><tr class=\"rankingRow\" bgcolor=\"#271A13\">\\r\\n\\t\\t<td class=\"rankingRow\"><a href = \"w3xp-game-detail.aspx?Gateway=Northrend&GameID=79811404\"><img src=\"/war3/images/ladder-revise/gamedetail/gamedetail-icon.gif\" width=\"28\" height=\"28\" border = \"0\" alt = \"Game Detail\"></a>\\r\\n\\t\\t\\t\\t\\t\\t\\t\\t\\t\\t\\t</td><td class=\"rankingRowLeft\"><a href = \"w3xp-game-detail.aspx?Gateway=Northrend&GameID=79811404\">12/1/2018  <br> 7:27 PM WEST</a>\\r\\n\\t\\t\\t\\t\\t\\t\\t\\t\\t\\t\\t</td><td class=\"rankingRowLeft\">Solo\\r\\n\\t\\t\\t\\t\\t\\t\\t\\t\\t\\t\\t</td><td class=\"rankingRowLeft\"><a href=\"/war3/images/ladder/maps/Amazonia.jpg\">Amazonia</a>\\r\\n\\t\\t\\t\\t\\t\\t\\t\\t\\t\\t\\t</td><td class=\"rankingRowAlt\">\\r\\n\\t\\t\\t\\t\\t\\t\\t\\t\\t\\t\\t<table cellspacing = \"0\" cellpadding = \"0\">\\r\\n\\t\\t\\t\\t\\t\\t\\t\\t\\t\\t\\t\\t<tr><td align = \"right\"><small>Allies: </small></td><td><small></small></td></tr>\\r\\n\\t\\t\\t\\t\\t\\t\\t\\t\\t\\t\\t\\t\\r\\n\\t\\t\\t\\t\\t\\t\\t\\t\\t\\t\\t\\t<tr><td align = \"right\"><small>Opponents: </small></td><td><small><a href = \"w3xp-player-profile.aspx?Gateway=Northrend&PlayerName=VERYSMALLMAN\">VERYSMALLMAN</a></small></td></tr>\\t\\r\\n\\t\\t\\t\\t\\t\\t\\t\\t\\t\\t\\t</table>\\t\\t\\t\\t\\t\\t\\t\\t\\t\\t\\t\\r\\n\\t\\t\\t\\t\\t\\t\\t\\t\\t\\t\\t</td><td class=\"rankingRow\">4\\r\\n\\t\\t\\t\\t\\t\\t\\t\\t\\t\\t\\t</td><td class=\"rankingRowLeft\">Win\\r\\n\\t\\t\\t\\t\\t\\t\\t\\t\\t\\t\\t</td>\\r\\n\\t</tr><tr class=\"rankingRow\" bgcolor=\"#111111\">\\r\\n\\t\\t<td class=\"rankingRow\"><a href = \"w3xp-game-detail.aspx?Gateway=Northrend&GameID=79811271\"><img src=\"/war3/images/ladder-revise/gamedetail/gamedetail-icon.gif\" width=\"28\" height=\"28\" border = \"0\" alt = \"Game Detail\"></a>\\r\\n\\t\\t\\t\\t\\t\\t\\t\\t\\t\\t\\t</td><td class=\"rankingRowLeft\"><a href = \"w3xp-game-detail.aspx?Gateway=Northrend&GameID=79811271\">12/1/2018  <br> 7:11 PM WEST</a>\\r\\n\\t\\t\\t\\t\\t\\t\\t\\t\\t\\t\\t</td><td class=\"rankingRowLeft\">Solo\\r\\n\\t\\t\\t\\t\\t\\t\\t\\t\\t\\t\\t</td><td class=\"rankingRowLeft\"><a href=\"/war3/images/ladder/maps/Amazonia.jpg\">Amazonia</a>\\r\\n\\t\\t\\t\\t\\t\\t\\t\\t\\t\\t\\t</td><td class=\"rankingRowAlt\">\\r\\n\\t\\t\\t\\t\\t\\t\\t\\t\\t\\t\\t<table cellspacing = \"0\" cellpadding = \"0\">\\r\\n\\t\\t\\t\\t\\t\\t\\t\\t\\t\\t\\t\\t<tr><td align = \"right\"><small>Allies: </small></td><td><small></small></td></tr>\\r\\n\\t\\t\\t\\t\\t\\t\\t\\t\\t\\t\\t\\t\\r\\n\\t\\t\\t\\t\\t\\t\\t\\t\\t\\t\\t\\t<tr><td align = \"right\"><small>Opponents: </small></td><td><small><a href = \"w3xp-player-profile.aspx?Gateway=Northrend&PlayerName=mrCesar\">mrCesar</a></small></td></tr>\\t\\r\\n\\t\\t\\t\\t\\t\\t\\t\\t\\t\\t\\t</table>\\t\\t\\t\\t\\t\\t\\t\\t\\t\\t\\t\\r\\n\\t\\t\\t\\t\\t\\t\\t\\t\\t\\t\\t</td><td class=\"rankingRow\">10\\r\\n\\t\\t\\t\\t\\t\\t\\t\\t\\t\\t\\t</td><td class=\"rankingRowLeft\">Win\\r\\n\\t\\t\\t\\t\\t\\t\\t\\t\\t\\t\\t</td>\\r\\n\\t</tr><tr class=\"rankingRow\" bgcolor=\"#271A13\">\\r\\n\\t\\t<td class=\"rankingRow\"><a href = \"w3xp-game-detail.aspx?Gateway=Northrend&GameID=79808135\"><img src=\"/war3/images/ladder-revise/gamedetail/gamedetail-icon.gif\" width=\"28\" height=\"28\" border = \"0\" alt = \"Game Detail\"></a>\\r\\n\\t\\t\\t\\t\\t\\t\\t\\t\\t\\t\\t</td><td class=\"rankingRowLeft\"><a href = \"w3xp-game-detail.aspx?Gateway=Northrend&GameID=79808135\">12/1/2018  <br> 11:40 AM WEST</a>\\r\\n\\t\\t\\t\\t\\t\\t\\t\\t\\t\\t\\t</td><td class=\"rankingRowLeft\">Solo\\r\\n\\t\\t\\t\\t\\t\\t\\t\\t\\t\\t\\t</td><td class=\"rankingRowLeft\"><a href=\"/war3/images/ladder/maps/TwistedMeadows.jpg\">Twisted Meadows</a>\\r\\n\\t\\t\\t\\t\\t\\t\\t\\t\\t\\t\\t</td><td class=\"rankingRowAlt\">\\r\\n\\t\\t\\t\\t\\t\\t\\t\\t\\t\\t\\t<table cellspacing = \"0\" cellpadding = \"0\">\\r\\n\\t\\t\\t\\t\\t\\t\\t\\t\\t\\t\\t\\t<tr><td align = \"right\"><small>Allies: </small></td><td><small></small></td></tr>\\r\\n\\t\\t\\t\\t\\t\\t\\t\\t\\t\\t\\t\\t\\r\\n\\t\\t\\t\\t\\t\\t\\t\\t\\t\\t\\t\\t<tr><td align = \"right\"><small>Opponents: </small></td><td><small><a href = \"w3xp-player-profile.aspx?Gateway=Northrend&PlayerName=JarzYn\">JarzYn</a></small></td></tr>\\t\\r\\n\\t\\t\\t\\t\\t\\t\\t\\t\\t\\t\\t</table>\\t\\t\\t\\t\\t\\t\\t\\t\\t\\t\\t\\r\\n\\t\\t\\t\\t\\t\\t\\t\\t\\t\\t\\t</td><td class=\"rankingRow\">10\\r\\n\\t\\t\\t\\t\\t\\t\\t\\t\\t\\t\\t</td><td class=\"rankingRowLeft\">Win\\r\\n\\t\\t\\t\\t\\t\\t\\t\\t\\t\\t\\t</td>\\r\\n\\t</tr><tr class=\"rankingRow\" bgcolor=\"#111111\">\\r\\n\\t\\t<td class=\"rankingRow\"><a href = \"w3xp-game-detail.aspx?Gateway=Northrend&GameID=79807529\"><img src=\"/war3/images/ladder-revise/gamedetail/gamedetail-icon.gif\" width=\"28\" height=\"28\" border = \"0\" alt = \"Game Detail\"></a>\\r\\n\\t\\t\\t\\t\\t\\t\\t\\t\\t\\t\\t</td><td class=\"rankingRowLeft\"><a href = \"w3xp-game-detail.aspx?Gateway=Northrend&GameID=79807529\">12/1/2018  <br> 9:14 AM WEST</a>\\r\\n\\t\\t\\t\\t\\t\\t\\t\\t\\t\\t\\t</td><td class=\"rankingRowLeft\">Solo\\r\\n\\t\\t\\t\\t\\t\\t\\t\\t\\t\\t\\t</td><td class=\"rankingRowLeft\"><a href=\"/war3/images/ladder/maps/TerenasStand_LV.jpg\">Terenas Stand_ L V</a>\\r\\n\\t\\t\\t\\t\\t\\t\\t\\t\\t\\t\\t</td><td class=\"rankingRowAlt\">\\r\\n\\t\\t\\t\\t\\t\\t\\t\\t\\t\\t\\t<table cellspacing = \"0\" cellpadding = \"0\">\\r\\n\\t\\t\\t\\t\\t\\t\\t\\t\\t\\t\\t\\t<tr><td align = \"right\"><small>Allies: </small></td><td><small></small></td></tr>\\r\\n\\t\\t\\t\\t\\t\\t\\t\\t\\t\\t\\t\\t\\r\\n\\t\\t\\t\\t\\t\\t\\t\\t\\t\\t\\t\\t<tr><td align = \"right\"><small>Opponents: </small></td><td><small><a href = \"w3xp-player-profile.aspx?Gateway=Northrend&PlayerName=addron\">addron</a></small></td></tr>\\t\\r\\n\\t\\t\\t\\t\\t\\t\\t\\t\\t\\t\\t</table>\\t\\t\\t\\t\\t\\t\\t\\t\\t\\t\\t\\r\\n\\t\\t\\t\\t\\t\\t\\t\\t\\t\\t\\t</td><td class=\"rankingRow\">6\\r\\n\\t\\t\\t\\t\\t\\t\\t\\t\\t\\t\\t</td><td class=\"rankingRowLeft\">Win\\r\\n\\t\\t\\t\\t\\t\\t\\t\\t\\t\\t\\t</td>\\r\\n\\t</tr><tr class=\"rankingRow\" bgcolor=\"#271A13\">\\r\\n\\t\\t<td class=\"rankingRow\"><a href = \"w3xp-game-detail.aspx?Gateway=Northrend&GameID=79807512\"><img src=\"/war3/images/ladder-revise/gamedetail/gamedetail-icon.gif\" width=\"28\" height=\"28\" border = \"0\" alt = \"Game Detail\"></a>\\r\\n\\t\\t\\t\\t\\t\\t\\t\\t\\t\\t\\t</td><td class=\"rankingRowLeft\"><a href = \"w3xp-game-detail.aspx?Gateway=Northrend&GameID=79807512\">12/1/2018  <br> 9:07 AM WEST</a>\\r\\n\\t\\t\\t\\t\\t\\t\\t\\t\\t\\t\\t</td><td class=\"rankingRowLeft\">Solo\\r\\n\\t\\t\\t\\t\\t\\t\\t\\t\\t\\t\\t</td><td class=\"rankingRowLeft\"><a href=\"/war3/images/ladder/maps/Amazonia.jpg\">Amazonia</a>\\r\\n\\t\\t\\t\\t\\t\\t\\t\\t\\t\\t\\t</td><td class=\"rankingRowAlt\">\\r\\n\\t\\t\\t\\t\\t\\t\\t\\t\\t\\t\\t<table cellspacing = \"0\" cellpadding = \"0\">\\r\\n\\t\\t\\t\\t\\t\\t\\t\\t\\t\\t\\t\\t<tr><td align = \"right\"><small>Allies: </small></td><td><small></small></td></tr>\\r\\n\\t\\t\\t\\t\\t\\t\\t\\t\\t\\t\\t\\t\\r\\n\\t\\t\\t\\t\\t\\t\\t\\t\\t\\t\\t\\t<tr><td align = \"right\"><small>Opponents: </small></td><td><small><a href = \"w3xp-player-profile.aspx?Gateway=Northrend&PlayerName=blade11\">blade11</a></small></td></tr>\\t\\r\\n\\t\\t\\t\\t\\t\\t\\t\\t\\t\\t\\t</table>\\t\\t\\t\\t\\t\\t\\t\\t\\t\\t\\t\\r\\n\\t\\t\\t\\t\\t\\t\\t\\t\\t\\t\\t</td><td class=\"rankingRow\">0\\r\\n\\t\\t\\t\\t\\t\\t\\t\\t\\t\\t\\t</td><td class=\"rankingRowLeft\">Win\\r\\n\\t\\t\\t\\t\\t\\t\\t\\t\\t\\t\\t</td>\\r\\n\\t</tr><tr class=\"rankingRow\" bgcolor=\"#111111\">\\r\\n\\t\\t<td class=\"rankingRow\"><a href = \"w3xp-game-detail.aspx?Gateway=Northrend&GameID=79803306\"><img src=\"/war3/images/ladder-revise/gamedetail/gamedetail-icon.gif\" width=\"28\" height=\"28\" border = \"0\" alt = \"Game Detail\"></a>\\r\\n\\t\\t\\t\\t\\t\\t\\t\\t\\t\\t\\t</td><td class=\"rankingRowLeft\"><a href = \"w3xp-game-detail.aspx?Gateway=Northrend&GameID=79803306\">11/30/2018  <br> 8:03 PM WEST</a>\\r\\n\\t\\t\\t\\t\\t\\t\\t\\t\\t\\t\\t</td><td class=\"rankingRowLeft\">Solo\\r\\n\\t\\t\\t\\t\\t\\t\\t\\t\\t\\t\\t</td><td class=\"rankingRowLeft\"><a href=\"/war3/images/ladder/maps/Amazonia.jpg\">Amazonia</a>\\r\\n\\t\\t\\t\\t\\t\\t\\t\\t\\t\\t\\t</td><td class=\"rankingRowAlt\">\\r\\n\\t\\t\\t\\t\\t\\t\\t\\t\\t\\t\\t<table cellspacing = \"0\" cellpadding = \"0\">\\r\\n\\t\\t\\t\\t\\t\\t\\t\\t\\t\\t\\t\\t<tr><td align = \"right\"><small>Allies: </small></td><td><small></small></td></tr>\\r\\n\\t\\t\\t\\t\\t\\t\\t\\t\\t\\t\\t\\t\\r\\n\\t\\t\\t\\t\\t\\t\\t\\t\\t\\t\\t\\t<tr><td align = \"right\"><small>Opponents: </small></td><td><small><a href = \"w3xp-player-profile.aspx?Gateway=Northrend&PlayerName=wakadaka\">wakadaka</a></small></td></tr>\\t\\r\\n\\t\\t\\t\\t\\t\\t\\t\\t\\t\\t\\t</table>\\t\\t\\t\\t\\t\\t\\t\\t\\t\\t\\t\\r\\n\\t\\t\\t\\t\\t\\t\\t\\t\\t\\t\\t</td><td class=\"rankingRow\">8\\r\\n\\t\\t\\t\\t\\t\\t\\t\\t\\t\\t\\t</td><td class=\"rankingRowLeft\">Win\\r\\n\\t\\t\\t\\t\\t\\t\\t\\t\\t\\t\\t</td>\\r\\n\\t</tr><tr class=\"rankingRow\" bgcolor=\"#271A13\">\\r\\n\\t\\t<td class=\"rankingRow\"><a href = \"w3xp-game-detail.aspx?Gateway=Northrend&GameID=79803247\"><img src=\"/war3/images/ladder-revise/gamedetail/gamedetail-icon.gif\" width=\"28\" height=\"28\" border = \"0\" alt = \"Game Detail\"></a>\\r\\n\\t\\t\\t\\t\\t\\t\\t\\t\\t\\t\\t</td><td class=\"rankingRowLeft\"><a href = \"w3xp-game-detail.aspx?Gateway=Northrend&GameID=79803247\">11/30/2018  <br> 7:53 PM WEST</a>\\r\\n\\t\\t\\t\\t\\t\\t\\t\\t\\t\\t\\t</td><td class=\"rankingRowLeft\">Solo\\r\\n\\t\\t\\t\\t\\t\\t\\t\\t\\t\\t\\t</td><td class=\"rankingRowLeft\"><a href=\"/war3/images/ladder/maps/LastRefuge.jpg\">Last Refuge</a>\\r\\n\\t\\t\\t\\t\\t\\t\\t\\t\\t\\t\\t</td><td class=\"rankingRowAlt\">\\r\\n\\t\\t\\t\\t\\t\\t\\t\\t\\t\\t\\t<table cellspacing = \"0\" cellpadding = \"0\">\\r\\n\\t\\t\\t\\t\\t\\t\\t\\t\\t\\t\\t\\t<tr><td align = \"right\"><small>Allies: </small></td><td><small></small></td></tr>\\r\\n\\t\\t\\t\\t\\t\\t\\t\\t\\t\\t\\t\\t\\r\\n\\t\\t\\t\\t\\t\\t\\t\\t\\t\\t\\t\\t<tr><td align = \"right\"><small>Opponents: </small></td><td><small><a href = \"w3xp-player-profile.aspx?Gateway=Northrend&PlayerName=lordkasekague\">lordkasekague</a></small></td></tr>\\t\\r\\n\\t\\t\\t\\t\\t\\t\\t\\t\\t\\t\\t</table>\\t\\t\\t\\t\\t\\t\\t\\t\\t\\t\\t\\r\\n\\t\\t\\t\\t\\t\\t\\t\\t\\t\\t\\t</td><td class=\"rankingRow\">12\\r\\n\\t\\t\\t\\t\\t\\t\\t\\t\\t\\t\\t</td><td class=\"rankingRowLeft\">Loss\\r\\n\\t\\t\\t\\t\\t\\t\\t\\t\\t\\t\\t</td>\\r\\n\\t</tr><tr class=\"rankingRow\" bgcolor=\"#111111\">\\r\\n\\t\\t<td class=\"rankingRow\"><a href = \"w3xp-game-detail.aspx?Gateway=Northrend&GameID=79803096\"><img src=\"/war3/images/ladder-revise/gamedetail/gamedetail-icon.gif\" width=\"28\" height=\"28\" border = \"0\" alt = \"Game Detail\"></a>\\r\\n\\t\\t\\t\\t\\t\\t\\t\\t\\t\\t\\t</td><td class=\"rankingRowLeft\"><a href = \"w3xp-game-detail.aspx?Gateway=Northrend&GameID=79803096\">11/30/2018  <br> 7:33 PM WEST</a>\\r\\n\\t\\t\\t\\t\\t\\t\\t\\t\\t\\t\\t</td><td class=\"rankingRowLeft\">Solo\\r\\n\\t\\t\\t\\t\\t\\t\\t\\t\\t\\t\\t</td><td class=\"rankingRowLeft\"><a href=\"/war3/images/ladder/maps/TwistedMeadows.jpg\">Twisted Meadows</a>\\r\\n\\t\\t\\t\\t\\t\\t\\t\\t\\t\\t\\t</td><td class=\"rankingRowAlt\">\\r\\n\\t\\t\\t\\t\\t\\t\\t\\t\\t\\t\\t<table cellspacing = \"0\" cellpadding = \"0\">\\r\\n\\t\\t\\t\\t\\t\\t\\t\\t\\t\\t\\t\\t<tr><td align = \"right\"><small>Allies: </small></td><td><small></small></td></tr>\\r\\n\\t\\t\\t\\t\\t\\t\\t\\t\\t\\t\\t\\t\\r\\n\\t\\t\\t\\t\\t\\t\\t\\t\\t\\t\\t\\t<tr><td align = \"right\"><small>Opponents: </small></td><td><small><a href = \"w3xp-player-profile.aspx?Gateway=Northrend&PlayerName=MisterWinner\">MisterWinner</a></small></td></tr>\\t\\r\\n\\t\\t\\t\\t\\t\\t\\t\\t\\t\\t\\t</table>\\t\\t\\t\\t\\t\\t\\t\\t\\t\\t\\t\\r\\n\\t\\t\\t\\t\\t\\t\\t\\t\\t\\t\\t</td><td class=\"rankingRow\">22\\r\\n\\t\\t\\t\\t\\t\\t\\t\\t\\t\\t\\t</td><td class=\"rankingRowLeft\">Win\\r\\n\\t\\t\\t\\t\\t\\t\\t\\t\\t\\t\\t</td>\\r\\n\\t</tr><tr class=\"rankingRow\" bgcolor=\"#271A13\">\\r\\n\\t\\t<td class=\"rankingRow\"><a href = \"w3xp-game-detail.aspx?Gateway=Northrend&GameID=79802825\"><img src=\"/war3/images/ladder-revise/gamedetail/gamedetail-icon.gif\" width=\"28\" height=\"28\" border = \"0\" alt = \"Game Detail\"></a>\\r\\n\\t\\t\\t\\t\\t\\t\\t\\t\\t\\t\\t</td><td class=\"rankingRowLeft\"><a href = \"w3xp-game-detail.aspx?Gateway=Northrend&GameID=79802825\">11/30/2018  <br> 7:09 PM WEST</a>\\r\\n\\t\\t\\t\\t\\t\\t\\t\\t\\t\\t\\t</td><td class=\"rankingRowLeft\">Solo\\r\\n\\t\\t\\t\\t\\t\\t\\t\\t\\t\\t\\t</td><td class=\"rankingRowLeft\"><a href=\"/war3/images/ladder/maps/TerenasStand_LV.jpg\">Terenas Stand_ L V</a>\\r\\n\\t\\t\\t\\t\\t\\t\\t\\t\\t\\t\\t</td><td class=\"rankingRowAlt\">\\r\\n\\t\\t\\t\\t\\t\\t\\t\\t\\t\\t\\t<table cellspacing = \"0\" cellpadding = \"0\">\\r\\n\\t\\t\\t\\t\\t\\t\\t\\t\\t\\t\\t\\t<tr><td align = \"right\"><small>Allies: </small></td><td><small></small></td></tr>\\r\\n\\t\\t\\t\\t\\t\\t\\t\\t\\t\\t\\t\\t\\r\\n\\t\\t\\t\\t\\t\\t\\t\\t\\t\\t\\t\\t<tr><td align = \"right\"><small>Opponents: </small></td><td><small><a href = \"w3xp-player-profile.aspx?Gateway=Northrend&PlayerName=Barcode\">Barcode</a></small></td></tr>\\t\\r\\n\\t\\t\\t\\t\\t\\t\\t\\t\\t\\t\\t</table>\\t\\t\\t\\t\\t\\t\\t\\t\\t\\t\\t\\r\\n\\t\\t\\t\\t\\t\\t\\t\\t\\t\\t\\t</td><td class=\"rankingRow\">16\\r\\n\\t\\t\\t\\t\\t\\t\\t\\t\\t\\t\\t</td><td class=\"rankingRowLeft\">Loss\\r\\n\\t\\t\\t\\t\\t\\t\\t\\t\\t\\t\\t</td>\\r\\n\\t</tr><tr class=\"rankingRow\" bgcolor=\"#111111\">\\r\\n\\t\\t<td class=\"rankingRow\"><a href = \"w3xp-game-detail.aspx?Gateway=Northrend&GameID=79715512\"><img src=\"/war3/images/ladder-revise/gamedetail/gamedetail-icon.gif\" width=\"28\" height=\"28\" border = \"0\" alt = \"Game Detail\"></a>\\r\\n\\t\\t\\t\\t\\t\\t\\t\\t\\t\\t\\t</td><td class=\"rankingRowLeft\"><a href = \"w3xp-game-detail.aspx?Gateway=Northrend&GameID=79715512\">11/22/2018  <br> 6:08 PM WEST</a>\\r\\n\\t\\t\\t\\t\\t\\t\\t\\t\\t\\t\\t</td><td class=\"rankingRowLeft\">Solo\\r\\n\\t\\t\\t\\t\\t\\t\\t\\t\\t\\t\\t</td><td class=\"rankingRowLeft\"><a href=\"/war3/images/ladder/maps/TwistedMeadows.jpg\">Twisted Meadows</a>\\r\\n\\t\\t\\t\\t\\t\\t\\t\\t\\t\\t\\t</td><td class=\"rankingRowAlt\">\\r\\n\\t\\t\\t\\t\\t\\t\\t\\t\\t\\t\\t<table cellspacing = \"0\" cellpadding = \"0\">\\r\\n\\t\\t\\t\\t\\t\\t\\t\\t\\t\\t\\t\\t<tr><td align = \"right\"><small>Allies: </small></td><td><small></small></td></tr>\\r\\n\\t\\t\\t\\t\\t\\t\\t\\t\\t\\t\\t\\t\\r\\n\\t\\t\\t\\t\\t\\t\\t\\t\\t\\t\\t\\t<tr><td align = \"right\"><small>Opponents: </small></td><td><small><a href = \"w3xp-player-profile.aspx?Gateway=Northrend&PlayerName=4uvakcool\">4uvakcool</a></small></td></tr>\\t\\r\\n\\t\\t\\t\\t\\t\\t\\t\\t\\t\\t\\t</table>\\t\\t\\t\\t\\t\\t\\t\\t\\t\\t\\t\\r\\n\\t\\t\\t\\t\\t\\t\\t\\t\\t\\t\\t</td><td class=\"rankingRow\">14\\r\\n\\t\\t\\t\\t\\t\\t\\t\\t\\t\\t\\t</td><td class=\"rankingRowLeft\">Win\\r\\n\\t\\t\\t\\t\\t\\t\\t\\t\\t\\t\\t</td>\\r\\n\\t</tr>\\r\\n</table>\\t\\t\\t\\t\\t\\t\\r\\n\\t\\t\\t\\t\\t\\t\\t\\r\\n\\r\\n\\t\\t\\r\\n\\t\\t\\t\\t\\t</td>\\r\\n\\t\\t\\t\\t\\t<td width=\"11\" background=\"/war3/images/ladder-revise/rankingborder-right.gif\" valign=\"bottom\"><img src=\"/war3/images/ladder-revise/rankingborder-right-bot.gif\" width=\"11\" height=\"10\"></td>\\r\\n\\t\\t\\t\\t</tr>\\r\\n\\t\\t\\t</table>\\r\\n\\t\\t</td>\\r\\n\\t</tr>\\r\\n\\t<tr>\\r\\n\\t\\t<td background=\"/war3/images/ladder-revise/rankingborder-bot.gif\">\\r\\n\\t\\t\\t<table cellspacing=\"0\" cellpadding=\"0\" border=\"0\" width=\"100%\">\\r\\n\\t\\t\\t\\t<tr>\\r\\n\\t\\t\\t\\t\\t<td width=\"50%\"><img src=\"/war3/images/ladder-revise/rankingborder-bot-left.gif\" width=\"19\" height=\"12\"></td>\\r\\n\\t\\t\\t\\t\\t<td width=\"50%\" align=\"right\"><img src=\"/war3/images/ladder-revise/rankingborder-bot-right.gif\" width=\"19\" height=\"12\"></td>\\r\\n\\t\\t\\t\\t</tr>\\r\\n\\t\\t\\t</table>\\r\\n\\r\\n</td>\\r\\n\\t\\t\\t\\t\\t\\t\\t</tr>\\r\\n\\t\\t\\t\\t\\t\\t</table>\\r\\n\\t\\t\\t\\t\\t</td>\\r\\n\\t\\t\\t\\t\\t<td background=\"/war3/images/ladder-revise/right-bg.gif\" width=\"5\"><img src=\"/war3/images/pixel.gif\" width=\"5\" height=\"362\"></td>\\r\\n\\t\\t\\t\\t</tr>\\r\\n\\t\\t\\t\\t<tr>\\r\\n\\t\\t\\t\\t\\t<td colspan=\"3\" valign = \"bottom\" style = \"BACKGROUND-IMAGE: url(\\'/war3/images/ladder-revise/left-bg.gif\\');  BACKGROUND-REPEAT: repeat-y; BACKGROUND-POSITION: left;\">\\r\\n\\t\\t\\t\\t\\t\\t<table cellspacing=\"0\" cellpadding=\"0\" border=\"0\" width=\"100%\">\\r\\n\\t\\t\\t\\t\\t\\t\\t<tr>\\r\\n\\t\\t\\t\\t\\t\\t\\t\\t<td background=\"/war3/images/ladder-revise/bot-left-bg.gif\" width=\"50%\" align=\"left\"><table cellspacing=\"0\" cellpadding=\"0\" border=\"0\">\\r\\n\\t\\t\\t\\t\\t\\t\\t\\t\\t\\t<tr>\\r\\n\\t\\t\\t\\t\\t\\t\\t\\t\\t\\t\\t<td>\\r\\n\\t\\t\\t\\t\\t\\t\\t\\t\\t\\t\\t\\t<a href = \"w3xp-ladders.aspx?Gateway=Northrend\"><img src=\"/war3/images/ladder-revise/arrow-left.gif\" width=\"32\" height=\"52\" border=\"0\"></a></td>\\r\\n\\t\\t\\t\\t\\t\\t\\t\\t\\t\\t\\t<td><small><img src=\"/war3/images/pixel.gif\" width=\"10\" height=\"15\"><br>\\r\\n\\t\\t\\t\\t\\t\\t\\t\\t\\t\\t\\t\\t\\t<a href = \"w3xp-ladders.aspx?Gateway=Northrend\">Return to the Main Ladder Page</a></small></td>\\r\\n\\t\\t\\t\\t\\t\\t\\t\\t\\t\\t</tr>\\r\\n\\t\\t\\t\\t\\t\\t\\t\\t\\t</table>\\r\\n\\t\\t\\t\\t\\t\\t\\t\\t</td>\\r\\n\\t\\t\\t\\t\\t\\t\\t\\t<td width=\"108\"><a href=\"http://www.blizzard.com\"><img src=\"/war3/images/ladder-revise/blizzlogo.gif\" width=\"117\" height=\"52\" border=\"0\"></a></td>\\r\\n\\t\\t\\t\\t\\t\\t\\t\\t<td background=\"/war3/images/ladder-revise/bot-right-bg.gif\" width=\"50%\" align=\"middle\"><table cellspacing=\"0\" cellpadding=\"0\" border=\"0\" width=\"100%\">\\r\\n\\t\\t\\t\\t\\t\\t\\t\\t\\t\\t<tr>\\r\\n\\t\\t\\t\\t\\t\\t\\t\\t\\t\\t\\t<td width=\"100%\" align=\"middle\" valign=\"top\"><table cellspacing=\"0\" cellpadding=\"0\" border=\"0\">\\r\\n\\t\\t\\t\\t\\t\\t\\t\\t\\t\\t\\t\\t\\t<tr>\\r\\n\\t\\t\\t\\t\\t\\t\\t\\t\\t\\t\\t\\t\\t\\t<td colspan=\"3\" valign=\"top\" align=\"middle\"><img src=\"/war3/images/pixel.gif\" width=\"1\" height=\"6\"></td>\\r\\n\\t\\t\\t\\t\\t\\t\\t\\t\\t\\t\\t\\t\\t</tr>\\r\\n\\t\\t\\t\\t\\t\\t\\t\\t\\t\\t\\t\\t\\t<tr>\\r\\n\\t\\t\\t\\t\\t\\t\\t\\t\\t\\t\\t\\t\\t\\t<td></td>\\r\\n\\t\\t\\t\\t\\t\\t\\t\\t\\t\\t\\t\\t\\t\\t<td>\\r\\n\\t\\t\\t\\t\\t\\t\\t\\t\\t\\t\\t\\t\\t\\t</td>\\r\\n\\t\\t\\t\\t\\t\\t\\t\\t\\t\\t\\t\\t\\t</tr>\\r\\n\\t\\t\\t\\t\\t\\t\\t\\t\\t\\t\\t\\t</table>\\r\\n\\t\\t\\t\\t\\t\\t\\t\\t\\t\\t\\t</td>\\r\\n\\t\\t\\t\\t\\t\\t\\t\\t\\t\\t\\t<td width=\"15\"><img src=\"/war3/images/ladder-revise/bot-right.gif\" width=\"15\" height=\"52\"></td>\\r\\n\\t\\t\\t\\t\\t\\t\\t\\t\\t\\t</tr>\\r\\n\\t\\t\\t\\t\\t\\t\\t\\t\\t</table>\\r\\n\\t\\t\\t\\t\\t\\t\\t\\t</td>\\r\\n\\t\\t\\t\\t\\t\\t\\t</tr>\\r\\n\\t\\t\\t\\t\\t\\t</table>\\r\\n\\t\\t\\t\\t\\t</td>\\r\\n\\t\\t\\t\\t</tr>\\r\\n\\t\\t\\t</table>\\r\\n<!--- Google Analytics -------------------------------->\\r\\n<script type=\"text/javascript\">\\r\\nvar gaJsHost = ((\"https:\" == document.location.protocol) ? \"https://ssl.\" : \"http://www.\");\\r\\ndocument.write(unescape(\"%3Cscript src=\\'\" + gaJsHost + \"google-analytics.com/ga.js\\' type=\\'text/javascript\\'%3E%3C/script%3E\"));\\r\\n</script>\\r\\n<script type=\"text/javascript\">\\r\\nvar pageTracker = _gat._getTracker(\"UA-544112-16\");\\r\\npageTracker._setDomainName(\"battle.net\");\\r\\npageTracker._initData();\\r\\npageTracker._trackPageview();\\r\\n</script>\\r\\n\\t</body>\\r\\n</HTML>\\r\\n'"
      ]
     },
     "execution_count": 54,
     "metadata": {},
     "output_type": "execute_result"
    }
   ],
   "source": [
    "import requests\n",
    "r = requests.get('http://classic.battle.net/war3/ladder/w3xp-player-logged-games.aspx?Gateway=Northrend&PlayerName=rellik')\n",
    "r.content"
   ]
  },
  {
   "cell_type": "code",
   "execution_count": 55,
   "metadata": {},
   "outputs": [
    {
     "data": {
      "text/plain": [
       "[{'date': '2018-12-03 19:42:00',\n",
       "  'game_id': 79822473,\n",
       "  'game_length': 6,\n",
       "  'game_type': 'Solo',\n",
       "  'map': 'Plunder Isle_ L V',\n",
       "  'team_one': ['Rellik'],\n",
       "  'team_two': ['Klapi'],\n",
       "  'winner': ['Rellik']},\n",
       " {'date': '2018-12-03 19:34:00',\n",
       "  'game_id': 79822443,\n",
       "  'game_length': 6,\n",
       "  'game_type': 'Solo',\n",
       "  'map': 'Echo Isles',\n",
       "  'team_one': ['Rellik'],\n",
       "  'team_two': ['GregvanAvermat'],\n",
       "  'winner': ['Rellik']},\n",
       " {'date': '2018-12-02 20:57:00',\n",
       "  'game_id': 79819025,\n",
       "  'game_length': 11,\n",
       "  'game_type': 'Solo',\n",
       "  'map': 'Turtle Rock',\n",
       "  'team_one': ['Rellik'],\n",
       "  'team_two': ['FlyHigh'],\n",
       "  'winner': ['Rellik']},\n",
       " {'date': '2018-12-02 14:06:00',\n",
       "  'game_id': 79816225,\n",
       "  'game_length': 0,\n",
       "  'game_type': 'Solo',\n",
       "  'map': 'Amazonia',\n",
       "  'team_one': ['Rellik'],\n",
       "  'team_two': ['thisismymainacc'],\n",
       "  'winner': ['Rellik']},\n",
       " {'date': '2018-12-02 08:02:00',\n",
       "  'game_id': 79814822,\n",
       "  'game_length': 13,\n",
       "  'game_type': 'Solo',\n",
       "  'map': 'Plunder Isle_ L V',\n",
       "  'team_one': ['Rellik'],\n",
       "  'team_two': ['Isux2much'],\n",
       "  'winner': ['Rellik']},\n",
       " {'date': '2018-12-01 19:54:00',\n",
       "  'game_id': 79811569,\n",
       "  'game_length': 13,\n",
       "  'game_type': 'Solo',\n",
       "  'map': 'Echo Isles',\n",
       "  'team_one': ['Rellik'],\n",
       "  'team_two': ['Gwu'],\n",
       "  'winner': ['Rellik']},\n",
       " {'date': '2018-12-01 19:37:00',\n",
       "  'game_id': 79811467,\n",
       "  'game_length': 0,\n",
       "  'game_type': 'Solo',\n",
       "  'map': 'Turtle Rock',\n",
       "  'team_one': ['Rellik'],\n",
       "  'team_two': ['ujaosdnoansd'],\n",
       "  'winner': ['Rellik']},\n",
       " {'date': '2018-12-01 19:27:00',\n",
       "  'game_id': 79811404,\n",
       "  'game_length': 4,\n",
       "  'game_type': 'Solo',\n",
       "  'map': 'Amazonia',\n",
       "  'team_one': ['Rellik'],\n",
       "  'team_two': ['VERYSMALLMAN'],\n",
       "  'winner': ['Rellik']},\n",
       " {'date': '2018-12-01 19:11:00',\n",
       "  'game_id': 79811271,\n",
       "  'game_length': 10,\n",
       "  'game_type': 'Solo',\n",
       "  'map': 'Amazonia',\n",
       "  'team_one': ['Rellik'],\n",
       "  'team_two': ['mrCesar'],\n",
       "  'winner': ['Rellik']},\n",
       " {'date': '2018-12-01 11:40:00',\n",
       "  'game_id': 79808135,\n",
       "  'game_length': 10,\n",
       "  'game_type': 'Solo',\n",
       "  'map': 'Twisted Meadows',\n",
       "  'team_one': ['Rellik'],\n",
       "  'team_two': ['JarzYn'],\n",
       "  'winner': ['Rellik']},\n",
       " {'date': '2018-12-01 09:14:00',\n",
       "  'game_id': 79807529,\n",
       "  'game_length': 6,\n",
       "  'game_type': 'Solo',\n",
       "  'map': 'Terenas Stand_ L V',\n",
       "  'team_one': ['Rellik'],\n",
       "  'team_two': ['addron'],\n",
       "  'winner': ['Rellik']},\n",
       " {'date': '2018-12-01 09:07:00',\n",
       "  'game_id': 79807512,\n",
       "  'game_length': 0,\n",
       "  'game_type': 'Solo',\n",
       "  'map': 'Amazonia',\n",
       "  'team_one': ['Rellik'],\n",
       "  'team_two': ['blade11'],\n",
       "  'winner': ['Rellik']},\n",
       " {'date': '2018-11-30 20:03:00',\n",
       "  'game_id': 79803306,\n",
       "  'game_length': 8,\n",
       "  'game_type': 'Solo',\n",
       "  'map': 'Amazonia',\n",
       "  'team_one': ['Rellik'],\n",
       "  'team_two': ['wakadaka'],\n",
       "  'winner': ['Rellik']},\n",
       " {'date': '2018-11-30 19:53:00',\n",
       "  'game_id': 79803247,\n",
       "  'game_length': 12,\n",
       "  'game_type': 'Solo',\n",
       "  'map': 'Last Refuge',\n",
       "  'team_one': ['Rellik'],\n",
       "  'team_two': ['lordkasekague'],\n",
       "  'winner': ['lordkasekague']},\n",
       " {'date': '2018-11-30 19:33:00',\n",
       "  'game_id': 79803096,\n",
       "  'game_length': 22,\n",
       "  'game_type': 'Solo',\n",
       "  'map': 'Twisted Meadows',\n",
       "  'team_one': ['Rellik'],\n",
       "  'team_two': ['MisterWinner'],\n",
       "  'winner': ['Rellik']},\n",
       " {'date': '2018-11-30 19:09:00',\n",
       "  'game_id': 79802825,\n",
       "  'game_length': 16,\n",
       "  'game_type': 'Solo',\n",
       "  'map': 'Terenas Stand_ L V',\n",
       "  'team_one': ['Rellik'],\n",
       "  'team_two': ['Barcode'],\n",
       "  'winner': ['Barcode']},\n",
       " {'date': '2018-11-22 18:08:00',\n",
       "  'game_id': 79715512,\n",
       "  'game_length': 14,\n",
       "  'game_type': 'Solo',\n",
       "  'map': 'Twisted Meadows',\n",
       "  'team_one': ['Rellik'],\n",
       "  'team_two': ['4uvakcool'],\n",
       "  'winner': ['Rellik']}]"
      ]
     },
     "execution_count": 55,
     "metadata": {},
     "output_type": "execute_result"
    }
   ],
   "source": [
    "games = history_page.games()\n",
    "list(games)"
   ]
  },
  {
   "cell_type": "code",
   "execution_count": 13,
   "metadata": {
    "collapsed": true
   },
   "outputs": [],
   "source": [
    "def calculate_record(data_input, games):\n",
    "    df = pd.DataFrame(games)\n",
    "    \n",
    "    record = {}\n",
    "    for player in data_input.get('players').values():\n",
    "        record[player] = df['winner'].apply(lambda x: player == x[0]).sum()\n",
    "    \n",
    "    return record"
   ]
  },
  {
   "cell_type": "code",
   "execution_count": 28,
   "metadata": {
    "collapsed": true
   },
   "outputs": [],
   "source": [
    "def lambda_handler(data_input):\n",
    "    bigquery_credpath = os.path.abspath('/Users/cdaly/Box Sync/Daly, Christopher/Keys/BigQuery Reader Project-88493810ca62.json')\n",
    "    client = bigquery.Client.from_service_account_json(bigquery_credpath)\n",
    "    job_config = bigquery.LoadJobConfig()\n",
    "    job_config.skip_leading_rows = 1\n",
    "    job_config.autodetect = True\n",
    "    dataset_id = 'wc3'\n",
    "    \n",
    "    player = data_input.get('players').get('player_one')\n",
    "    server = data_input.get('server')\n",
    "\n",
    "    # Update current data.\n",
    "    last_bq_date = get_last_bq_date(client, player, server)\n",
    "    new_games = get_new_games(player, server, last_bq_date=last_bq_date)\n",
    "    if len(new_games) > 0:\n",
    "        update_table(server, new_games)\n",
    "    else:\n",
    "        print('No new games.')\n",
    "    \n",
    "    # Get current record.\n",
    "    games = get_games_between_players(client, data_input.get('players'), server)\n",
    "    if len(games) > 0:\n",
    "        record = calculate_record(data_input, games)\n",
    "        data = {'games': games, 'record': record}\n",
    "        return data"
   ]
  },
  {
   "cell_type": "code",
   "execution_count": 46,
   "metadata": {},
   "outputs": [
    {
     "name": "stdout",
     "output_type": "stream",
     "text": [
      "Last BigQuery date: 2018-12-03 19:42:00\n",
      "Looking for new games...\n",
      "No new games.\n",
      "No games between (Rellik) and (Misterwinner) in database.\n"
     ]
    }
   ],
   "source": [
    "data_input = {\n",
    "    'server': 'northrend',\n",
    "    'players': {\n",
    "        'player_one': 'Rellik',\n",
    "        'player_two': 'Misterwinner',\n",
    "    }\n",
    "}\n",
    "player = data_input.get('players').get('player_one')\n",
    "server = data_input.get('server')\n",
    "\n",
    "lambda_handler(data_input)"
   ]
  },
  {
   "cell_type": "code",
   "execution_count": null,
   "metadata": {},
   "outputs": [],
   "source": [
    "history_page = HistoryPage(player, server)\n",
    "print(history_page)"
   ]
  },
  {
   "cell_type": "code",
   "execution_count": 26,
   "metadata": {},
   "outputs": [
    {
     "data": {
      "text/plain": [
       "[{'date': '2018-12-03 19:42:00',\n",
       "  'game_id': 79822473,\n",
       "  'game_length': 6,\n",
       "  'game_type': 'Solo',\n",
       "  'map': 'Plunder Isle_ L V',\n",
       "  'team_one': ['Rellik'],\n",
       "  'team_two': ['Klapi'],\n",
       "  'winner': ['Rellik']},\n",
       " {'date': '2018-12-03 19:34:00',\n",
       "  'game_id': 79822443,\n",
       "  'game_length': 6,\n",
       "  'game_type': 'Solo',\n",
       "  'map': 'Echo Isles',\n",
       "  'team_one': ['Rellik'],\n",
       "  'team_two': ['GregvanAvermat'],\n",
       "  'winner': ['Rellik']},\n",
       " {'date': '2018-12-02 20:57:00',\n",
       "  'game_id': 79819025,\n",
       "  'game_length': 11,\n",
       "  'game_type': 'Solo',\n",
       "  'map': 'Turtle Rock',\n",
       "  'team_one': ['Rellik'],\n",
       "  'team_two': ['FlyHigh'],\n",
       "  'winner': ['Rellik']},\n",
       " {'date': '2018-12-02 14:06:00',\n",
       "  'game_id': 79816225,\n",
       "  'game_length': 0,\n",
       "  'game_type': 'Solo',\n",
       "  'map': 'Amazonia',\n",
       "  'team_one': ['Rellik'],\n",
       "  'team_two': ['thisismymainacc'],\n",
       "  'winner': ['Rellik']},\n",
       " {'date': '2018-12-02 08:02:00',\n",
       "  'game_id': 79814822,\n",
       "  'game_length': 13,\n",
       "  'game_type': 'Solo',\n",
       "  'map': 'Plunder Isle_ L V',\n",
       "  'team_one': ['Rellik'],\n",
       "  'team_two': ['Isux2much'],\n",
       "  'winner': ['Rellik']},\n",
       " {'date': '2018-12-01 19:54:00',\n",
       "  'game_id': 79811569,\n",
       "  'game_length': 13,\n",
       "  'game_type': 'Solo',\n",
       "  'map': 'Echo Isles',\n",
       "  'team_one': ['Rellik'],\n",
       "  'team_two': ['Gwu'],\n",
       "  'winner': ['Rellik']},\n",
       " {'date': '2018-12-01 19:37:00',\n",
       "  'game_id': 79811467,\n",
       "  'game_length': 0,\n",
       "  'game_type': 'Solo',\n",
       "  'map': 'Turtle Rock',\n",
       "  'team_one': ['Rellik'],\n",
       "  'team_two': ['ujaosdnoansd'],\n",
       "  'winner': ['Rellik']},\n",
       " {'date': '2018-12-01 19:27:00',\n",
       "  'game_id': 79811404,\n",
       "  'game_length': 4,\n",
       "  'game_type': 'Solo',\n",
       "  'map': 'Amazonia',\n",
       "  'team_one': ['Rellik'],\n",
       "  'team_two': ['VERYSMALLMAN'],\n",
       "  'winner': ['Rellik']},\n",
       " {'date': '2018-12-01 19:11:00',\n",
       "  'game_id': 79811271,\n",
       "  'game_length': 10,\n",
       "  'game_type': 'Solo',\n",
       "  'map': 'Amazonia',\n",
       "  'team_one': ['Rellik'],\n",
       "  'team_two': ['mrCesar'],\n",
       "  'winner': ['Rellik']},\n",
       " {'date': '2018-12-01 11:40:00',\n",
       "  'game_id': 79808135,\n",
       "  'game_length': 10,\n",
       "  'game_type': 'Solo',\n",
       "  'map': 'Twisted Meadows',\n",
       "  'team_one': ['Rellik'],\n",
       "  'team_two': ['JarzYn'],\n",
       "  'winner': ['Rellik']},\n",
       " {'date': '2018-12-01 09:14:00',\n",
       "  'game_id': 79807529,\n",
       "  'game_length': 6,\n",
       "  'game_type': 'Solo',\n",
       "  'map': 'Terenas Stand_ L V',\n",
       "  'team_one': ['Rellik'],\n",
       "  'team_two': ['addron'],\n",
       "  'winner': ['Rellik']},\n",
       " {'date': '2018-12-01 09:07:00',\n",
       "  'game_id': 79807512,\n",
       "  'game_length': 0,\n",
       "  'game_type': 'Solo',\n",
       "  'map': 'Amazonia',\n",
       "  'team_one': ['Rellik'],\n",
       "  'team_two': ['blade11'],\n",
       "  'winner': ['Rellik']},\n",
       " {'date': '2018-11-30 20:03:00',\n",
       "  'game_id': 79803306,\n",
       "  'game_length': 8,\n",
       "  'game_type': 'Solo',\n",
       "  'map': 'Amazonia',\n",
       "  'team_one': ['Rellik'],\n",
       "  'team_two': ['wakadaka'],\n",
       "  'winner': ['Rellik']},\n",
       " {'date': '2018-11-30 19:53:00',\n",
       "  'game_id': 79803247,\n",
       "  'game_length': 12,\n",
       "  'game_type': 'Solo',\n",
       "  'map': 'Last Refuge',\n",
       "  'team_one': ['Rellik'],\n",
       "  'team_two': ['lordkasekague'],\n",
       "  'winner': ['lordkasekague']},\n",
       " {'date': '2018-11-30 19:33:00',\n",
       "  'game_id': 79803096,\n",
       "  'game_length': 22,\n",
       "  'game_type': 'Solo',\n",
       "  'map': 'Twisted Meadows',\n",
       "  'team_one': ['Rellik'],\n",
       "  'team_two': ['MisterWinner'],\n",
       "  'winner': ['Rellik']},\n",
       " {'date': '2018-11-30 19:09:00',\n",
       "  'game_id': 79802825,\n",
       "  'game_length': 16,\n",
       "  'game_type': 'Solo',\n",
       "  'map': 'Terenas Stand_ L V',\n",
       "  'team_one': ['Rellik'],\n",
       "  'team_two': ['Barcode'],\n",
       "  'winner': ['Barcode']},\n",
       " {'date': '2018-11-22 18:08:00',\n",
       "  'game_id': 79715512,\n",
       "  'game_length': 14,\n",
       "  'game_type': 'Solo',\n",
       "  'map': 'Twisted Meadows',\n",
       "  'team_one': ['Rellik'],\n",
       "  'team_two': ['4uvakcool'],\n",
       "  'winner': ['Rellik']}]"
      ]
     },
     "execution_count": 26,
     "metadata": {},
     "output_type": "execute_result"
    }
   ],
   "source": [
    "list(history_page.games())"
   ]
  },
  {
   "cell_type": "code",
   "execution_count": null,
   "metadata": {},
   "outputs": [],
   "source": [
    "print(ProfilePage('zxcasdqwe', 'northrend'))"
   ]
  },
  {
   "cell_type": "code",
   "execution_count": null,
   "metadata": {},
   "outputs": [],
   "source": [
    "games = history_page.games()\n",
    "list(games)"
   ]
  },
  {
   "cell_type": "code",
   "execution_count": null,
   "metadata": {},
   "outputs": [],
   "source": [
    "next_page = history_page.next_page\n",
    "next_page"
   ]
  },
  {
   "cell_type": "code",
   "execution_count": null,
   "metadata": {
    "collapsed": true
   },
   "outputs": [],
   "source": [
    "# 2 cases:\n",
    "# No new games.\n",
    "# New games. Loop through game history until we have everything."
   ]
  }
 ],
 "metadata": {
  "kernelspec": {
   "display_name": "Python 3",
   "language": "python",
   "name": "python3"
  },
  "language_info": {
   "codemirror_mode": {
    "name": "ipython",
    "version": 3
   },
   "file_extension": ".py",
   "mimetype": "text/x-python",
   "name": "python",
   "nbconvert_exporter": "python",
   "pygments_lexer": "ipython3",
   "version": "3.6.5"
  },
  "toc": {
   "base_numbering": 1,
   "nav_menu": {},
   "number_sections": true,
   "sideBar": true,
   "skip_h1_title": false,
   "title_cell": "Table of Contents",
   "title_sidebar": "Contents",
   "toc_cell": false,
   "toc_position": {},
   "toc_section_display": true,
   "toc_window_display": false
  },
  "varInspector": {
   "cols": {
    "lenName": 16,
    "lenType": 16,
    "lenVar": 40
   },
   "kernels_config": {
    "python": {
     "delete_cmd_postfix": "",
     "delete_cmd_prefix": "del ",
     "library": "var_list.py",
     "varRefreshCmd": "print(var_dic_list())"
    },
    "r": {
     "delete_cmd_postfix": ") ",
     "delete_cmd_prefix": "rm(",
     "library": "var_list.r",
     "varRefreshCmd": "cat(var_dic_list()) "
    }
   },
   "types_to_exclude": [
    "module",
    "function",
    "builtin_function_or_method",
    "instance",
    "_Feature"
   ],
   "window_display": false
  }
 },
 "nbformat": 4,
 "nbformat_minor": 2
}
