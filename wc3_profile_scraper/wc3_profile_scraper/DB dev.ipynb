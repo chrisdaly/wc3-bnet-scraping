{
 "cells": [
  {
   "cell_type": "code",
   "execution_count": 10,
   "metadata": {
    "collapsed": true
   },
   "outputs": [],
   "source": [
    "import os\n",
    "import json\n",
    "from google.cloud import bigquery\n",
    "import pandas as pd\n",
    "import dateparser\n",
    "from history_page import HistoryPage\n",
    "from profile_page import ProfilePage"
   ]
  },
  {
   "cell_type": "code",
   "execution_count": 11,
   "metadata": {
    "collapsed": true
   },
   "outputs": [],
   "source": [
    "def create_dataset(dataset_ref, location='US'):\n",
    "    dataset = bigquery.Dataset(dataset_ref)\n",
    "    try:\n",
    "        dataset = client.create_dataset(dataset)\n",
    "        print('\\n-- Dataset {} created --'.format(dataset_id))\n",
    "    except:\n",
    "        print('\\n-- Dataset {} already exists --'.format(dataset_id))\n",
    "        \n",
    "def check_table_exists(table_ref):\n",
    "    try:\n",
    "        client.get_table(table_ref)\n",
    "        return True\n",
    "    except:\n",
    "        return False"
   ]
  },
  {
   "cell_type": "code",
   "execution_count": 12,
   "metadata": {
    "collapsed": true
   },
   "outputs": [],
   "source": [
    "def get_schema_from_json(json, schema=[]):\n",
    "    input_json = json.copy()\n",
    "    if not input_json:\n",
    "        return schema\n",
    "\n",
    "    cur = input_json.pop()\n",
    "    name = cur['name']\n",
    "    field_type = cur['type']\n",
    "    mode = cur['mode']\n",
    "    fields = [] if 'fields' not in cur else get_schema_from_json(cur['fields'], [])\n",
    "    schema.append(bigquery.SchemaField(name=name, field_type=field_type, mode=mode, fields=fields))\n",
    "\n",
    "    return get_schema_from_json(input_json, schema)"
   ]
  },
  {
   "cell_type": "code",
   "execution_count": 13,
   "metadata": {
    "collapsed": true
   },
   "outputs": [],
   "source": [
    "def divide_into_batches(l, n):\n",
    "    \"\"\"Yield successive n-sized chunks from l.\"\"\"\n",
    "    for i in range(0, len(l), n):\n",
    "        yield l[i:i + n]"
   ]
  },
  {
   "cell_type": "code",
   "execution_count": 14,
   "metadata": {
    "collapsed": true
   },
   "outputs": [],
   "source": [
    "def database_setup(configuration, client, dataset_id):\n",
    "    dataset_ref = client.dataset(dataset_id)\n",
    "    create_dataset(dataset_ref, location='US')\n",
    "    \n",
    "    for table_name in ['northrend', 'azeroth']:\n",
    "        fields = configuration.get('fields')\n",
    "        schema = get_schema_from_json(fields, [])\n",
    "        file_path = './data_backfill/{}.json'.format(table_name)\n",
    "        try:\n",
    "            with open(file_path, 'r') as f:\n",
    "                data = json.loads(f.read())\n",
    "        except Exception:\n",
    "            print('No data found')\n",
    "        \n",
    "        create_table(dataset_id, table_name, schema, data)"
   ]
  },
  {
   "cell_type": "code",
   "execution_count": 15,
   "metadata": {
    "collapsed": true
   },
   "outputs": [],
   "source": [
    "def create_table(dataset_id, table_name, schema, data):\n",
    "    dataset_ref = client.dataset(dataset_id)\n",
    "    table_ref = dataset_ref.table(table_name)\n",
    "    table = bigquery.Table(table_ref, schema=schema)\n",
    "    if check_table_exists(table_ref):\n",
    "        print('\\n-- Table {} already exists --\\n'.format(table_ref))\n",
    "        return\n",
    "    \n",
    "    table = client.create_table(table)\n",
    "    batches = divide_into_batches(data, 10000)\n",
    "    for batch in batches:\n",
    "        errors = client.insert_rows(table, batch)\n",
    "        try:\n",
    "            assert errors == []\n",
    "        except Exception:\n",
    "            print(Exception, errors[0])\n",
    "    print('\\n-- Table {} created --\\n'.format(table_name))"
   ]
  },
  {
   "cell_type": "code",
   "execution_count": 30,
   "metadata": {
    "collapsed": true
   },
   "outputs": [],
   "source": [
    "def update_table(dataset_id, table_name, new_games):\n",
    "    dataset_ref = client.dataset(dataset_id)\n",
    "    table_ref = dataset_ref.table(table_name)\n",
    "    table = client.get_table(table_ref)\n",
    "    errors = client.insert_rows(table, new_games)#, insertId='game_id')\n",
    "    print('Uploaded {} new games'.format(len(new_games)))"
   ]
  },
  {
   "cell_type": "code",
   "execution_count": 17,
   "metadata": {},
   "outputs": [
    {
     "name": "stdout",
     "output_type": "stream",
     "text": [
      "\n",
      "-- Dataset wc3 already exists --\n",
      "\n",
      "-- Table TableReference(DatasetReference('bigquery-reader-project', 'wc3'), 'northrend') already exists --\n",
      "\n",
      "\n",
      "-- Table TableReference(DatasetReference('bigquery-reader-project', 'wc3'), 'azeroth') already exists --\n",
      "\n"
     ]
    }
   ],
   "source": [
    "bigquery_credpath = os.path.abspath('/Users/cdaly/Box Sync/Daly, Christopher/Keys/BigQuery Reader Project-88493810ca62.json')\n",
    "client = bigquery.Client.from_service_account_json(bigquery_credpath)\n",
    "job_config = bigquery.LoadJobConfig()\n",
    "job_config.skip_leading_rows = 1\n",
    "job_config.autodetect = True\n",
    "dataset_id = 'wc3'\n",
    "\n",
    "with open('./table_config.json', 'r') as f:\n",
    "    configuration = json.loads(f.read())\n",
    "    \n",
    "database_setup(configuration, client, dataset_id)"
   ]
  },
  {
   "cell_type": "markdown",
   "metadata": {},
   "source": [
    "## Dev records"
   ]
  },
  {
   "cell_type": "markdown",
   "metadata": {},
   "source": [
    "## Get the most recent data for player one"
   ]
  },
  {
   "cell_type": "code",
   "execution_count": 18,
   "metadata": {
    "collapsed": true
   },
   "outputs": [],
   "source": [
    "def get_last_bq_date(client, player, server):\n",
    "    query = ('''SELECT date FROM  `bigquery-reader-project.wc3.{}`,\n",
    "              UNNEST(team_one) AS first\n",
    "            WHERE \n",
    "                LOWER(first) IN (LOWER('{}'))\n",
    "            ORDER BY date DESC LIMIT 1\n",
    "        '''.format(server, player))\n",
    "\n",
    "    job = client.query(query)\n",
    "    results = list(job.result())\n",
    "    if len(results) == 0:\n",
    "        print('Player ({}) not in table ({}).'.format(player, server))\n",
    "        return None\n",
    "    row = results[0]\n",
    "    last_bq_date = row.get('date')\n",
    "    print('Last BigQuery date: {}'.format(last_bq_date))\n",
    "    return last_bq_date"
   ]
  },
  {
   "cell_type": "code",
   "execution_count": 19,
   "metadata": {
    "collapsed": true
   },
   "outputs": [],
   "source": [
    "def get_games_between_players(client, players, server):\n",
    "    query = ('''SELECT * FROM  `bigquery-reader-project.wc3.{}`,\n",
    "              UNNEST(team_one) AS first,\n",
    "              UNNEST(team_two) AS second\n",
    "            WHERE \n",
    "                LOWER(first) IN (LOWER('{player_one}'), LOWER('{player_two}')) \n",
    "            AND \n",
    "                LOWER(second) in (LOWER('{player_one}'), LOWER('{player_two}'))\n",
    "            ORDER BY date DESC\n",
    "        '''.format(server, **players))\n",
    "\n",
    "    job = client.query(query)\n",
    "    results = job.to_dataframe().to_dict(orient='records')\n",
    "    if len(results) == 0:\n",
    "        print('No games between ({player_one}) and ({player_two}) in database.'.format(**players))\n",
    "    return results"
   ]
  },
  {
   "cell_type": "code",
   "execution_count": 20,
   "metadata": {
    "collapsed": true
   },
   "outputs": [],
   "source": [
    "def get_new_games(player, server, last_bq_date=None):\n",
    "    print('Looking for new games...')\n",
    "    def no_more_dates():\n",
    "        if last_bq_date is None:\n",
    "            return False\n",
    "        else:\n",
    "            return current_date <= last_bq_date\n",
    "        \n",
    "    def no_more_pages():\n",
    "        return page >= next_page\n",
    "    \n",
    "    new_games = []\n",
    "    page = 1\n",
    "    \n",
    "    while True:\n",
    "        \n",
    "        history_page = HistoryPage(player, server, page)\n",
    "        games = history_page.games\n",
    "        next_page = history_page.next_page\n",
    "\n",
    "        for d in games:\n",
    "            current_date = dateparser.parse(d.get('date'))\n",
    "            if no_more_dates():\n",
    "                return new_games\n",
    "            else:\n",
    "                new_games.append(d)\n",
    "        \n",
    "        if no_more_pages():\n",
    "            return new_games\n",
    "        else:\n",
    "            page = next_page"
   ]
  },
  {
   "cell_type": "code",
   "execution_count": 21,
   "metadata": {
    "collapsed": true
   },
   "outputs": [],
   "source": [
    "def calculate_record(data_input, games):\n",
    "    df = pd.DataFrame(games)\n",
    "    \n",
    "    record = {}\n",
    "    for player in data_input.get('players').values():\n",
    "        record[player] = df['winner'].apply(lambda x: player.lower() == x[0].lower()).sum()\n",
    "    \n",
    "    return record"
   ]
  },
  {
   "cell_type": "code",
   "execution_count": 22,
   "metadata": {
    "collapsed": true
   },
   "outputs": [],
   "source": [
    "def lambda_handler(data_input):\n",
    "    bigquery_credpath = os.path.abspath('/Users/cdaly/Box Sync/Daly, Christopher/Keys/BigQuery Reader Project-88493810ca62.json')\n",
    "    client = bigquery.Client.from_service_account_json(bigquery_credpath)\n",
    "    job_config = bigquery.LoadJobConfig()\n",
    "    job_config.skip_leading_rows = 1\n",
    "    job_config.autodetect = True\n",
    "    dataset_id = 'wc3'\n",
    "    \n",
    "    player = data_input.get('players').get('player_one')\n",
    "    server = data_input.get('server')\n",
    "\n",
    "    # Check how recent the table data is for player_one. \n",
    "    last_bq_date = get_last_bq_date(client, player, server)\n",
    "    \n",
    "    # Update current data.\n",
    "    try:\n",
    "        new_games = get_new_games(player, server, last_bq_date=last_bq_date)\n",
    "        if len(new_games) > 0:\n",
    "            update_table(dataset_id, server, new_games)\n",
    "        else:\n",
    "            print('No new games.')\n",
    "    except Exception:\n",
    "        print('Bnet is not responding. Not updating tables.')\n",
    "        print(Exception)\n",
    "        \n",
    "    # Get current record.\n",
    "    games = get_games_between_players(client, data_input.get('players'), server)\n",
    "    if len(games) > 0:\n",
    "        record = calculate_record(data_input, games)\n",
    "        data = {'games': games, 'record': record}\n",
    "    else:\n",
    "        data = None\n",
    "    return data"
   ]
  },
  {
   "cell_type": "code",
   "execution_count": 23,
   "metadata": {},
   "outputs": [
    {
     "name": "stdout",
     "output_type": "stream",
     "text": [
      "Last BigQuery date: 2018-12-04 02:07:00\n",
      "Looking for new games...\n",
      "Bnet is not responding. Not updating tables.\n",
      "<class 'Exception'>\n"
     ]
    },
    {
     "data": {
      "text/plain": [
       "{'games': [{'date': Timestamp('2018-11-24 23:36:00'),\n",
       "   'first': 'RomanticHuman',\n",
       "   'game_id': 79729629,\n",
       "   'game_length': 0,\n",
       "   'game_type': 'Solo',\n",
       "   'map': 'Echo Isles',\n",
       "   'second': 'FollowGrubby',\n",
       "   'team_one': ['RomanticHuman'],\n",
       "   'team_two': ['FollowGrubby'],\n",
       "   'winner': ['FollowGrubby']},\n",
       "  {'date': Timestamp('2018-11-24 23:36:00'),\n",
       "   'first': 'FollowGrubby',\n",
       "   'game_id': 79729629,\n",
       "   'game_length': 0,\n",
       "   'game_type': 'Solo',\n",
       "   'map': 'Echo Isles',\n",
       "   'second': 'RomanticHuman',\n",
       "   'team_one': ['FollowGrubby'],\n",
       "   'team_two': ['RomanticHuman'],\n",
       "   'winner': ['FollowGrubby']},\n",
       "  {'date': Timestamp('2018-11-24 23:36:00'),\n",
       "   'first': 'RomanticHuman',\n",
       "   'game_id': 79729629,\n",
       "   'game_length': 0,\n",
       "   'game_type': 'Solo',\n",
       "   'map': 'Echo Isles',\n",
       "   'second': 'FollowGrubby',\n",
       "   'team_one': ['RomanticHuman'],\n",
       "   'team_two': ['FollowGrubby'],\n",
       "   'winner': ['FollowGrubby']},\n",
       "  {'date': Timestamp('2018-11-24 23:36:00'),\n",
       "   'first': 'FollowGrubby',\n",
       "   'game_id': 79729629,\n",
       "   'game_length': 0,\n",
       "   'game_type': 'Solo',\n",
       "   'map': 'Echo Isles',\n",
       "   'second': 'RomanticHuman',\n",
       "   'team_one': ['FollowGrubby'],\n",
       "   'team_two': ['RomanticHuman'],\n",
       "   'winner': ['FollowGrubby']}],\n",
       " 'record': {'followgrubby': 4, 'romantichuman': 0}}"
      ]
     },
     "execution_count": 23,
     "metadata": {},
     "output_type": "execute_result"
    }
   ],
   "source": [
    "data_input = {\n",
    "    'server': 'northrend',\n",
    "    'players': {\n",
    "        'player_one': 'followgrubby',\n",
    "        'player_two': 'romantichuman',\n",
    "    }\n",
    "}\n",
    "player = data_input.get('players').get('player_one')\n",
    "server = data_input.get('server')\n",
    "\n",
    "lambda_handler(data_input)"
   ]
  },
  {
   "cell_type": "code",
   "execution_count": 24,
   "metadata": {},
   "outputs": [
    {
     "name": "stdout",
     "output_type": "stream",
     "text": [
      "Last BigQuery date: 2018-12-04 02:07:00\n"
     ]
    },
    {
     "data": {
      "text/plain": [
       "datetime.datetime(2018, 12, 4, 2, 7)"
      ]
     },
     "execution_count": 24,
     "metadata": {},
     "output_type": "execute_result"
    }
   ],
   "source": [
    "last_bq_date = get_last_bq_date(client, player, server)\n",
    "last_bq_date"
   ]
  },
  {
   "cell_type": "code",
   "execution_count": 25,
   "metadata": {},
   "outputs": [
    {
     "name": "stdout",
     "output_type": "stream",
     "text": [
      "Looking for new games...\n"
     ]
    }
   ],
   "source": [
    "new_games = get_new_games(player, server, last_bq_date=last_bq_date)"
   ]
  },
  {
   "cell_type": "code",
   "execution_count": 40,
   "metadata": {},
   "outputs": [
    {
     "name": "stdout",
     "output_type": "stream",
     "text": [
      "Looking for new games...\n",
      "40\n"
     ]
    }
   ],
   "source": [
    "new_games = get_new_games(player, server)\n",
    "print(len(new_games))"
   ]
  },
  {
   "cell_type": "code",
   "execution_count": 31,
   "metadata": {},
   "outputs": [
    {
     "data": {
      "text/html": [
       "<div>\n",
       "<style scoped>\n",
       "    .dataframe tbody tr th:only-of-type {\n",
       "        vertical-align: middle;\n",
       "    }\n",
       "\n",
       "    .dataframe tbody tr th {\n",
       "        vertical-align: top;\n",
       "    }\n",
       "\n",
       "    .dataframe thead th {\n",
       "        text-align: right;\n",
       "    }\n",
       "</style>\n",
       "<table border=\"1\" class=\"dataframe\">\n",
       "  <thead>\n",
       "    <tr style=\"text-align: right;\">\n",
       "      <th></th>\n",
       "      <th>date</th>\n",
       "      <th>game_id</th>\n",
       "      <th>game_length</th>\n",
       "      <th>game_type</th>\n",
       "      <th>map</th>\n",
       "      <th>team_one</th>\n",
       "      <th>team_two</th>\n",
       "      <th>winner</th>\n",
       "    </tr>\n",
       "  </thead>\n",
       "  <tbody>\n",
       "    <tr>\n",
       "      <th>0</th>\n",
       "      <td>2019-02-06 00:56:00</td>\n",
       "      <td>79862681</td>\n",
       "      <td>21</td>\n",
       "      <td>Solo</td>\n",
       "      <td>Terenas Stand_ L V</td>\n",
       "      <td>[followgrubby]</td>\n",
       "      <td>[JUSTdo[it]]</td>\n",
       "      <td>[followgrubby]</td>\n",
       "    </tr>\n",
       "    <tr>\n",
       "      <th>1</th>\n",
       "      <td>2019-02-03 01:22:00</td>\n",
       "      <td>79845695</td>\n",
       "      <td>11</td>\n",
       "      <td>Solo</td>\n",
       "      <td>Twisted Meadows</td>\n",
       "      <td>[followgrubby]</td>\n",
       "      <td>[pwarrior]</td>\n",
       "      <td>[pwarrior]</td>\n",
       "    </tr>\n",
       "    <tr>\n",
       "      <th>2</th>\n",
       "      <td>2019-02-03 01:08:00</td>\n",
       "      <td>79845644</td>\n",
       "      <td>12</td>\n",
       "      <td>Solo</td>\n",
       "      <td>Concealed Hill</td>\n",
       "      <td>[followgrubby]</td>\n",
       "      <td>[Uberelf]</td>\n",
       "      <td>[followgrubby]</td>\n",
       "    </tr>\n",
       "    <tr>\n",
       "      <th>3</th>\n",
       "      <td>2019-02-03 00:52:00</td>\n",
       "      <td>79845577</td>\n",
       "      <td>12</td>\n",
       "      <td>Solo</td>\n",
       "      <td>Last Refuge</td>\n",
       "      <td>[followgrubby]</td>\n",
       "      <td>[atm]</td>\n",
       "      <td>[followgrubby]</td>\n",
       "    </tr>\n",
       "    <tr>\n",
       "      <th>4</th>\n",
       "      <td>2019-02-03 00:37:00</td>\n",
       "      <td>79845522</td>\n",
       "      <td>9</td>\n",
       "      <td>Solo</td>\n",
       "      <td>Northern Isles</td>\n",
       "      <td>[followgrubby]</td>\n",
       "      <td>[Critical]</td>\n",
       "      <td>[followgrubby]</td>\n",
       "    </tr>\n",
       "    <tr>\n",
       "      <th>5</th>\n",
       "      <td>2019-02-02 22:57:00</td>\n",
       "      <td>79844958</td>\n",
       "      <td>10</td>\n",
       "      <td>Solo</td>\n",
       "      <td>Twisted Meadows</td>\n",
       "      <td>[followgrubby]</td>\n",
       "      <td>[Alchh]</td>\n",
       "      <td>[followgrubby]</td>\n",
       "    </tr>\n",
       "    <tr>\n",
       "      <th>6</th>\n",
       "      <td>2019-02-02 22:40:00</td>\n",
       "      <td>79844851</td>\n",
       "      <td>6</td>\n",
       "      <td>Solo</td>\n",
       "      <td>Turtle Rock</td>\n",
       "      <td>[followgrubby]</td>\n",
       "      <td>[koza]</td>\n",
       "      <td>[followgrubby]</td>\n",
       "    </tr>\n",
       "    <tr>\n",
       "      <th>7</th>\n",
       "      <td>2019-02-02 22:30:00</td>\n",
       "      <td>79844780</td>\n",
       "      <td>13</td>\n",
       "      <td>Solo</td>\n",
       "      <td>Terenas Stand_ L V</td>\n",
       "      <td>[followgrubby]</td>\n",
       "      <td>[IamTry]</td>\n",
       "      <td>[followgrubby]</td>\n",
       "    </tr>\n",
       "    <tr>\n",
       "      <th>8</th>\n",
       "      <td>2019-02-02 22:15:00</td>\n",
       "      <td>79844681</td>\n",
       "      <td>11</td>\n",
       "      <td>Solo</td>\n",
       "      <td>Twisted Meadows</td>\n",
       "      <td>[followgrubby]</td>\n",
       "      <td>[tonbegali]</td>\n",
       "      <td>[followgrubby]</td>\n",
       "    </tr>\n",
       "    <tr>\n",
       "      <th>9</th>\n",
       "      <td>2019-02-02 20:06:00</td>\n",
       "      <td>79843923</td>\n",
       "      <td>19</td>\n",
       "      <td>Solo</td>\n",
       "      <td>Echo Isles</td>\n",
       "      <td>[followgrubby]</td>\n",
       "      <td>[FoxyDi]</td>\n",
       "      <td>[followgrubby]</td>\n",
       "    </tr>\n",
       "  </tbody>\n",
       "</table>\n",
       "</div>"
      ],
      "text/plain": [
       "                  date   game_id  game_length game_type                 map  \\\n",
       "0  2019-02-06 00:56:00  79862681           21      Solo  Terenas Stand_ L V   \n",
       "1  2019-02-03 01:22:00  79845695           11      Solo     Twisted Meadows   \n",
       "2  2019-02-03 01:08:00  79845644           12      Solo      Concealed Hill   \n",
       "3  2019-02-03 00:52:00  79845577           12      Solo         Last Refuge   \n",
       "4  2019-02-03 00:37:00  79845522            9      Solo      Northern Isles   \n",
       "5  2019-02-02 22:57:00  79844958           10      Solo     Twisted Meadows   \n",
       "6  2019-02-02 22:40:00  79844851            6      Solo         Turtle Rock   \n",
       "7  2019-02-02 22:30:00  79844780           13      Solo  Terenas Stand_ L V   \n",
       "8  2019-02-02 22:15:00  79844681           11      Solo     Twisted Meadows   \n",
       "9  2019-02-02 20:06:00  79843923           19      Solo          Echo Isles   \n",
       "\n",
       "         team_one      team_two          winner  \n",
       "0  [followgrubby]  [JUSTdo[it]]  [followgrubby]  \n",
       "1  [followgrubby]    [pwarrior]      [pwarrior]  \n",
       "2  [followgrubby]     [Uberelf]  [followgrubby]  \n",
       "3  [followgrubby]         [atm]  [followgrubby]  \n",
       "4  [followgrubby]    [Critical]  [followgrubby]  \n",
       "5  [followgrubby]       [Alchh]  [followgrubby]  \n",
       "6  [followgrubby]        [koza]  [followgrubby]  \n",
       "7  [followgrubby]      [IamTry]  [followgrubby]  \n",
       "8  [followgrubby]   [tonbegali]  [followgrubby]  \n",
       "9  [followgrubby]      [FoxyDi]  [followgrubby]  "
      ]
     },
     "execution_count": 31,
     "metadata": {},
     "output_type": "execute_result"
    }
   ],
   "source": [
    "pd.DataFrame(new_games)"
   ]
  },
  {
   "cell_type": "code",
   "execution_count": 28,
   "metadata": {},
   "outputs": [
    {
     "data": {
      "text/plain": [
       "datetime.datetime(2018, 12, 4, 2, 7)"
      ]
     },
     "execution_count": 28,
     "metadata": {},
     "output_type": "execute_result"
    }
   ],
   "source": [
    "last_bq_date"
   ]
  },
  {
   "cell_type": "code",
   "execution_count": 32,
   "metadata": {},
   "outputs": [
    {
     "name": "stdout",
     "output_type": "stream",
     "text": [
      "Uploaded 10 new games\n"
     ]
    }
   ],
   "source": [
    "if len(new_games) > 0:\n",
    "    update_table(dataset_id, server, new_games)"
   ]
  },
  {
   "cell_type": "code",
   "execution_count": null,
   "metadata": {
    "collapsed": true
   },
   "outputs": [],
   "source": []
  }
 ],
 "metadata": {
  "kernelspec": {
   "display_name": "Python 3",
   "language": "python",
   "name": "python3"
  },
  "language_info": {
   "codemirror_mode": {
    "name": "ipython",
    "version": 3
   },
   "file_extension": ".py",
   "mimetype": "text/x-python",
   "name": "python",
   "nbconvert_exporter": "python",
   "pygments_lexer": "ipython3",
   "version": "3.6.8"
  },
  "toc": {
   "base_numbering": 1,
   "nav_menu": {},
   "number_sections": true,
   "sideBar": true,
   "skip_h1_title": false,
   "title_cell": "Table of Contents",
   "title_sidebar": "Contents",
   "toc_cell": false,
   "toc_position": {},
   "toc_section_display": true,
   "toc_window_display": false
  },
  "varInspector": {
   "cols": {
    "lenName": 16,
    "lenType": 16,
    "lenVar": 40
   },
   "kernels_config": {
    "python": {
     "delete_cmd_postfix": "",
     "delete_cmd_prefix": "del ",
     "library": "var_list.py",
     "varRefreshCmd": "print(var_dic_list())"
    },
    "r": {
     "delete_cmd_postfix": ") ",
     "delete_cmd_prefix": "rm(",
     "library": "var_list.r",
     "varRefreshCmd": "cat(var_dic_list()) "
    }
   },
   "types_to_exclude": [
    "module",
    "function",
    "builtin_function_or_method",
    "instance",
    "_Feature"
   ],
   "window_display": false
  }
 },
 "nbformat": 4,
 "nbformat_minor": 2
}
