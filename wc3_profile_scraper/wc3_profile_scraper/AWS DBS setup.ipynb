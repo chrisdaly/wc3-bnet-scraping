{
 "cells": [
  {
   "cell_type": "code",
   "execution_count": 1,
   "metadata": {},
   "outputs": [
    {
     "name": "stderr",
     "output_type": "stream",
     "text": [
      "/anaconda/lib/python3.6/site-packages/psycopg2/__init__.py:144: UserWarning: The psycopg2 wheel package will be renamed from release 2.8; in order to keep installing from binary please use \"pip install psycopg2-binary\" instead. For details see: <http://initd.org/psycopg/docs/install.html#binary-install-from-pypi>.\n",
      "  \"\"\")\n"
     ]
    }
   ],
   "source": [
    "import psycopg2\n",
    "import os\n",
    "import pandas as pd\n",
    "import json\n",
    "\n",
    "os.environ['DB_TW_HOST'] =\"postgresql-ads.cqf3xto0btmg.us-east-1.rds.amazonaws.com\"\n",
    "os.environ['DB_TW_USER' ] =\"cdaly\"\n",
    "os.environ['DB_TW_PASSWORD'] = \"cookie123\""
   ]
  },
  {
   "cell_type": "code",
   "execution_count": null,
   "metadata": {
    "collapsed": true
   },
   "outputs": [],
   "source": [
    "['date', 'game_length', 'game_type', 'id', 'map', 'result', 'team_one',\n",
    "       'team_two']"
   ]
  },
  {
   "cell_type": "code",
   "execution_count": 3,
   "metadata": {
    "collapsed": true
   },
   "outputs": [],
   "source": [
    "def connect_to_aws_db():\n",
    "    host = os.environ.get('DB_TW_HOST')\n",
    "    user = os.environ.get('DB_TW_USER')\n",
    "    password = os.environ.get('DB_TW_PASSWORD')\n",
    "    data_base = 'postgres'\n",
    "    connection_string = \"host={} dbname={} user={} password={}\"\\\n",
    "        .format(host, data_base, user, password)\n",
    "    conn = psycopg2.connect(connection_string)\n",
    "    print('-- connected to RDS --')\n",
    "    return conn\n",
    "\n",
    "\n",
    "def create_companies_table(conn):\n",
    "    cur = conn.cursor()\n",
    "    try:\n",
    "        cur.execute('''CREATE TABLE IF NOT EXISTS history(\n",
    "                            date timestamp,\n",
    "                            game_length INT,\n",
    "                            game_type TEXT,\n",
    "                            id BIGINT,\n",
    "                            map TEXT,\n",
    "                            result\n",
    "                            \n",
    "                            \n",
    "                            alias TEXT,\n",
    "                            company TEXT,\n",
    "                            industry TEXT,                        \n",
    "                            PRIMARY KEY(id)\n",
    "                            )''')\n",
    "\n",
    "    except psycopg2.DatabaseError as e:\n",
    "        if conn:\n",
    "            print(e)\n",
    "            conn.rollback()\n",
    "\n",
    "    conn.commit()\n",
    "    cur.close()\n",
    "    \n",
    "def create_raw_table(conn):\n",
    "    cur = conn.cursor()\n",
    "    try:\n",
    "        cur.execute('''CREATE TABLE IF NOT EXISTS tweets_raw(\n",
    "                            company TEXT,\n",
    "                            outlet_name TEXT,\n",
    "                            author_id BIGINT,\n",
    "                            tweet_id TEXT,\n",
    "                            discovered_at timestamp,\n",
    "                            last_active_at BIGINT,\n",
    "                            issue BOOL,\n",
    "                            political BOOL,\n",
    "                            serveable BOOL,\n",
    "                            PRIMARY KEY(tweet_id, discovered_at)\n",
    "                            )''')\n",
    "\n",
    "    except psycopg2.DatabaseError as e:\n",
    "        if conn:\n",
    "            print(e)\n",
    "            conn.rollback()\n",
    "\n",
    "    conn.commit()\n",
    "    cur.close() \n",
    "\n",
    "def create_processed_table(conn):\n",
    "    cur = conn.cursor()\n",
    "    try:\n",
    "        cur.execute('''CREATE TABLE IF NOT EXISTS tweets_processed(\n",
    "                            id BIGINT,\n",
    "                            url TEXT,\n",
    "                            user_id BIGINT,\n",
    "                            user_screen_name TEXT,\n",
    "                            user_name TEXT,\n",
    "                            user_url TEXT,\n",
    "                            company TEXT,\n",
    "                            user_verified BOOL,\n",
    "                            lang TEXT,\n",
    "                            source TEXT,\n",
    "                            week_day TEXT,\n",
    "                            created_at TIMESTAMP,\n",
    "                            discovered_at TIMESTAMP,\n",
    "                            text TEXT,\n",
    "                            retweet_count BIGINT,\n",
    "                            favorite_count BIGINT,\n",
    "                            PRIMARY KEY(id, discovered_at)\n",
    "                            )''')\n",
    "\n",
    "    except psycopg2.DatabaseError as e:\n",
    "        if conn:\n",
    "            print(e)\n",
    "            conn.rollback()\n",
    "\n",
    "    conn.commit()\n",
    "    cur.close() \n",
    "    \n",
    "\n",
    "def add_data_to_companies_table(conn=None, data=None):\n",
    "    cur = conn.cursor()\n",
    "    try:\n",
    "        cur.executemany('''INSERT INTO companies VALUES(\n",
    "                    %(id)s,\n",
    "                    %(alias)s,\n",
    "                    %(company)s,\n",
    "                    %(industry)s\n",
    "                    )\n",
    "                    ''', data)\n",
    "\n",
    "    except psycopg2.DatabaseError as e:\n",
    "        if conn:\n",
    "            print(e)\n",
    "            conn.rollback()\n",
    "\n",
    "    finally:\n",
    "        conn.commit()\n",
    "        cur.close()\n",
    "        \n",
    "def add_data_to_raw_table(conn=None, data=None):\n",
    "    cur = conn.cursor()\n",
    "    try:\n",
    "        cur.executemany('''INSERT INTO tweets_raw VALUES(\n",
    "                    %(company)s,\n",
    "                    %(outlet_name)s,\n",
    "                    %(author_id)s,\n",
    "                    %(tweet_id)s,\n",
    "                    %(discovered_at)s,\n",
    "                    %(last_active_at)s,\n",
    "                    %(issue)s,\n",
    "                    %(political)s,\n",
    "                    %(serveable)s)\n",
    "                    ''', data)\n",
    "\n",
    "    except psycopg2.DatabaseError as e:\n",
    "        if conn:\n",
    "            print(e)\n",
    "            conn.rollback()\n",
    "\n",
    "    finally:\n",
    "        conn.commit()\n",
    "        cur.close()\n",
    "\n",
    "\n",
    "def add_data_to_processed_table(conn=None, data=None):\n",
    "    cur = conn.cursor()\n",
    "    try:\n",
    "        cur.executemany('''INSERT INTO tweets_processed VALUES(\n",
    "                    %(id)s,\n",
    "                    %(url)s,\n",
    "                    %(user_id)s,\n",
    "                    %(user_screen_name)s,\n",
    "                    %(user_name)s,\n",
    "                    %(user_url)s,\n",
    "                    %(company)s,\n",
    "                    %(user_verified)s,\n",
    "                    %(lang)s,\n",
    "                    %(source)s,\n",
    "                    %(week_day)s,\n",
    "                    %(created_at)s,\n",
    "                    %(discovered_at)s,\n",
    "                    %(text)s,\n",
    "                    %(retweet_count)s,\n",
    "                    %(favorite_count)s)\n",
    "                    ''', data)\n",
    "\n",
    "    except psycopg2.DatabaseError as e:\n",
    "        if conn:\n",
    "            print(e)\n",
    "            conn.rollback()\n",
    "\n",
    "    finally:\n",
    "        conn.commit()\n",
    "        cur.close()"
   ]
  },
  {
   "cell_type": "code",
   "execution_count": null,
   "metadata": {
    "collapsed": true
   },
   "outputs": [],
   "source": [
    "file_path = '../../Raw Data/Company Information/companies_of_interest.json'\n",
    "with open(file_path) as f:\n",
    "    data = json.load(f)"
   ]
  },
  {
   "cell_type": "code",
   "execution_count": 4,
   "metadata": {},
   "outputs": [
    {
     "name": "stdout",
     "output_type": "stream",
     "text": [
      "-- connected to RDS --\n"
     ]
    }
   ],
   "source": [
    "conn = connect_to_aws_db()\n",
    "create_companies_table(conn)\n",
    "create_raw_table(conn)\n",
    "create_processed_table(conn)"
   ]
  },
  {
   "cell_type": "code",
   "execution_count": 8,
   "metadata": {},
   "outputs": [
    {
     "name": "stdout",
     "output_type": "stream",
     "text": [
      "(1934702336, 'AbbottGlobal', 'Abbott', 'Pharma')\n"
     ]
    }
   ],
   "source": [
    "cur = conn.cursor()\n",
    "cur.execute(\"SELECT * FROM companies;\")\n",
    "print(cur.fetchone())"
   ]
  },
  {
   "cell_type": "code",
   "execution_count": null,
   "metadata": {
    "collapsed": true
   },
   "outputs": [],
   "source": []
  }
 ],
 "metadata": {
  "kernelspec": {
   "display_name": "Python 3",
   "language": "python",
   "name": "python3"
  },
  "language_info": {
   "codemirror_mode": {
    "name": "ipython",
    "version": 3
   },
   "file_extension": ".py",
   "mimetype": "text/x-python",
   "name": "python",
   "nbconvert_exporter": "python",
   "pygments_lexer": "ipython3",
   "version": "3.6.5"
  },
  "toc": {
   "base_numbering": 1,
   "nav_menu": {},
   "number_sections": true,
   "sideBar": true,
   "skip_h1_title": false,
   "title_cell": "Table of Contents",
   "title_sidebar": "Contents",
   "toc_cell": false,
   "toc_position": {},
   "toc_section_display": true,
   "toc_window_display": false
  },
  "varInspector": {
   "cols": {
    "lenName": 16,
    "lenType": 16,
    "lenVar": 40
   },
   "kernels_config": {
    "python": {
     "delete_cmd_postfix": "",
     "delete_cmd_prefix": "del ",
     "library": "var_list.py",
     "varRefreshCmd": "print(var_dic_list())"
    },
    "r": {
     "delete_cmd_postfix": ") ",
     "delete_cmd_prefix": "rm(",
     "library": "var_list.r",
     "varRefreshCmd": "cat(var_dic_list()) "
    }
   },
   "types_to_exclude": [
    "module",
    "function",
    "builtin_function_or_method",
    "instance",
    "_Feature"
   ],
   "window_display": false
  }
 },
 "nbformat": 4,
 "nbformat_minor": 2
}
