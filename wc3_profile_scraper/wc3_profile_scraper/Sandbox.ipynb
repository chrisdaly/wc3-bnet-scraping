{
 "cells": [
  {
   "cell_type": "code",
   "execution_count": 1,
   "metadata": {
    "collapsed": true
   },
   "outputs": [],
   "source": [
    "\"\"\"Scrapes a WC3 profile page from battlenet and returns json.\"\"\"\n",
    "from bs4 import BeautifulSoup\n",
    "import requests\n",
    "import re\n",
    "import dateparser\n",
    "import pandas as pd\n",
    "from config import data_positions"
   ]
  },
  {
   "cell_type": "code",
   "execution_count": 4,
   "metadata": {},
   "outputs": [],
   "source": [
    "class Profile:\n",
    "    def __init__(self, player, server):\n",
    "        self.player = player\n",
    "        self.server = server\n",
    "        self.params = {'PlayerName': self.player, 'Gateway': self.server}\n",
    "        self.url = 'http://classic.battle.net/war3/ladder/w3xp-player-profile.aspx?'\n",
    "        self.soup = self.get_soup()\n",
    "        self.tables = self._parse_tables()\n",
    "    \n",
    "    def get_soup(self):\n",
    "        try:\n",
    "            r = requests.get(self.url, params=self.params)\n",
    "        except requests.exceptions.RequestException as e:\n",
    "            print(e)\n",
    "            \n",
    "        return BeautifulSoup(r.content, 'lxml')\n",
    "    \n",
    "    def parse(self):\n",
    "        data = {}\n",
    "        data['info'] = self.information\n",
    "        data['individual'] = self.individual_data\n",
    "        data['team'] = self.team_data\n",
    "        data['main_race'] = self.main_race\n",
    "        return data\n",
    "    \n",
    "    def _parse_tables(self):\n",
    "        soup = self.soup.find('table', class_='mainTable')\n",
    "        tables = soup.find_all('td', {'align': 'center', 'valign': 'top'})\n",
    "        tables = dict(zip(['info', 'individual', 'team'], tables))\n",
    "        return tables\n",
    "\n",
    "    @property\n",
    "    def information(self):\n",
    "        data = {}\n",
    "        clan = self.clan\n",
    "        data['clan'] = clan\n",
    "        data['player'] = self.player\n",
    "        data['server'] = self.server\n",
    "        data['home_page'] = self.home_page\n",
    "        data['additional_info'] = self.parse_additional_info\n",
    "        data['last_ladder_game'] = self.last_ladder_game\n",
    "        return data\n",
    "    \n",
    "    @property\n",
    "    def home_page(self):\n",
    "        soup = self.tables.get('info')\n",
    "        home_page = soup.find('div', {'id': 'homePage'})\n",
    "        if home_page is None:\n",
    "            return\n",
    "        if home_page is not None:\n",
    "            return home_page.b.get_text().strip()\n",
    "   \n",
    "    @property\n",
    "    def parse_additional_info(self):\n",
    "        soup = self.tables.get('info')\n",
    "        additional_info_div = soup.find('div', {'id': 'additionalInfo'})\n",
    "        script = additional_info_div.script.get_text()\n",
    "        text_start = 'document.write(\"'\n",
    "        i = script.find(text_start)\n",
    "        if i == -1:\n",
    "            additional_info = None\n",
    "        else:\n",
    "            i += len(text_start)\n",
    "\n",
    "        text_end = '\");'\n",
    "        j = script[i:].find(text_end)\n",
    "        additional_info = script[i:i+j]\n",
    "\n",
    "        return additional_info\n",
    "\n",
    "    @property\n",
    "    def last_ladder_game(self):\n",
    "        soup = self.tables.get('info')\n",
    "        last_ladder_game = soup.find(text='Last Ladder Game:').parent.parent.b.get_text()\n",
    "        last_ladder_game = str(dateparser.parse(last_ladder_game).date())\n",
    "        return last_ladder_game\n",
    "\n",
    "    @property\n",
    "    def main_race(self):\n",
    "        soup = self.tables.get('info')\n",
    "        overall_stats_table = soup.find('td', class_='rankingHeader').parent.parent\n",
    "        rows = overall_stats_table.find_all('tr')[1:-1]\n",
    "        df = self.parse_stats_table(rows)\n",
    "        i = df['total_games'].idxmax()\n",
    "\n",
    "        if len(df[df['percentage_games'] >= 75]) != 0:\n",
    "            main_race = df[df['percentage_games'] >= 75]['race'].values[0]\n",
    "        else:\n",
    "            main_race = 'No main race'\n",
    "\n",
    "        return main_race\n",
    "\n",
    "    @staticmethod\n",
    "    def parse_stats_table(rows):\n",
    "        data = []\n",
    "        keys = ['race', 'wins', 'losses', 'win_percentage']\n",
    "\n",
    "        for row in rows:\n",
    "            row = [x.get_text().strip() for x in row.find_all('td')]\n",
    "            row = dict(zip(keys, row))\n",
    "            row['num_games'] = int(row['losses']) + int(row['wins'])\n",
    "            data.append(row)\n",
    "\n",
    "        df = pd.DataFrame(data)\n",
    "        df['percentage_games'] = df['num_games'] * 100 / sum(df['num_games'])\n",
    "        df['race'] = df['race'].apply(lambda x: x.lower().replace(':', ''))\n",
    "\n",
    "        for col in ['wins', 'losses']:\n",
    "            df[col] = df[col].astype(int)\n",
    "\n",
    "        df['total_games'] = df['losses'] + df['wins']\n",
    "\n",
    "        return df\n",
    "\n",
    "    @property\n",
    "    def individual_data(self):\n",
    "        soup = self.tables.get('individual')\n",
    "        type_ = 'individual'\n",
    "        game_types = ['Team Games', 'Solo Games', 'FFA Games']\n",
    "        vocab = {'Team Games': 'random_team', 'Solo Games': 'solo', 'FFA Games': 'free_for_all'}\n",
    "        data = {}\n",
    "\n",
    "        for game_type, new_key in vocab.items():\n",
    "            container = soup.find(text=game_type)\n",
    "            if container is not None:\n",
    "                table = container.parent.parent.parent.parent.parent\n",
    "                values = [x.get_text() for x in table.find_all('b')]\n",
    "                d = self.format_values(type_, values)\n",
    "                d['win_percentage'] = self.calc_win_percentage(d['wins'], d['losses'])\n",
    "                new_key = vocab[game_type]\n",
    "                data[new_key] = d\n",
    "\n",
    "        return data\n",
    "\n",
    "    @property\n",
    "    def team_data(self):\n",
    "        soup = self.tables.get('team')\n",
    "        type_ = 'teams'\n",
    "        teams = soup.find_all(text='Partner(s):')\n",
    "        data = []\n",
    "\n",
    "        for team in teams:\n",
    "            table = team.parent.parent.parent.parent.parent.parent.parent.parent\n",
    "            values = self.extract_values(table)\n",
    "            d = self.format_values(type_, values)\n",
    "            d['win_percentage'] = self.calc_win_percentage(d['wins'], d['losses'])\n",
    "            data.append(d)\n",
    "\n",
    "        return data\n",
    "\n",
    "    @property\n",
    "    def clan(self):\n",
    "        soup = self.soup.table.get('info')\n",
    "        if soup is None:\n",
    "            return \n",
    "        \n",
    "        clan_url = soup.find(href=re.compile('ClanTag='))\n",
    "        if clan_url is not None:\n",
    "            return clan_url.get_text()\n",
    "\n",
    "    @staticmethod\n",
    "    def format_values(type_, values):\n",
    "        fields = ['wins', 'losses', 'partners', 'level', 'rank', 'experience']\n",
    "        data = {}\n",
    "\n",
    "        for field in fields:\n",
    "            meta_data = data_positions[type_][field]\n",
    "            if not meta_data:\n",
    "                continue\n",
    "            i = meta_data['position']\n",
    "            v = values[i]\n",
    "            if not v:\n",
    "                continue\n",
    "            formatter = meta_data['function']\n",
    "            if formatter:\n",
    "                value = formatter(v)\n",
    "            else:\n",
    "                value = v\n",
    "\n",
    "            data[field] = value\n",
    "\n",
    "        return data\n",
    "    \n",
    "    @staticmethod\n",
    "    def calc_win_percentage(wins, losses):\n",
    "        win_percentage = round((100 * int(wins)) / (int(wins) + int(losses)), 2)\n",
    "        return win_percentage\n",
    "    \n",
    "    \n",
    "    @staticmethod\n",
    "    def extract_values(table):\n",
    "        values = []\n",
    "        values_old = table.find_all('b')\n",
    "\n",
    "        for i, value in enumerate(values_old):\n",
    "            if i == 3:\n",
    "                partners = [x.get_text() for x in value]\n",
    "                if len(partners) > 1:\n",
    "                    partners.remove('')\n",
    "                values.append(partners)\n",
    "\n",
    "            else:\n",
    "                values.append(value.get_text())\n",
    "\n",
    "        return values "
   ]
  },
  {
   "cell_type": "code",
   "execution_count": 5,
   "metadata": {},
   "outputs": [
    {
     "name": "stdout",
     "output_type": "stream",
     "text": [
      "-- getting soup --\n"
     ]
    },
    {
     "data": {
      "text/plain": [
       "{'individual': {'random_team': {'experience': 2115,\n",
       "   'level': 10,\n",
       "   'losses': 18,\n",
       "   'rank': None,\n",
       "   'win_percentage': 64.0,\n",
       "   'wins': 32},\n",
       "  'solo': {'experience': 20427,\n",
       "   'level': 45,\n",
       "   'losses': 231,\n",
       "   'rank': 8,\n",
       "   'win_percentage': 88.2,\n",
       "   'wins': 1727}},\n",
       " 'info': {'additional_info': 'twitter.com/YoanMerlo',\n",
       "  'clan': None,\n",
       "  'home_page': 'twitch.tv/ToD',\n",
       "  'last_ladder_game': '2018-11-15',\n",
       "  'player': 'romantichuman',\n",
       "  'server': 'northrend'},\n",
       " 'main_race': 'human',\n",
       " 'team': [{'level': 6,\n",
       "   'losses': 2,\n",
       "   'partners': ['Lado'],\n",
       "   'rank': None,\n",
       "   'win_percentage': 50.0,\n",
       "   'wins': 2},\n",
       "  {'level': 5,\n",
       "   'losses': 1,\n",
       "   'partners': ['123456789012345', 'LadoBlanco'],\n",
       "   'rank': 355,\n",
       "   'win_percentage': 50.0,\n",
       "   'wins': 1},\n",
       "  {'level': 11,\n",
       "   'losses': 0,\n",
       "   'partners': ['LUL'],\n",
       "   'rank': None,\n",
       "   'win_percentage': 100.0,\n",
       "   'wins': 6}]}"
      ]
     },
     "execution_count": 5,
     "metadata": {},
     "output_type": "execute_result"
    }
   ],
   "source": [
    "profile = Profile('romantichuman', 'northrend')\n",
    "profile.parse()"
   ]
  },
  {
   "cell_type": "code",
   "execution_count": null,
   "metadata": {
    "collapsed": true
   },
   "outputs": [],
   "source": []
  },
  {
   "cell_type": "code",
   "execution_count": null,
   "metadata": {
    "collapsed": true
   },
   "outputs": [],
   "source": []
  },
  {
   "cell_type": "code",
   "execution_count": null,
   "metadata": {
    "collapsed": true
   },
   "outputs": [],
   "source": []
  },
  {
   "cell_type": "code",
   "execution_count": null,
   "metadata": {},
   "outputs": [],
   "source": [
    "parse_main_race(tables['info'])"
   ]
  },
  {
   "cell_type": "code",
   "execution_count": null,
   "metadata": {},
   "outputs": [],
   "source": [
    "parse_last_ladder_game(tables['info'])"
   ]
  },
  {
   "cell_type": "code",
   "execution_count": null,
   "metadata": {
    "collapsed": true
   },
   "outputs": [],
   "source": [
    "additional_info = parse_additional_info(tables['info'])"
   ]
  },
  {
   "cell_type": "code",
   "execution_count": null,
   "metadata": {},
   "outputs": [],
   "source": [
    "parse_home_page(tables['info'])"
   ]
  },
  {
   "cell_type": "code",
   "execution_count": null,
   "metadata": {},
   "outputs": [],
   "source": [
    "parse_clan(tables['info'])"
   ]
  },
  {
   "cell_type": "code",
   "execution_count": null,
   "metadata": {
    "collapsed": true
   },
   "outputs": [],
   "source": []
  }
 ],
 "metadata": {
  "kernelspec": {
   "display_name": "Python 3",
   "language": "python",
   "name": "python3"
  },
  "language_info": {
   "codemirror_mode": {
    "name": "ipython",
    "version": 3
   },
   "file_extension": ".py",
   "mimetype": "text/x-python",
   "name": "python",
   "nbconvert_exporter": "python",
   "pygments_lexer": "ipython3",
   "version": "3.6.5"
  },
  "toc": {
   "base_numbering": 1,
   "nav_menu": {},
   "number_sections": true,
   "sideBar": true,
   "skip_h1_title": false,
   "title_cell": "Table of Contents",
   "title_sidebar": "Contents",
   "toc_cell": false,
   "toc_position": {},
   "toc_section_display": true,
   "toc_window_display": false
  },
  "varInspector": {
   "cols": {
    "lenName": 16,
    "lenType": 16,
    "lenVar": 40
   },
   "kernels_config": {
    "python": {
     "delete_cmd_postfix": "",
     "delete_cmd_prefix": "del ",
     "library": "var_list.py",
     "varRefreshCmd": "print(var_dic_list())"
    },
    "r": {
     "delete_cmd_postfix": ") ",
     "delete_cmd_prefix": "rm(",
     "library": "var_list.r",
     "varRefreshCmd": "cat(var_dic_list()) "
    }
   },
   "types_to_exclude": [
    "module",
    "function",
    "builtin_function_or_method",
    "instance",
    "_Feature"
   ],
   "window_display": false
  }
 },
 "nbformat": 4,
 "nbformat_minor": 2
}
