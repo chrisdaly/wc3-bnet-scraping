{
 "cells": [
  {
   "cell_type": "code",
   "execution_count": 1,
   "metadata": {
    "collapsed": true
   },
   "outputs": [],
   "source": [
    "from wc3_profile_scraper import *"
   ]
  },
  {
   "cell_type": "code",
   "execution_count": 25,
   "metadata": {
    "collapsed": true
   },
   "outputs": [],
   "source": [
    "player = 'pieck'\n",
    "server = 'northrend'\n",
    "event = {'resource': '/', 'path': '/', 'httpMethod': 'GET', 'headers': {'accept': 'application/json', 'Host': 'bqeat6w63f.execute-api.us-east-1.amazonaws.com', 'X-Amzn-Trace-Id': 'Root=1-5bee09ca-65f4c47d59fc60984c0a93eb', 'X-Forwarded-For': '18.212.29.137', 'X-Forwarded-Port': '443', 'X-Forwarded-Proto': 'https'}, 'multiValueHeaders': {'accept': ['application/json'], 'Host': ['bqeat6w63f.execute-api.us-east-1.amazonaws.com'], 'X-Amzn-Trace-Id': ['Root=1-5bee09ca-65f4c47d59fc60984c0a93eb'], 'X-Forwarded-For': ['18.212.29.137'], 'X-Forwarded-Port': ['443'], 'X-Forwarded-Proto': ['https']}, 'queryStringParameters': {'player': '{}'.format(player), 'server': '{}'.format(server)}, 'multiValueQueryStringParameters': {'player': ['boys-fuk-me'], 'server': ['nort2hrend']}, 'pathParameters': None, 'stageVariables': None, 'requestContext': {'resourceId': 'mdicp3cstd', 'resourcePath': '/', 'httpMethod': 'GET', 'extendedRequestId': 'QbZ3mHoyoAMFmCw=', 'requestTime': '16/Nov/2018:00:05:30 +0000', 'path': '/dev', 'accountId': '153852854695', 'protocol': 'HTTP/1.1', 'stage': 'dev', 'domainPrefix': 'bqeat6w63f', 'requestTimeEpoch': 1542326730241, 'requestId': '5457479a-e933-11e8-b1bd-7b60b897e033', 'identity': {'cognitoIdentityPoolId': None, 'accountId': None, 'cognitoIdentityId': None, 'caller': None, 'sourceIp': '18.212.29.137', 'accessKey': None, 'cognitoAuthenticationType': None, 'cognitoAuthenticationProvider': None, 'userArn': None, 'userAgent': None, 'user': None}, 'domainName': 'bqeat6w63f.execute-api.us-east-1.amazonaws.com', 'apiId': 'bqeat6w63f'}, 'body': None, 'isBase64Encoded': False}\n",
    "path = event.get('requestContext').get('resourcePath')\n",
    "params = event.get('queryStringParameters')"
   ]
  },
  {
   "cell_type": "code",
   "execution_count": 26,
   "metadata": {
    "collapsed": true
   },
   "outputs": [],
   "source": [
    "profile = Profile(**params)"
   ]
  },
  {
   "cell_type": "code",
   "execution_count": 27,
   "metadata": {},
   "outputs": [],
   "source": [
    "soup = profile.tables.get('info')"
   ]
  },
  {
   "cell_type": "code",
   "execution_count": 28,
   "metadata": {},
   "outputs": [
    {
     "data": {
      "text/plain": [
       "<a href=\"w3xp-clan-profile.aspx?Gateway=Northrend&amp;ClanTag=FRA\">FRA</a>"
      ]
     },
     "execution_count": 28,
     "metadata": {},
     "output_type": "execute_result"
    }
   ],
   "source": [
    "soup.find('a', href=lambda x: x and x.startswith('w3xp-clan-profile.aspx?'))"
   ]
  },
  {
   "cell_type": "code",
   "execution_count": 29,
   "metadata": {},
   "outputs": [
    {
     "data": {
      "text/plain": [
       "<a href=\"w3xp-clan-profile.aspx?Gateway=Northrend&amp;ClanTag=FRA\">FRA</a>"
      ]
     },
     "execution_count": 29,
     "metadata": {},
     "output_type": "execute_result"
    }
   ],
   "source": [
    "soup.find('a', href=lambda x: x and x.startswith('w3xp-clan-profile.aspx?'))"
   ]
  },
  {
   "cell_type": "code",
   "execution_count": null,
   "metadata": {
    "collapsed": true
   },
   "outputs": [],
   "source": []
  },
  {
   "cell_type": "code",
   "execution_count": null,
   "metadata": {
    "collapsed": true
   },
   "outputs": [],
   "source": []
  },
  {
   "cell_type": "code",
   "execution_count": 9,
   "metadata": {},
   "outputs": [
    {
     "data": {
      "text/plain": [
       "[<a href=\"http://www.battle.net/forums/war3/thread-search.aspx?ForumName=All&amp;Author=romantichuman&amp;Cluster=Northrend\" target=\"_blank\"><img alt=\"View All Posts by This User\" border=\"0\" height=\"21\" src=\"/images-new/icons/search.gif\" width=\"17\"/></a>,\n",
       " <a href=\"setup.aspx?Gateway=Northrend&amp;ReturnUrl=%2fwar3%2fladder%2fw3xp-player-profile.aspx%3fPlayerName%3dromantichuman%26Gateway%3dNorthrend\">WEST</a>,\n",
       " <a href=\"/war3/ladder/w3xp-ladder-solo.aspx?Gateway=Northrend&amp;PlayerSearch=romantichuman\">8<sup>th</sup></a>,\n",
       " <a href=\"w3xp-player-profile.aspx?Gateway=Northrend&amp;PlayerName=Lado\">Lado</a>,\n",
       " <a href=\"w3xp-player-profile.aspx?Gateway=Northrend&amp;PlayerName=123456789012345\">123456789012345</a>,\n",
       " <a href=\"w3xp-player-profile.aspx?Gateway=Northrend&amp;PlayerName=LadoBlanco\">LadoBlanco</a>,\n",
       " <a href=\"/war3/ladder/w3xp-ladder-3vs3.aspx?Gateway=Northrend&amp;TeamSearch=123456789012345%2cLadoBlanco%2cromantichuman\">359<sup>th</sup></a>,\n",
       " <a href=\"w3xp-player-profile.aspx?Gateway=Northrend&amp;PlayerName=LUL\">LUL</a>]"
      ]
     },
     "execution_count": 9,
     "metadata": {},
     "output_type": "execute_result"
    }
   ],
   "source": [
    "soup.find_all('a')"
   ]
  },
  {
   "cell_type": "code",
   "execution_count": 4,
   "metadata": {
    "collapsed": true
   },
   "outputs": [],
   "source": [
    "router = {\n",
    "    '/solo': profile.request_solo(),\n",
    "    '/random_team': profile.request_random_team(),\n",
    "    '/info': profile.request_info()\n",
    "}"
   ]
  },
  {
   "cell_type": "code",
   "execution_count": 5,
   "metadata": {},
   "outputs": [
    {
     "name": "stdout",
     "output_type": "stream",
     "text": [
      "romantichuman@Northrend | Human | SOLO, Level 45, Rank 8, 1727 Wins, 231 Losses, 88.20%\n",
      "romantichuman@Northrend | Human | RANDOM TEAM, Level 10, Unranked, 32 Wins, 18 Losses, 64.00%\n",
      "romantichuman@Northrend | Human | INFORMATION, Clan N/A, Last ladder game 2018-11-15, twitch.tv/ToD, twitter.com/YoanMerlo\n"
     ]
    }
   ],
   "source": [
    "for path in router.keys():\n",
    "    print(router.get(path))"
   ]
  },
  {
   "cell_type": "code",
   "execution_count": null,
   "metadata": {
    "collapsed": true
   },
   "outputs": [],
   "source": [
    "class MyValidationError(Exception):\n",
    "    pass\n",
    "\n",
    "def my_function(foo):\n",
    "    if foo == 1:\n",
    "        raise MyValidationError(\"My Error message\")\n",
    "    return 4"
   ]
  },
  {
   "cell_type": "code",
   "execution_count": null,
   "metadata": {
    "collapsed": true
   },
   "outputs": [],
   "source": [
    "try:\n",
    "    result = my_function(1)\n",
    "except MyValidationError as exception:\n",
    "    # handle exception here and get error message\n",
    "    print(exception)"
   ]
  },
  {
   "cell_type": "code",
   "execution_count": null,
   "metadata": {
    "collapsed": true
   },
   "outputs": [],
   "source": []
  },
  {
   "cell_type": "code",
   "execution_count": null,
   "metadata": {
    "collapsed": true
   },
   "outputs": [],
   "source": []
  },
  {
   "cell_type": "code",
   "execution_count": null,
   "metadata": {
    "collapsed": true
   },
   "outputs": [],
   "source": [
    "\"\"\"Scrapes a WC3 profile page from battlenet and returns json.\"\"\"\n",
    "from bs4 import BeautifulSoup\n",
    "import requests\n",
    "import re\n",
    "import dateparser\n",
    "import pandas as pd\n",
    "from config import data_positions"
   ]
  },
  {
   "cell_type": "code",
   "execution_count": null,
   "metadata": {
    "collapsed": true
   },
   "outputs": [],
   "source": [
    "class Profile:\n",
    "    def __init__(self, player, server):\n",
    "        self.player = player\n",
    "        self.server = server\n",
    "        self.params = {'PlayerName': self.player, 'Gateway': self.server}\n",
    "        self.url = 'http://classic.battle.net/war3/ladder/w3xp-player-profile.aspx?'\n",
    "        self.soup = self.get_soup()\n",
    "        self.tables = self._parse_tables()\n",
    "    \n",
    "    def get_soup(self):\n",
    "        try:\n",
    "            r = requests.get(self.url, params=self.params)\n",
    "        except requests.exceptions.RequestException as e:\n",
    "            print(e)\n",
    "            \n",
    "        return BeautifulSoup(r.content, 'lxml')\n",
    "    \n",
    "    def parse(self):\n",
    "        data = {}\n",
    "        data['info'] = self.information\n",
    "        data['individual'] = self.individual_data\n",
    "        data['team'] = self.team_data\n",
    "        data['main_race'] = self.main_race\n",
    "        return data\n",
    "    \n",
    "    def _parse_tables(self):\n",
    "        soup = self.soup.find('table', class_='mainTable')\n",
    "        tables = soup.find_all('td', {'align': 'center', 'valign': 'top'})\n",
    "        tables = dict(zip(['info', 'individual', 'team'], tables))\n",
    "        return tables\n",
    "\n",
    "    @property\n",
    "    def information(self):\n",
    "        data = {}\n",
    "        clan = self.clan\n",
    "        data['clan'] = clan\n",
    "        data['player'] = self.player\n",
    "        data['server'] = self.server\n",
    "        data['home_page'] = self.home_page\n",
    "        data['additional_info'] = self.parse_additional_info\n",
    "        data['last_ladder_game'] = self.last_ladder_game\n",
    "        return data\n",
    "    \n",
    "    @property\n",
    "    def home_page(self):\n",
    "        soup = self.tables.get('info')\n",
    "        home_page = soup.find('div', {'id': 'homePage'})\n",
    "        if home_page is None:\n",
    "            return\n",
    "        if home_page is not None:\n",
    "            return home_page.b.get_text().strip()\n",
    "   \n",
    "    @property\n",
    "    def parse_additional_info(self):\n",
    "        soup = self.tables.get('info')\n",
    "        additional_info_div = soup.find('div', {'id': 'additionalInfo'})\n",
    "        script = additional_info_div.script.get_text()\n",
    "        text_start = 'document.write(\"'\n",
    "        i = script.find(text_start)\n",
    "        if i == -1:\n",
    "            additional_info = None\n",
    "        else:\n",
    "            i += len(text_start)\n",
    "\n",
    "        text_end = '\");'\n",
    "        j = script[i:].find(text_end)\n",
    "        additional_info = script[i:i+j]\n",
    "\n",
    "        return additional_info\n",
    "\n",
    "    @property\n",
    "    def last_ladder_game(self):\n",
    "        soup = self.tables.get('info')\n",
    "        last_ladder_game = soup.find(text='Last Ladder Game:').parent.parent.b.get_text()\n",
    "        last_ladder_game = str(dateparser.parse(last_ladder_game).date())\n",
    "        return last_ladder_game\n",
    "\n",
    "    @property\n",
    "    def main_race(self):\n",
    "        soup = self.tables.get('info')\n",
    "        overall_stats_table = soup.find('td', class_='rankingHeader').parent.parent\n",
    "        rows = overall_stats_table.find_all('tr')[1:-1]\n",
    "        df = self.parse_stats_table(rows)\n",
    "        i = df['total_games'].idxmax()\n",
    "\n",
    "        if len(df[df['percentage_games'] >= 75]) != 0:\n",
    "            main_race = df[df['percentage_games'] >= 75]['race'].values[0]\n",
    "        else:\n",
    "            main_race = 'No main race'\n",
    "\n",
    "        return main_race\n",
    "\n",
    "    @staticmethod\n",
    "    def parse_stats_table(rows):\n",
    "        data = []\n",
    "        keys = ['race', 'wins', 'losses', 'win_percentage']\n",
    "\n",
    "        for row in rows:\n",
    "            row = [x.get_text().strip() for x in row.find_all('td')]\n",
    "            row = dict(zip(keys, row))\n",
    "            row['num_games'] = int(row['losses']) + int(row['wins'])\n",
    "            data.append(row)\n",
    "\n",
    "        df = pd.DataFrame(data)\n",
    "        df['percentage_games'] = df['num_games'] * 100 / sum(df['num_games'])\n",
    "        df['race'] = df['race'].apply(lambda x: x.lower().replace(':', ''))\n",
    "\n",
    "        for col in ['wins', 'losses']:\n",
    "            df[col] = df[col].astype(int)\n",
    "\n",
    "        df['total_games'] = df['losses'] + df['wins']\n",
    "\n",
    "        return df\n",
    "\n",
    "    @property\n",
    "    def individual_data(self):\n",
    "        soup = self.tables.get('individual')\n",
    "        type_ = 'individual'\n",
    "        game_types = ['Team Games', 'Solo Games', 'FFA Games']\n",
    "        vocab = {'Team Games': 'random_team', 'Solo Games': 'solo', 'FFA Games': 'free_for_all'}\n",
    "        data = {}\n",
    "\n",
    "        for game_type, new_key in vocab.items():\n",
    "            container = soup.find(text=game_type)\n",
    "            if container is not None:\n",
    "                table = container.parent.parent.parent.parent.parent\n",
    "                values = [x.get_text() for x in table.find_all('b')]\n",
    "                d = self.format_values(type_, values)\n",
    "                d['win_percentage'] = self.calc_win_percentage(d['wins'], d['losses'])\n",
    "                new_key = vocab[game_type]\n",
    "                data[new_key] = d\n",
    "\n",
    "        return data\n",
    "\n",
    "    @property\n",
    "    def team_data(self):\n",
    "        soup = self.tables.get('team')\n",
    "        type_ = 'teams'\n",
    "        teams = soup.find_all(text='Partner(s):')\n",
    "        data = []\n",
    "\n",
    "        for team in teams:\n",
    "            table = team.parent.parent.parent.parent.parent.parent.parent.parent\n",
    "            values = self.extract_values(table)\n",
    "            d = self.format_values(type_, values)\n",
    "            d['win_percentage'] = self.calc_win_percentage(d['wins'], d['losses'])\n",
    "            data.append(d)\n",
    "\n",
    "        return data\n",
    "\n",
    "    @property\n",
    "    def clan(self):\n",
    "        soup = self.soup.table.get('info')\n",
    "        if soup is None:\n",
    "            return \n",
    "        \n",
    "        clan_url = soup.find(href=re.compile('ClanTag='))\n",
    "        if clan_url is not None:\n",
    "            return clan_url.get_text()\n",
    "\n",
    "    @staticmethod\n",
    "    def format_values(type_, values):\n",
    "        fields = ['wins', 'losses', 'partners', 'level', 'rank', 'experience']\n",
    "        data = {}\n",
    "\n",
    "        for field in fields:\n",
    "            meta_data = data_positions[type_][field]\n",
    "            if not meta_data:\n",
    "                continue\n",
    "            i = meta_data['position']\n",
    "            v = values[i]\n",
    "            if not v:\n",
    "                continue\n",
    "            formatter = meta_data['function']\n",
    "            if formatter:\n",
    "                value = formatter(v)\n",
    "            else:\n",
    "                value = v\n",
    "\n",
    "            data[field] = value\n",
    "\n",
    "        return data\n",
    "    \n",
    "    @staticmethod\n",
    "    def calc_win_percentage(wins, losses):\n",
    "        win_percentage = round((100 * int(wins)) / (int(wins) + int(losses)), 2)\n",
    "        return win_percentage\n",
    "    \n",
    "    \n",
    "    @staticmethod\n",
    "    def extract_values(table):\n",
    "        values = []\n",
    "        values_old = table.find_all('b')\n",
    "\n",
    "        for i, value in enumerate(values_old):\n",
    "            if i == 3:\n",
    "                partners = [x.get_text() for x in value]\n",
    "                if len(partners) > 1:\n",
    "                    partners.remove('')\n",
    "                values.append(partners)\n",
    "\n",
    "            else:\n",
    "                values.append(value.get_text())\n",
    "\n",
    "        return values "
   ]
  },
  {
   "cell_type": "code",
   "execution_count": null,
   "metadata": {
    "collapsed": true
   },
   "outputs": [],
   "source": [
    "profile = Profile('romantichuman', 'northrend')\n",
    "profile.parse()"
   ]
  },
  {
   "cell_type": "code",
   "execution_count": null,
   "metadata": {
    "collapsed": true
   },
   "outputs": [],
   "source": []
  },
  {
   "cell_type": "code",
   "execution_count": null,
   "metadata": {
    "collapsed": true
   },
   "outputs": [],
   "source": []
  },
  {
   "cell_type": "code",
   "execution_count": null,
   "metadata": {
    "collapsed": true
   },
   "outputs": [],
   "source": []
  },
  {
   "cell_type": "code",
   "execution_count": null,
   "metadata": {
    "collapsed": true
   },
   "outputs": [],
   "source": [
    "parse_main_race(tables['info'])"
   ]
  },
  {
   "cell_type": "code",
   "execution_count": null,
   "metadata": {
    "collapsed": true
   },
   "outputs": [],
   "source": [
    "parse_last_ladder_game(tables['info'])"
   ]
  },
  {
   "cell_type": "code",
   "execution_count": null,
   "metadata": {
    "collapsed": true
   },
   "outputs": [],
   "source": [
    "additional_info = parse_additional_info(tables['info'])"
   ]
  },
  {
   "cell_type": "code",
   "execution_count": null,
   "metadata": {
    "collapsed": true
   },
   "outputs": [],
   "source": [
    "parse_home_page(tables['info'])"
   ]
  },
  {
   "cell_type": "code",
   "execution_count": null,
   "metadata": {
    "collapsed": true
   },
   "outputs": [],
   "source": [
    "parse_clan(tables['info'])"
   ]
  },
  {
   "cell_type": "code",
   "execution_count": null,
   "metadata": {
    "collapsed": true
   },
   "outputs": [],
   "source": []
  }
 ],
 "metadata": {
  "kernelspec": {
   "display_name": "Python 3",
   "language": "python",
   "name": "python3"
  },
  "language_info": {
   "codemirror_mode": {
    "name": "ipython",
    "version": 3
   },
   "file_extension": ".py",
   "mimetype": "text/x-python",
   "name": "python",
   "nbconvert_exporter": "python",
   "pygments_lexer": "ipython3",
   "version": "3.6.5"
  },
  "toc": {
   "base_numbering": 1,
   "nav_menu": {},
   "number_sections": true,
   "sideBar": true,
   "skip_h1_title": false,
   "title_cell": "Table of Contents",
   "title_sidebar": "Contents",
   "toc_cell": false,
   "toc_position": {},
   "toc_section_display": true,
   "toc_window_display": false
  },
  "varInspector": {
   "cols": {
    "lenName": 16,
    "lenType": 16,
    "lenVar": 40
   },
   "kernels_config": {
    "python": {
     "delete_cmd_postfix": "",
     "delete_cmd_prefix": "del ",
     "library": "var_list.py",
     "varRefreshCmd": "print(var_dic_list())"
    },
    "r": {
     "delete_cmd_postfix": ") ",
     "delete_cmd_prefix": "rm(",
     "library": "var_list.r",
     "varRefreshCmd": "cat(var_dic_list()) "
    }
   },
   "types_to_exclude": [
    "module",
    "function",
    "builtin_function_or_method",
    "instance",
    "_Feature"
   ],
   "window_display": false
  }
 },
 "nbformat": 4,
 "nbformat_minor": 2
}
